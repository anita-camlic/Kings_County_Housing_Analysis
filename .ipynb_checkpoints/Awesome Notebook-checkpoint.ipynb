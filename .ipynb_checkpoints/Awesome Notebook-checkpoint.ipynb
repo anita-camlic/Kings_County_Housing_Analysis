{
 "cells": [
  {
   "cell_type": "code",
<<<<<<< HEAD
   "execution_count": 45,
=======
   "execution_count": 257,
>>>>>>> 72e094058c14e8d81f7edd8019d5d325d54cb26e
   "metadata": {},
   "outputs": [],
   "source": [
    "import numpy as np\n",
    "import scipy.stats as stats\n",
    "import sklearn\n",
    "import pandas as pd\n",
    "import statsmodels.api as sm\n",
    "import matplotlib.pyplot as plt\n",
    "from sklearn.preprocessing import StandardScaler, OneHotEncoder, OrdinalEncoder\n",
<<<<<<< HEAD
=======
    "import seaborn as sns\n",
>>>>>>> 72e094058c14e8d81f7edd8019d5d325d54cb26e
    "\n",
    "#Team Contract\n",
    "#Decide one a Stakeholder\n",
    "#EDA\n",
    "#Plot, look into outliers,nulls\n",
    "#Decide which predictors to use for the single model and the other model "
   ]
  },
  {
   "cell_type": "code",
<<<<<<< HEAD
   "execution_count": 46,
=======
   "execution_count": 175,
>>>>>>> 72e094058c14e8d81f7edd8019d5d325d54cb26e
   "metadata": {},
   "outputs": [],
   "source": [
    "df = pd.read_csv('kc_house_data.csv')"
   ]
  },
  {
   "cell_type": "code",
<<<<<<< HEAD
   "execution_count": 131,
=======
   "execution_count": 176,
>>>>>>> 72e094058c14e8d81f7edd8019d5d325d54cb26e
   "metadata": {},
   "outputs": [],
   "source": [
    "df = df.loc[df['bedrooms'] < 7]"
   ]
  },
  {
   "cell_type": "code",
<<<<<<< HEAD
   "execution_count": 132,
=======
   "execution_count": 177,
>>>>>>> 72e094058c14e8d81f7edd8019d5d325d54cb26e
   "metadata": {},
   "outputs": [
    {
     "data": {
      "text/html": [
       "<div>\n",
       "<style scoped>\n",
       "    .dataframe tbody tr th:only-of-type {\n",
       "        vertical-align: middle;\n",
       "    }\n",
       "\n",
       "    .dataframe tbody tr th {\n",
       "        vertical-align: top;\n",
       "    }\n",
       "\n",
       "    .dataframe thead th {\n",
       "        text-align: right;\n",
       "    }\n",
       "</style>\n",
       "<table border=\"1\" class=\"dataframe\">\n",
       "  <thead>\n",
       "    <tr style=\"text-align: right;\">\n",
       "      <th></th>\n",
       "      <th>id</th>\n",
       "      <th>date</th>\n",
       "      <th>price</th>\n",
       "      <th>bedrooms</th>\n",
       "      <th>bathrooms</th>\n",
       "      <th>sqft_living</th>\n",
       "      <th>sqft_lot</th>\n",
       "      <th>floors</th>\n",
       "      <th>waterfront</th>\n",
       "      <th>view</th>\n",
       "      <th>...</th>\n",
<<<<<<< HEAD
=======
       "      <th>grade</th>\n",
       "      <th>sqft_above</th>\n",
>>>>>>> 72e094058c14e8d81f7edd8019d5d325d54cb26e
       "      <th>sqft_basement</th>\n",
       "      <th>yr_built</th>\n",
       "      <th>yr_renovated</th>\n",
       "      <th>zipcode</th>\n",
       "      <th>lat</th>\n",
       "      <th>long</th>\n",
       "      <th>sqft_living15</th>\n",
       "      <th>sqft_lot15</th>\n",
<<<<<<< HEAD
       "      <th>date_yr</th>\n",
       "      <th>age</th>\n",
=======
>>>>>>> 72e094058c14e8d81f7edd8019d5d325d54cb26e
       "    </tr>\n",
       "  </thead>\n",
       "  <tbody>\n",
       "    <tr>\n",
       "      <th>0</th>\n",
       "      <td>7129300520</td>\n",
       "      <td>10/13/2014</td>\n",
       "      <td>221900.0</td>\n",
       "      <td>3</td>\n",
       "      <td>1.00</td>\n",
       "      <td>1180</td>\n",
       "      <td>5650</td>\n",
       "      <td>1.0</td>\n",
       "      <td>NaN</td>\n",
       "      <td>NONE</td>\n",
       "      <td>...</td>\n",
<<<<<<< HEAD
       "      <td>0.0</td>\n",
       "      <td>1955</td>\n",
       "      <td>0</td>\n",
=======
       "      <td>7 Average</td>\n",
       "      <td>1180</td>\n",
       "      <td>0.0</td>\n",
       "      <td>1955</td>\n",
       "      <td>0.0</td>\n",
>>>>>>> 72e094058c14e8d81f7edd8019d5d325d54cb26e
       "      <td>98178</td>\n",
       "      <td>47.5112</td>\n",
       "      <td>-122.257</td>\n",
       "      <td>1340</td>\n",
       "      <td>5650</td>\n",
<<<<<<< HEAD
       "      <td>2014</td>\n",
       "      <td>59</td>\n",
=======
>>>>>>> 72e094058c14e8d81f7edd8019d5d325d54cb26e
       "    </tr>\n",
       "    <tr>\n",
       "      <th>1</th>\n",
       "      <td>6414100192</td>\n",
       "      <td>12/9/2014</td>\n",
       "      <td>538000.0</td>\n",
       "      <td>3</td>\n",
       "      <td>2.25</td>\n",
       "      <td>2570</td>\n",
       "      <td>7242</td>\n",
       "      <td>2.0</td>\n",
       "      <td>NO</td>\n",
       "      <td>NONE</td>\n",
       "      <td>...</td>\n",
<<<<<<< HEAD
       "      <td>400.0</td>\n",
       "      <td>1951</td>\n",
       "      <td>1991</td>\n",
=======
       "      <td>7 Average</td>\n",
       "      <td>2170</td>\n",
       "      <td>400.0</td>\n",
       "      <td>1951</td>\n",
       "      <td>1991.0</td>\n",
>>>>>>> 72e094058c14e8d81f7edd8019d5d325d54cb26e
       "      <td>98125</td>\n",
       "      <td>47.7210</td>\n",
       "      <td>-122.319</td>\n",
       "      <td>1690</td>\n",
       "      <td>7639</td>\n",
<<<<<<< HEAD
       "      <td>2014</td>\n",
       "      <td>23</td>\n",
=======
>>>>>>> 72e094058c14e8d81f7edd8019d5d325d54cb26e
       "    </tr>\n",
       "    <tr>\n",
       "      <th>2</th>\n",
       "      <td>5631500400</td>\n",
       "      <td>2/25/2015</td>\n",
       "      <td>180000.0</td>\n",
       "      <td>2</td>\n",
       "      <td>1.00</td>\n",
       "      <td>770</td>\n",
       "      <td>10000</td>\n",
       "      <td>1.0</td>\n",
       "      <td>NO</td>\n",
       "      <td>NONE</td>\n",
       "      <td>...</td>\n",
<<<<<<< HEAD
       "      <td>0.0</td>\n",
       "      <td>1933</td>\n",
       "      <td>0</td>\n",
=======
       "      <td>6 Low Average</td>\n",
       "      <td>770</td>\n",
       "      <td>0.0</td>\n",
       "      <td>1933</td>\n",
       "      <td>NaN</td>\n",
>>>>>>> 72e094058c14e8d81f7edd8019d5d325d54cb26e
       "      <td>98028</td>\n",
       "      <td>47.7379</td>\n",
       "      <td>-122.233</td>\n",
       "      <td>2720</td>\n",
       "      <td>8062</td>\n",
<<<<<<< HEAD
       "      <td>2015</td>\n",
       "      <td>82</td>\n",
=======
>>>>>>> 72e094058c14e8d81f7edd8019d5d325d54cb26e
       "    </tr>\n",
       "    <tr>\n",
       "      <th>3</th>\n",
       "      <td>2487200875</td>\n",
       "      <td>12/9/2014</td>\n",
       "      <td>604000.0</td>\n",
       "      <td>4</td>\n",
       "      <td>3.00</td>\n",
       "      <td>1960</td>\n",
       "      <td>5000</td>\n",
       "      <td>1.0</td>\n",
       "      <td>NO</td>\n",
       "      <td>NONE</td>\n",
       "      <td>...</td>\n",
<<<<<<< HEAD
       "      <td>910.0</td>\n",
       "      <td>1965</td>\n",
       "      <td>0</td>\n",
=======
       "      <td>7 Average</td>\n",
       "      <td>1050</td>\n",
       "      <td>910.0</td>\n",
       "      <td>1965</td>\n",
       "      <td>0.0</td>\n",
>>>>>>> 72e094058c14e8d81f7edd8019d5d325d54cb26e
       "      <td>98136</td>\n",
       "      <td>47.5208</td>\n",
       "      <td>-122.393</td>\n",
       "      <td>1360</td>\n",
       "      <td>5000</td>\n",
<<<<<<< HEAD
       "      <td>2014</td>\n",
       "      <td>49</td>\n",
=======
>>>>>>> 72e094058c14e8d81f7edd8019d5d325d54cb26e
       "    </tr>\n",
       "    <tr>\n",
       "      <th>4</th>\n",
       "      <td>1954400510</td>\n",
       "      <td>2/18/2015</td>\n",
       "      <td>510000.0</td>\n",
       "      <td>3</td>\n",
       "      <td>2.00</td>\n",
       "      <td>1680</td>\n",
       "      <td>8080</td>\n",
       "      <td>1.0</td>\n",
       "      <td>NO</td>\n",
       "      <td>NONE</td>\n",
       "      <td>...</td>\n",
<<<<<<< HEAD
       "      <td>0.0</td>\n",
       "      <td>1987</td>\n",
       "      <td>0</td>\n",
=======
       "      <td>8 Good</td>\n",
       "      <td>1680</td>\n",
       "      <td>0.0</td>\n",
       "      <td>1987</td>\n",
       "      <td>0.0</td>\n",
>>>>>>> 72e094058c14e8d81f7edd8019d5d325d54cb26e
       "      <td>98074</td>\n",
       "      <td>47.6168</td>\n",
       "      <td>-122.045</td>\n",
       "      <td>1800</td>\n",
       "      <td>7503</td>\n",
<<<<<<< HEAD
       "      <td>2015</td>\n",
       "      <td>28</td>\n",
       "    </tr>\n",
       "  </tbody>\n",
       "</table>\n",
       "<p>5 rows × 23 columns</p>\n",
=======
       "    </tr>\n",
       "  </tbody>\n",
       "</table>\n",
       "<p>5 rows × 21 columns</p>\n",
>>>>>>> 72e094058c14e8d81f7edd8019d5d325d54cb26e
       "</div>"
      ],
      "text/plain": [
       "           id        date     price  bedrooms  bathrooms  sqft_living  \\\n",
       "0  7129300520  10/13/2014  221900.0         3       1.00         1180   \n",
       "1  6414100192   12/9/2014  538000.0         3       2.25         2570   \n",
       "2  5631500400   2/25/2015  180000.0         2       1.00          770   \n",
       "3  2487200875   12/9/2014  604000.0         4       3.00         1960   \n",
       "4  1954400510   2/18/2015  510000.0         3       2.00         1680   \n",
       "\n",
<<<<<<< HEAD
       "   sqft_lot  floors waterfront  view  ... sqft_basement yr_built  \\\n",
       "0      5650     1.0        NaN  NONE  ...           0.0     1955   \n",
       "1      7242     2.0         NO  NONE  ...         400.0     1951   \n",
       "2     10000     1.0         NO  NONE  ...           0.0     1933   \n",
       "3      5000     1.0         NO  NONE  ...         910.0     1965   \n",
       "4      8080     1.0         NO  NONE  ...           0.0     1987   \n",
       "\n",
       "   yr_renovated zipcode      lat     long  sqft_living15  sqft_lot15  date_yr  \\\n",
       "0             0   98178  47.5112 -122.257           1340        5650     2014   \n",
       "1          1991   98125  47.7210 -122.319           1690        7639     2014   \n",
       "2             0   98028  47.7379 -122.233           2720        8062     2015   \n",
       "3             0   98136  47.5208 -122.393           1360        5000     2014   \n",
       "4             0   98074  47.6168 -122.045           1800        7503     2015   \n",
       "\n",
       "   age  \n",
       "0   59  \n",
       "1   23  \n",
       "2   82  \n",
       "3   49  \n",
       "4   28  \n",
       "\n",
       "[5 rows x 23 columns]"
      ]
     },
     "execution_count": 132,
=======
       "   sqft_lot  floors waterfront  view  ...          grade sqft_above  \\\n",
       "0      5650     1.0        NaN  NONE  ...      7 Average       1180   \n",
       "1      7242     2.0         NO  NONE  ...      7 Average       2170   \n",
       "2     10000     1.0         NO  NONE  ...  6 Low Average        770   \n",
       "3      5000     1.0         NO  NONE  ...      7 Average       1050   \n",
       "4      8080     1.0         NO  NONE  ...         8 Good       1680   \n",
       "\n",
       "   sqft_basement yr_built  yr_renovated  zipcode      lat     long  \\\n",
       "0            0.0     1955           0.0    98178  47.5112 -122.257   \n",
       "1          400.0     1951        1991.0    98125  47.7210 -122.319   \n",
       "2            0.0     1933           NaN    98028  47.7379 -122.233   \n",
       "3          910.0     1965           0.0    98136  47.5208 -122.393   \n",
       "4            0.0     1987           0.0    98074  47.6168 -122.045   \n",
       "\n",
       "   sqft_living15  sqft_lot15  \n",
       "0           1340        5650  \n",
       "1           1690        7639  \n",
       "2           2720        8062  \n",
       "3           1360        5000  \n",
       "4           1800        7503  \n",
       "\n",
       "[5 rows x 21 columns]"
      ]
     },
     "execution_count": 177,
>>>>>>> 72e094058c14e8d81f7edd8019d5d325d54cb26e
     "metadata": {},
     "output_type": "execute_result"
    }
   ],
   "source": [
    "# exploratory\n",
    "df.head()"
   ]
  },
  {
   "cell_type": "code",
<<<<<<< HEAD
   "execution_count": 265,
=======
   "execution_count": 256,
   "metadata": {},
   "outputs": [
    {
     "data": {
      "text/plain": [
       "<AxesSubplot:>"
      ]
     },
     "execution_count": 256,
     "metadata": {},
     "output_type": "execute_result"
    },
    {
     "data": {
      "image/png": "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\n",
      "text/plain": [
       "<Figure size 432x288 with 1 Axes>"
      ]
     },
     "metadata": {
      "needs_background": "light"
     },
     "output_type": "display_data"
    }
   ],
   "source": [
    "df['price'].hist(bins=30)"
   ]
  },
  {
   "cell_type": "code",
   "execution_count": 178,
   "metadata": {},
   "outputs": [
    {
     "data": {
      "text/plain": [
       "1.0    10657\n",
       "2.0     8203\n",
       "1.5     1902\n",
       "3.0      610\n",
       "2.5      157\n",
       "3.5        6\n",
       "Name: floors, dtype: int64"
      ]
     },
     "execution_count": 178,
     "metadata": {},
     "output_type": "execute_result"
    }
   ],
   "source": [
    "df['floors'].value_counts()"
   ]
  },
  {
   "cell_type": "code",
   "execution_count": 179,
   "metadata": {},
   "outputs": [
    {
     "data": {
      "text/plain": [
       "<AxesSubplot:>"
      ]
     },
     "execution_count": 179,
     "metadata": {},
     "output_type": "execute_result"
    },
    {
     "data": {
      "image/png": "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\n",
      "text/plain": [
       "<Figure size 432x288 with 1 Axes>"
      ]
     },
     "metadata": {
      "needs_background": "light"
     },
     "output_type": "display_data"
    }
   ],
   "source": [
    "df['floors'].hist()"
   ]
  },
  {
   "cell_type": "code",
   "execution_count": 180,
   "metadata": {},
   "outputs": [
    {
     "data": {
      "text/plain": [
       "1.0    10657\n",
       "2.0     8203\n",
       "1.5     1902\n",
       "3.0      610\n",
       "2.5      157\n",
       "Name: floors, dtype: int64"
      ]
     },
     "execution_count": 180,
     "metadata": {},
     "output_type": "execute_result"
    }
   ],
   "source": [
    "#drop outliers for floors - we will drop all rows 3.5\n",
    "df = df.loc[df['floors'] <= 3]\n",
    "df['floors'].value_counts()"
   ]
  },
  {
   "cell_type": "code",
   "execution_count": 181,
   "metadata": {},
   "outputs": [
    {
     "data": {
      "text/plain": [
       "<AxesSubplot:>"
      ]
     },
     "execution_count": 181,
     "metadata": {},
     "output_type": "execute_result"
    },
    {
     "data": {
      "image/png": "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\n",
      "text/plain": [
       "<Figure size 432x288 with 1 Axes>"
      ]
     },
     "metadata": {
      "needs_background": "light"
     },
     "output_type": "display_data"
    }
   ],
   "source": [
    "#checking for sqft_living outliers\n",
    "df['sqft_living'].hist(bins=20)"
   ]
  },
  {
   "cell_type": "code",
   "execution_count": 182,
   "metadata": {},
   "outputs": [
    {
     "data": {
      "text/plain": [
       "202"
      ]
     },
     "execution_count": 182,
     "metadata": {},
     "output_type": "execute_result"
    }
   ],
   "source": [
    "above_5000 = df.loc[df['sqft_living'] > 5000]\n",
    "len(above_5000)"
   ]
  },
  {
   "cell_type": "code",
   "execution_count": 183,
   "metadata": {},
   "outputs": [
    {
     "data": {
      "text/plain": [
       "354"
      ]
     },
     "execution_count": 183,
     "metadata": {},
     "output_type": "execute_result"
    }
   ],
   "source": [
    "above_4500 = df.loc[df['sqft_living'] > 4500]\n",
    "len(above_4500)"
   ]
  },
  {
   "cell_type": "code",
   "execution_count": 184,
   "metadata": {},
   "outputs": [
    {
     "data": {
      "text/plain": [
       "760"
      ]
     },
     "execution_count": 184,
     "metadata": {},
     "output_type": "execute_result"
    }
   ],
   "source": [
    "above_4000 = df.loc[df['sqft_living'] > 4000]\n",
    "len(above_4000)"
   ]
  },
  {
   "cell_type": "code",
   "execution_count": 185,
   "metadata": {},
   "outputs": [
    {
     "data": {
      "text/plain": [
       "1503"
      ]
     },
     "execution_count": 185,
     "metadata": {},
     "output_type": "execute_result"
    }
   ],
   "source": [
    "above_3500 = df.loc[df['sqft_living'] > 3500]\n",
    "len(above_3500)"
   ]
  },
  {
   "cell_type": "code",
   "execution_count": 186,
   "metadata": {},
   "outputs": [],
   "source": [
    "#removing outliers\n",
    "df = df.loc[df['sqft_living'] < 4000]"
   ]
  },
  {
   "cell_type": "code",
   "execution_count": 187,
>>>>>>> 72e094058c14e8d81f7edd8019d5d325d54cb26e
   "metadata": {},
   "outputs": [],
   "source": [
    "#Creating functions for Assumptions!\n",
    "#LINEARITY FUNCTION\n",
    "# THE RELATIONSHIP BETWEEN THE TARGET AND PREDICTOR SHOULD BE LINEAR\n",
    "def linearity_test(endog, exog):\n",
    "    predictions = sm.OLS(endog=endog, exog=exog).fit().predict(exog)\n",
    "    residuals = endog - predictions\n",
    "    fig, ax = plt.subplots()\n",
    "    ax.scatter(predictions, residuals)\n",
    "    ax.set_xlabel('predicted Y')\n",
    "    ax.set_ylabel('residual values')\n",
    "    plt.suptitle('Residuals Vs. Predictions');"
   ]
  },
  {
   "cell_type": "code",
<<<<<<< HEAD
   "execution_count": 276,
=======
   "execution_count": 188,
>>>>>>> 72e094058c14e8d81f7edd8019d5d325d54cb26e
   "metadata": {},
   "outputs": [],
   "source": [
    "# INDEPENDENCE FUNCTION\n",
    "def independence_test_DW(endog,exog):\n",
    "    ''' POarameters Taken: endog, exog\n",
    "        Returns: the durbin Watson Test Statistic\n",
    "        Details: The Durbin-Watson test statistic is calculated on the null hypothesis that there is no correlation among the errors. \n",
    "        The test statistic has a range of 0 to 4, where 2 indicates no correlation, a score less than 2 indicates a positive correlation, and a score greater than 2 indicates a negative correlation.\n",
    "    '''\n",
    "    predictions = sm.OLS(endog=endog, exog=exog).fit().predict(exog)\n",
    "    residuals = endog - predictions\n",
    "    dw = sm.stats.stattools.durbin_watson\n",
    "    return dw(residuals)"
   ]
  },
  {
   "cell_type": "code",
<<<<<<< HEAD
   "execution_count": 277,
=======
   "execution_count": 189,
>>>>>>> 72e094058c14e8d81f7edd8019d5d325d54cb26e
   "metadata": {},
   "outputs": [],
   "source": [
    "def normality_test(endog,exog):\n",
    "    ''' Checking that the errors are normally distibuted.\n",
    "    The test statistic of the Jarque-Bera test is always a positive number and if it’s far from zero, it indicates that the sample data do not have a normal distribution.\n",
    "    Omnibus P value : A minimum value of 1000 is recommended. Multiple-testing correction provides Bonferroni correction and false discovery rate (FDR). A significance level must be specified in the significance level (a).\n",
    "    '''\n",
<<<<<<< HEAD
    "    model = sm.OLS(endog=endog, exog=exog).fit()\n",
    "    return model.summary().tables[2]"
=======
    "    predictions = sm.OLS(endog=endog, exog=exog).fit().predict(exog)\n",
    "    model = sm.OLS(endog=endog, exog=exog).fit()\n",
    "    residuals = endog - predictions\n",
    "    residuals.hist(bins=20);"
>>>>>>> 72e094058c14e8d81f7edd8019d5d325d54cb26e
   ]
  },
  {
   "cell_type": "code",
<<<<<<< HEAD
   "execution_count": 278,
=======
   "execution_count": 190,
>>>>>>> 72e094058c14e8d81f7edd8019d5d325d54cb26e
   "metadata": {},
   "outputs": [],
   "source": [
    "def homoskedasticity_test(endog,exog):\n",
    "    ''' Often when errors are heteroskedastic they will be greater for greater values of the target. If the target has an exponential distribution, with lots of small values and few large values, then the model will tend to focus on the smaller values in calculating its betas, producing volatility for the higher end of the spectrum. And so we'll see greater divergence in the errors for larger values of the target.\n",
    "    \n",
    "    '''\n",
    "    predictions = sm.OLS(endog=endog, exog=exog).fit().predict(exog)\n",
    "    residuals = endog - predictions\n",
    "    fig, ax = plt.subplots()\n",
    "    ax.scatter(endog, residuals)\n",
    "    ax.set_xlabel('Y values')\n",
    "    ax.set_ylabel('Residual Values')\n",
    "    plt.suptitle('Residuals Vs. Predictions');"
   ]
  },
  {
   "cell_type": "code",
   "execution_count": null,
   "metadata": {},
   "outputs": [],
   "source": []
  },
  {
   "cell_type": "code",
<<<<<<< HEAD
   "execution_count": 279,
=======
   "execution_count": 191,
>>>>>>> 72e094058c14e8d81f7edd8019d5d325d54cb26e
   "metadata": {
    "scrolled": true
   },
   "outputs": [
    {
     "data": {
      "text/html": [
       "<table class=\"simpletable\">\n",
       "<caption>OLS Regression Results</caption>\n",
       "<tr>\n",
<<<<<<< HEAD
       "  <th>Dep. Variable:</th>          <td>price</td>      <th>  R-squared:         </th>  <td>   0.492</td>  \n",
       "</tr>\n",
       "<tr>\n",
       "  <th>Model:</th>                   <td>OLS</td>       <th>  Adj. R-squared:    </th>  <td>   0.491</td>  \n",
       "</tr>\n",
       "<tr>\n",
       "  <th>Method:</th>             <td>Least Squares</td>  <th>  F-statistic:       </th>  <td>2.075e+04</td> \n",
=======
       "  <th>Dep. Variable:</th>          <td>price</td>      <th>  R-squared:         </th>  <td>   0.376</td>  \n",
       "</tr>\n",
       "<tr>\n",
       "  <th>Model:</th>                   <td>OLS</td>       <th>  Adj. R-squared:    </th>  <td>   0.376</td>  \n",
       "</tr>\n",
       "<tr>\n",
       "  <th>Method:</th>             <td>Least Squares</td>  <th>  F-statistic:       </th>  <td>1.250e+04</td> \n",
>>>>>>> 72e094058c14e8d81f7edd8019d5d325d54cb26e
       "</tr>\n",
       "<tr>\n",
       "  <th>Date:</th>             <td>Tue, 25 Oct 2022</td> <th>  Prob (F-statistic):</th>   <td>  0.00</td>   \n",
       "</tr>\n",
       "<tr>\n",
<<<<<<< HEAD
       "  <th>Time:</th>                 <td>13:40:10</td>     <th>  Log-Likelihood:    </th> <td>-2.9815e+05</td>\n",
       "</tr>\n",
       "<tr>\n",
       "  <th>No. Observations:</th>      <td> 21472</td>      <th>  AIC:               </th>  <td>5.963e+05</td> \n",
       "</tr>\n",
       "<tr>\n",
       "  <th>Df Residuals:</th>          <td> 21470</td>      <th>  BIC:               </th>  <td>5.963e+05</td> \n",
=======
       "  <th>Time:</th>                 <td>17:46:17</td>     <th>  Log-Likelihood:    </th> <td>-2.8441e+05</td>\n",
       "</tr>\n",
       "<tr>\n",
       "  <th>No. Observations:</th>      <td> 20762</td>      <th>  AIC:               </th>  <td>5.688e+05</td> \n",
       "</tr>\n",
       "<tr>\n",
       "  <th>Df Residuals:</th>          <td> 20760</td>      <th>  BIC:               </th>  <td>5.688e+05</td> \n",
>>>>>>> 72e094058c14e8d81f7edd8019d5d325d54cb26e
       "</tr>\n",
       "<tr>\n",
       "  <th>Df Model:</th>              <td>     1</td>      <th>                     </th>      <td> </td>     \n",
       "</tr>\n",
       "<tr>\n",
       "  <th>Covariance Type:</th>      <td>nonrobust</td>    <th>                     </th>      <td> </td>     \n",
       "</tr>\n",
       "</table>\n",
       "<table class=\"simpletable\">\n",
       "<tr>\n",
       "       <td></td>          <th>coef</th>     <th>std err</th>      <th>t</th>      <th>P>|t|</th>  <th>[0.025</th>    <th>0.975]</th>  \n",
       "</tr>\n",
       "<tr>\n",
<<<<<<< HEAD
       "  <th>const</th>       <td>-4.342e+04</td> <td> 4412.719</td> <td>   -9.840</td> <td> 0.000</td> <td>-5.21e+04</td> <td>-3.48e+04</td>\n",
       "</tr>\n",
       "<tr>\n",
       "  <th>sqft_living</th> <td>  280.6501</td> <td>    1.948</td> <td>  144.061</td> <td> 0.000</td> <td>  276.832</td> <td>  284.469</td>\n",
=======
       "  <th>const</th>       <td> 5.735e+04</td> <td> 4255.237</td> <td>   13.477</td> <td> 0.000</td> <td>  4.9e+04</td> <td> 6.57e+04</td>\n",
       "</tr>\n",
       "<tr>\n",
       "  <th>sqft_living</th> <td>  225.5214</td> <td>    2.017</td> <td>  111.815</td> <td> 0.000</td> <td>  221.568</td> <td>  229.475</td>\n",
>>>>>>> 72e094058c14e8d81f7edd8019d5d325d54cb26e
       "</tr>\n",
       "</table>\n",
       "<table class=\"simpletable\">\n",
       "<tr>\n",
<<<<<<< HEAD
       "  <th>Omnibus:</th>       <td>14644.608</td> <th>  Durbin-Watson:     </th>  <td>   1.980</td> \n",
       "</tr>\n",
       "<tr>\n",
       "  <th>Prob(Omnibus):</th>  <td> 0.000</td>   <th>  Jarque-Bera (JB):  </th> <td>525942.628</td>\n",
       "</tr>\n",
       "<tr>\n",
       "  <th>Skew:</th>           <td> 2.806</td>   <th>  Prob(JB):          </th>  <td>    0.00</td> \n",
       "</tr>\n",
       "<tr>\n",
       "  <th>Kurtosis:</th>       <td>26.588</td>   <th>  Cond. No.          </th>  <td>5.64e+03</td> \n",
       "</tr>\n",
       "</table><br/><br/>Notes:<br/>[1] Standard Errors assume that the covariance matrix of the errors is correctly specified.<br/>[2] The condition number is large, 5.64e+03. This might indicate that there are<br/>strong multicollinearity or other numerical problems."
=======
       "  <th>Omnibus:</th>       <td>9077.535</td> <th>  Durbin-Watson:     </th> <td>   1.964</td> \n",
       "</tr>\n",
       "<tr>\n",
       "  <th>Prob(Omnibus):</th>  <td> 0.000</td>  <th>  Jarque-Bera (JB):  </th> <td>79199.294</td>\n",
       "</tr>\n",
       "<tr>\n",
       "  <th>Skew:</th>           <td> 1.886</td>  <th>  Prob(JB):          </th> <td>    0.00</td> \n",
       "</tr>\n",
       "<tr>\n",
       "  <th>Kurtosis:</th>       <td>11.793</td>  <th>  Cond. No.          </th> <td>6.01e+03</td> \n",
       "</tr>\n",
       "</table><br/><br/>Notes:<br/>[1] Standard Errors assume that the covariance matrix of the errors is correctly specified.<br/>[2] The condition number is large, 6.01e+03. This might indicate that there are<br/>strong multicollinearity or other numerical problems."
>>>>>>> 72e094058c14e8d81f7edd8019d5d325d54cb26e
      ],
      "text/plain": [
       "<class 'statsmodels.iolib.summary.Summary'>\n",
       "\"\"\"\n",
       "                            OLS Regression Results                            \n",
       "==============================================================================\n",
<<<<<<< HEAD
       "Dep. Variable:                  price   R-squared:                       0.492\n",
       "Model:                            OLS   Adj. R-squared:                  0.491\n",
       "Method:                 Least Squares   F-statistic:                 2.075e+04\n",
       "Date:                Tue, 25 Oct 2022   Prob (F-statistic):               0.00\n",
       "Time:                        13:40:10   Log-Likelihood:            -2.9815e+05\n",
       "No. Observations:               21472   AIC:                         5.963e+05\n",
       "Df Residuals:                   21470   BIC:                         5.963e+05\n",
=======
       "Dep. Variable:                  price   R-squared:                       0.376\n",
       "Model:                            OLS   Adj. R-squared:                  0.376\n",
       "Method:                 Least Squares   F-statistic:                 1.250e+04\n",
       "Date:                Tue, 25 Oct 2022   Prob (F-statistic):               0.00\n",
       "Time:                        17:46:17   Log-Likelihood:            -2.8441e+05\n",
       "No. Observations:               20762   AIC:                         5.688e+05\n",
       "Df Residuals:                   20760   BIC:                         5.688e+05\n",
>>>>>>> 72e094058c14e8d81f7edd8019d5d325d54cb26e
       "Df Model:                           1                                         \n",
       "Covariance Type:            nonrobust                                         \n",
       "===============================================================================\n",
       "                  coef    std err          t      P>|t|      [0.025      0.975]\n",
       "-------------------------------------------------------------------------------\n",
<<<<<<< HEAD
       "const       -4.342e+04   4412.719     -9.840      0.000   -5.21e+04   -3.48e+04\n",
       "sqft_living   280.6501      1.948    144.061      0.000     276.832     284.469\n",
       "==============================================================================\n",
       "Omnibus:                    14644.608   Durbin-Watson:                   1.980\n",
       "Prob(Omnibus):                  0.000   Jarque-Bera (JB):           525942.628\n",
       "Skew:                           2.806   Prob(JB):                         0.00\n",
       "Kurtosis:                      26.588   Cond. No.                     5.64e+03\n",
=======
       "const        5.735e+04   4255.237     13.477      0.000     4.9e+04    6.57e+04\n",
       "sqft_living   225.5214      2.017    111.815      0.000     221.568     229.475\n",
       "==============================================================================\n",
       "Omnibus:                     9077.535   Durbin-Watson:                   1.964\n",
       "Prob(Omnibus):                  0.000   Jarque-Bera (JB):            79199.294\n",
       "Skew:                           1.886   Prob(JB):                         0.00\n",
       "Kurtosis:                      11.793   Cond. No.                     6.01e+03\n",
>>>>>>> 72e094058c14e8d81f7edd8019d5d325d54cb26e
       "==============================================================================\n",
       "\n",
       "Notes:\n",
       "[1] Standard Errors assume that the covariance matrix of the errors is correctly specified.\n",
<<<<<<< HEAD
       "[2] The condition number is large, 5.64e+03. This might indicate that there are\n",
=======
       "[2] The condition number is large, 6.01e+03. This might indicate that there are\n",
>>>>>>> 72e094058c14e8d81f7edd8019d5d325d54cb26e
       "strong multicollinearity or other numerical problems.\n",
       "\"\"\""
      ]
     },
<<<<<<< HEAD
     "execution_count": 279,
=======
     "execution_count": 191,
>>>>>>> 72e094058c14e8d81f7edd8019d5d325d54cb26e
     "metadata": {},
     "output_type": "execute_result"
    }
   ],
   "source": [
    "simple_X = df['sqft_living']\n",
    "simple_Y = df['price']\n",
    "simple_X_cons = sm.add_constant(simple_X)\n",
    "simple_model = sm.OLS(endog = simple_Y, exog = simple_X_cons).fit()\n",
    "simple_model.summary()"
   ]
  },
  {
   "cell_type": "code",
<<<<<<< HEAD
   "execution_count": 275,
=======
   "execution_count": 192,
>>>>>>> 72e094058c14e8d81f7edd8019d5d325d54cb26e
   "metadata": {},
   "outputs": [
    {
     "data": {
<<<<<<< HEAD
      "image/png": "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\n",
=======
      "image/png": "iVBORw0KGgoAAAANSUhEUgAAAYoAAAEjCAYAAAAsbUY2AAAAOXRFWHRTb2Z0d2FyZQBNYXRwbG90bGliIHZlcnNpb24zLjMuMSwgaHR0cHM6Ly9tYXRwbG90bGliLm9yZy/d3fzzAAAACXBIWXMAAAsTAAALEwEAmpwYAABAoElEQVR4nO2df5wcdXn4389tNrAXIJdIUHKQBBGTlzGQwAnRWCVUiYDgFcVIsf6oldrWtqBNDUpNsPRL2mil1lbEakUFTAJ4BoMNKtQfUdALlxCjpPIjITlQIskFyF3I5vJ8/5iZy+zezOzM7szu3t3zfr0u2Z2ZnXl2dvfzfD7PT1FVDMMwDCOMlkYLYBiGYTQ3pigMwzCMSExRGIZhGJGYojAMwzAiMUVhGIZhRGKKwjAMw4jEFIXRFIjIFSJyb8T+/xWRP0vhOueKyK5azzMSEJEZIqIiMs59/l0ReW8V55kmIi+ISC59KY2RgCkKIzEisl1EBtzB47ci8lUROaaWc6rqrap6floypomIXCMiPwrYfryIHBSRV9dw7veJyKB7L58TkU0i8tbaJA5GVS9Q1VtiyLRdRN7ke92TqnqMqg5mIZfR/JiiMKrlYlU9BpgLzAOuaaw4mfJ14HUickrZ9ncBW1T1lzWe/2fuvWwDvgysFpHJ5Qd5KwPDqDemKIyaUNXfAutxFAYAIjJfRH4qIn0isllEzvXte5+IPC4iz4vIEyJyhW/7T3zHvVlEHhGRfSLyeUB8+5aLyDd8z8tNLO8XkV+713hcRP48TH4R+ZiI9LrHbhORPwx4j7uA+4A/Kdv1HuAW9zyvEJEfuvL+XkRWxbl/Zdc5DHwFKAAvd9/nHSLyDRF5DnifiEwUkS+LyNOu3Nd7JiERyYnIp93rPw5cVPZeS8x3IvJB3336lYicKSJfB6YBd7urnL8PuL9TRWStiOwRkUdF5IO+cy4XkdUi8jX3vFtFpCPJ/TaaD1MURk2IyEnABcCj7vN2YB1wPTAZ+DvgThGZIiITgM8BF6jqscDrgE0B5zweuBO4FjgeeAxYkECsZ4C3AscB7wc+KyJnBlxnJvBh4DWuPIuA7SHnvAWfonBfOxe43d30j8C9wCTgJODfE8jrnXMc8GfAC8Bv3M1vA+7AWW3c6spxCHgFzkrufPc1AB/Eed/zgA7gHRHXugxYjqPsjgMuAZ5V1T8BnsRdMarqvwS8/HZgFzDVvcb/KxvwLwG+6cq8Fvi8e80k99toIkxRGNXSJSLPAztxBuZl7vZ3A/eo6j2qelhVvwd0Axe6+w8DrxaRgqo+rapbA859IfArVb1DVYvAjcBv4wqmqutU9TF1+CHOAP4HAYcOAkcBrxKRvKpuV9XHQk77LeClIvI69/l7gO+q6m73eRGYDkxV1QOq+pOgk4QwX0T6cN7j5cAfqeo+d9/PVLXLXW0ch6OUr1LV/ar6DPBZHBMYwDuBG1V1p6ruAW6IuOafAf+iqr9w79OjqrqjkqAicjLweuBj7vvcBPwXpautn7if/yCO2e4Md3uS+200EaYojGrpdGeF5wKzcGb+4AyWl7lmpz53AHw9cKKq7gcWAx8CnhaRdSIyK+DcU3EUEADqVK7cGXBcICJygYg84JpG+nAUz/Hlx6nqo8BVODPrZ0TkmyIyNeicqtoPrAHeIyICXIFrdnL5exzz2M9dc8ufxpUXeEBV21T1eFWdr6rf9+3zv+/pQB7n3nn39ovACe7+qWXHRw38J+Os1JIyFdijqs+XXafd99yv1PuBo0VkXJL7bTQXpiiMmnBn7F8FPu1u2gl83R34vL8JqrrCPX69qr4ZOBF4BPhSwGmfxhnIAHAH5pN9+/cDrb7nL/MdexSO2erTwEtVtQ24B5+Po0z+21T19TiDsAL/HPF2b8GZtb8ZOBb4ju88v1XVD6rqVODPgf8UkVdEnCsu/vLOO4EXgeN99/Y4VZ3t7i+5bzi+hjB2AqfGuGY5TwGTReTYsuv0RrzmyImT3W+jSTBFYaTBjcCbRWQu8A3gYhFZ5DpXjxYnd+EkEXmpiFzi+ipexLHFB4VcrgNmi8ilrt3+b/ApAxy/xhvEie+fSGnE1Xgc88Zu4JCIXIBjxx+GiMwUkfNc5XIAGAiRx+PHQB9wM/BNVT3oO9dlrr8GYC/OIJhqOKmqPo1jRvuMiBwnIi0icqqIvNE9ZDXwN+69ngQsjTjdfwF/JyJnicMrRGS6u+93wMtDZNgJ/BS4wf1sTwc+gOM/iaSK+200CaYojJpx7fRfA/7BHUjeBnwcZ7DeCSzB+a61AB/FmZXuAd4I/GXA+X4PXAasAJ4FTgM2+PZ/D1gFPAxspHRm/zyOYlmNM2D/MY5DNYij3Gv8HsdccoIrd9j7VPd9Tnf/9/Ma4EERecG93t+q6hMArinqirDzJuQ9OMrwVzjv7w6c1Rk4q7P1wGbgIeCuiPeyBvgn4DbgeaALJ/gAHN/Gta556+8CXn45MAPnc/wWsMz9TCqR6H4bzYNY4yLDMAwjCltRGIZhGJGYojAMwzAiMUVhGIZhRGKKwjAMw4jEFIVhGIYRiSkKwzAMIxJTFIZhGEYko1ZRiMhXROQZEYnVK0BE3umWWt4qIrdlLZ9hGMZIYdQm3InIG3BKRHxNVSM7kInIaTiZvOep6l4ROcGtzGkYhjHmGbUrClX9EU6ZiCHcujj/IyIbReTHvsqlHwT+Q1X3uq81JWEYhuEyahVFCDcDf62qZ+E01PlPd/srgVeKyAa3PPVbGiahYRhGkzFmevCKyDE4HdXWOFWrAadIGTj34TSc3gonAT8WkVeral+dxTQMw2g6xoyiwFk99anq3IB9u3CaxxSBJ0RkG47i+EUd5TMMw2hKxozpSVWfw1ECl4HTDEdEvBaNXcBCd/vxOKaoxxshp2EYRrMxahWFiNwO/AyYKSK7ROQDOO0rPyAim4GtOH0TwKnh/6yI/Aq4H1iiqs82Qm7DMIxmY9SGxxqGYRjpMGpXFIZhGEY6jEpn9vHHH68zZsxotBiGYRgjho0bN/5eVacE7RuVimLGjBl0d3c3WgzDMIwRg4jsCNtnpifDMAwjElMUhmEYRiSmKAzDMIxITFEYhmEYkZiiMAzDMCIZlVFPhmEYo5Gunl5Wrt/GU30DTG0rsGTRTDrntWd+XVMUhmEYI4Cunl6uuWsLA8VBAHr7Brjmri0AmSsLMz0ZhmGMAFau3zakJDwGioOsXL8t82ubojAMwxgBPNU3ELi9N2R7mpiiMAzDGAFMbSsEbhccs1SWmKIwDMMYASxZNBMJ2K6QufnJFIVhGMYIoHNeO2FNIcLMUmlhisIwDGOE0B5ifgozS6WFKQrDMIwRwpJFMynkcyXbCvkcSxbNzPS6lkdhGIYxQvDyJeqddGeKwjAMYwTROa+9LtnYfhqmKETkZOBrwMuAw8DNqvpvZccI8G/AhUA/8D5VfajeshqGYTSSRpXu8GjkiuIQ8FFVfUhEjgU2isj3VPVXvmMuAE5z/84BvuD+bxiGMWJJMvA3snSHR8Oc2ar6tLc6UNXngV8D5e/6bcDX1OEBoE1ETqyzqIZhGKnhDfy9fQMoRwb+sKS5Rpbu8GiKqCcRmQHMAx4s29UO7PQ938VwZWIYhjFiSDrwh+VIZJ074afhikJEjgHuBK5S1efKdwe8JDDnRESuFJFuEenevXt32mIahmGkQtKBPyxHIuvcCT8NVRQiksdREreq6l0Bh+wCTvY9Pwl4KuhcqnqzqnaoaseUKVPSF9YwDCMFkg78jcqd8NMwReFGNH0Z+LWq/mvIYWuB94jDfGCfqj5dNyENwzBSJunA3zmvnRsunUN7WwHByc6+4dI5YybqaQHwJ8AWEdnkbvs4MA1AVW8C7sEJjX0UJzz2/fUX0zAMIz2qSZprRO6EH1ENKzM1cuno6NDu7u5Gi2EYhjFiEJGNqtoRtK/hzmzDMAyjuTFFYRiGYURiisIwDMOIxBSFYRiGEYkpCsMwDCMSUxSGYRhGJKYoDMMwjEhMURiGYRiRWIc7wzBGHUn7PTSyKVCzywOmKAzDGGUkafTTDE2B0pAna+VipifDMEYVSfo9NENToFrlSdoIqRpMURiGMapI0u+hGZoCxblulDz1UHamKAzDGFUk6ffQDE2B4lw3Sp56KDtTFIZhjCqS9HtohqZAtcpTD2VnzmzDMEYVYf0eABasuC/Q4dssUUbVyLNk0cwSBzikr+ysH4VhGKOe8mgicAbTeneKy4o0op6i+lHYisIwjIZQz3yBKIfvaFAUWXfAM0VhGEbdqXf+QlyHr195TSzkEYG+/mLDTVKNxhSFYRh1p94z/KltBXoDlIXf4VuuvPoGikP70lBkXT29LF+7dei8k1rzLLt49ohQPhb1ZBhG3al3/kKcaKIg5eWnltyErp5elqzZXKJ89vYXWXLH5lQT47LCFIVhGHWn3vkLnfPaueHSObS3FRCgva0wzJEdR0lVq8hWrt9G8fDwwKHioDYsCzwJZnoyDKPupBnSGdcpXsnhG2aeKj+mGqIUTKOywJNgKwrDMOpOnBl+HNKscxRknvJTS25ClIJpVBZ4EmxFYRhGQ0gjpDMNp7h/RdLWmueocS3sGyimGvW0ZNFMlqzZPMz8lM9Jw7LAk2CKwjCMEUutTvHySKe9/UUK+RyfXTw31Wgk71wjNerJFIVhGCOWOGGvUdQzTDeLpLh6JS2aj8IwjBFLrUX9mq3MeBLq0YfCw1YUhmGMWGot6pdkRdJs7VXruRpqqKIQka8AbwWeUdVXB+w/F/g28IS76S5V/VTdBDQMo6HEGXCDTDpxB+q4YbrN2F61nquhRpuevgq8pcIxP1bVue6fKQnDGCNUa1pJ8rq4YbrN2F61nkmLDV1RqOqPRGRGI2UwDKM5qda0Eud1SU1DSWbvYUl7Ucl81Ziq6tGHwqPRK4o4vFZENovId0VkdthBInKliHSLSPfu3bvrKZ9hGBlQrWml0uuqWakkmb3nRAKPDdte7copraTFODS7ongImK6qZwD/DnSFHaiqN6tqh6p2TJkypV7yGYaREdWaViq9rhrTUJLoqsGQZnBh22sxVXXOa2fD0vN4YsVFbFh6XmY5GU2tKFT1OVV9wX18D5AXkeMbLJZhGHWg2tDXSq+rZqWSZPbeHqKowraPhBDdpg6PFZGXAb9TVRWRs3EU27MNFsswjDpQbehrpdeFhcQqMGPpOtoKeZZfMjxjOm7CXFLfQa1Jg/Wg0eGxtwPnAseLyC5gGZAHUNWbgHcAfyEih4AB4F06Gpt8G4ZRQrlzN2lJjahBPWgg99M3UGTJms1D50lKUgVXT6d0tchoHHc7Ojq0u7u70WIYhlEF5XkI4AycaTpqPUVUqax4e51aoNazf3gYIrJRVTsC95miMAyjmViw4r7AAby9rcCGpeeleq1Tlq6j0giYtpJqVqIURVP7KAzDGHtk7dz1z95bREKjkTyy7OU9UjBFYRhjkGYwdYQR17lbzXsoN2tVUhIecZRUM9/TWjFFYRhjjHrVIqqWOM7dat9DUM5CHDwl5VcG/sZGEwt59h88RHFQE8lTK/VSTuajMIxRSNQAUk8fQLVUGgDD3gNEO6Dj+CTK8XwUQGS0VJgsYfe01kE+bae/+SgMYwxRabY9EhK8KuUsRMkaNZsPM2u1FfK8eOhwoBI4apyTl1zNaiRMzqQroiClUs8y402dmW0YRnIqlYTIsupoV08vC1bcxylL17FgxX2ZNNGByrKGlcAIy9pefsnsocxrAH9Vpr6B4lAtprTkTFK2I6wWVJg8o7HMuGEYKVNpxVBrV7gwgga0q1dt4tquLTWdN4ig91BO0H2IKsXh1U1qbysMM08NFAdDi/qFEXVPwz6j3r6BYco1TKmEyTPqyowbhpE+laKGau0KF0bQgKbArQ88Scf0yamaQ/zvIWxmHTZgVmvWGlSlkM+Fmp/yLcIxR4+jr79Y8Z6GfUbAMBNUEnmyyuhOpChEpAU4RlWfS10SwzBSIU7UUNy6RUkIG9AUYtnNkzp3vfcQ5tStdsAMG8Tbfb6B8qinpMo2qoxIuZ8hrjxZRj1VVBQichvwIWAQ2AhMFJF/VdWVqUtjGEbNVLNiSCPMMmqWXMluXkvIbtorpChFG3StZRcPLyBYCe/4q1ZtCtzvv1+V5KlHSHPF8FgR2aSqc0XkCuAs4GPARlU9PXPpqsTCYw2jMv56RwIldvlqwiy7enq5etWmwPDTSqG3zRayG6Y40w5JDXvfk1rztI4fN3T9hbOmcP8juzNdOdQaHpsXkTzQCXxeVYsiMvqSLwxjDFE+4AU5b5OGWXbOa6d7xx5ufeDJYUqnkhmo2UJ2w2bqaYekBq0W8jnhhQOH2NtfBJzV1Z0bextabypO1NMXge3ABOBHIjIdMB+FYYxg4uQExB2k/SGx9z+ymyvmT0vcnjPLkN00SVuhBUVhTRg/juLhUtU9UBzkuru3VnWNNKi4olDVzwGf823aISILsxPJMIysiTOwxRmkg3wL1cx+o+zwzVRDKYsmQ+Wrl1OWrgs8bm9/ka6e3oa894orChF5qYh8WUS+6z5/FfDezCUzDCMzKg1scaOGaun37CcsvwFgyZrNJbkZS9ZsziyRrxJB+RviypVWgmHUZ5P0vqZFHNPTV4H1wFT3+f8BV2Ukj2EYZWSR7Rw24EE8c5EnUxrZwdd2beHUa+7hqlWb+O2+A7zu1MkAXL1qE1ev3jTMDFM8rCxf2xgzjF+hASVBAF6kVq2fT5SCbpTPJo4z+3hVXS0i1wCo6iERSV5+0TCMxGRV6bWWkNKgyJ9ygmbFQSak7h17+MYDTw4dM6jKhsf2HHlRSNhM30Cxopxxrl9tbkfnvPZARZlGraXOee0sX7s18D02ymcTR1HsF5GX4H5kIjIf2JepVIZhAOlH2fipNga/kiM8yLfQ1prnhQOHhlYHnsJ78VD1c84FK+6rWrnFUbiNLK64/JLZTdVHO47p6SPAWuBUEdkAfA3460ylMgwDSD/KJg0zVtS1/b4Ff92nvf3FwEiewzUE2icx9VTjS2lUcUVPwfrrOcWNHsuKOFFPD4nIG4GZOCa5baqafN1nGEZi0oyyScuMNbGQDzSL+JPjFqy4r6oGQUmJu7qKq3D9q6AwHeYvrpj2rD+oA195VngjiBP19B7gj3Gyss8ELne3GYaRMUkrvUatGNKIUOrq6WX/wUPDtudbZEimrp7e2CW5C/naC1jXEurr315e/bbSuaIq0VZDV08vH129OZUosrSJ46N4je/x0cAfAg/hmKAMw8iQJE7noBXD1as20b1jD9d3zknFjLVy/bahdp9+jjl6XEmJizh4pS+6d+zh9gd3MqiKACIkMkkF9dK+7u6tQ5nNbYU8bz3jRO7c2Bs5+4+ThJhVcUXvvoX18G50U6k4pqcSf4SITAS+nplEhmGUEHcwqlTmOw0zVtiA1ecOypUGWy8EtzyC6PrOOUPHRDnBywnqpb3kjs0lyqxvoMiqn+9k8dknR9ZLihqMpUzmtKl036a2FRqaeFhNP4p+4LS0BTEMozYqlfkOsqkLsHDWlNiDUCVlE2fm+8SKiyL3lyvGcsWhCvsGgkt7h614ioeV+x/ZHVlgMKqcd9Tr0hjAo+5bIZ9j4awpLFmzuSRqbMmazUBtYdJxiVNm/G6ORDO3AK8CVmcplGEYyalU5juoaJ8Cq36+k1W/2Dk0wEY5uSs5cKNk8PYnJYl5J2rAraTEqnFOpxUgEHbfciLccOkclq/dGpp4WA9FEceT9GngM+7fDcAbVHVpplIZhgEkC2ddsmgmYc06vQH6/kd2D3PUFg/rsFl4mAO1kgM3qkWpt3rJkihFVElJVeOcTquESVjQwmfeeQad89pDEwz7BoqZ9ib3iOOj+GGmEhhGk5C1DTjp+ZPOVuOU+U7iFA071t9ZbuX6bVy9atOQaSuqRakCd27sjWyLWutnsGTRzGE+CnCishbOmsKCFfdFnjupc7pSgECQY335JcMbHdWSKZ9Wtn4UoYpCRJ4nOIFeAFXV42q9uIh8BXgr8IyqvjpgvwD/BlyI4xt5n6o+VOt1DaOcrEpl1HL+arKyr++cQ8f0yaEDTiXTkJ+oGXil95O0xEVXT++wshXVfAbecZWinuJmZlcauKN8NmGO9TDfQpSSmtSaH3o/QaSVrR9GqOlJVY9V1eMC/o5NQ0m4fBV4S8T+C3Ac56cBVwJfSOm6hlFCWiaENM9fbcG9znntbFh6Hk+suIgNS88rGTyCTBz5FiGfKzVaVaqIGuf9hMnZ2zdQck5P6QSZV+J+Bn4T3cr121h28Wy2r7iI7SsuYtOy8/nO5qcT3f/ynIqwLPCoPJcox3rS79Wyi2cP+4zKiTsBqIbYUU8icgJOHgUAqvpkxOGxUNUficiMiEPeBnxNnX6tD4hIm4icqKpP13ptw/CTdYe1pOfv6ukd1p7Uo9beBzDcxOFtK2+L6g2Q3Tv2lISWxlFiUcf5Z/OVQkMrDYCVVjddPb2hNv6w+x93NRdlMro6pB921HXDiDLpeQhk1q8iTtTTJTiO7KnAM8B04NfA7NSlGU47sNP3fJe7bZiiEJErcVYdTJs2rQ6iGaOJLBrS1HL+leu3hdp9ay0MF2biiDIX+f0ecaOagqKI/Oe87u6tkQOfR6UBsNKgHjV7D7v/SRR72P2MUpTlGeFxfBN+31BQb3IvDDoLRREn6ukfgfnA/6nqKTiZ2RtSlySYoLVWYOaNqt6sqh2q2jFlSraRFcboY+GsKcO+bGlW60xaiiMqJyLIvp9Wv4qo61YiKGvZKxAYxN7+YixziTcAhlFpUI+avYfd/4mFfKLtQYRFeLX4rhvXxOWnc157xTpUaRPH9FRU1WdFpEVEWlT1fhH550ykGc4u4GTf85OAp+p0bWOM0NXTy50be0t+fAK8/ax0yjNA8qiWqOSvctmrccKHzWKTOLvL5Qp7PzmR0NIUcfEPgOWyhxUp9BzKLSHXn9SaD71HEuIOCNsexP2P7A7cPtF33bDV0EdXb+bqVZsCvyddPb2h9zSrfhVxFEWfiBwD/Ai4VUSeAYZXBcuGtcCHReSbwDnAPvNPGGkTVvoi7IdeTlLTQRziJn9VExkVpVzCsrejhnmBwMzlSvWLkuANgEGyB+FlM4ddv5DPsezicOt5X0iEUdj2ICqVO4k6xpM5yN8S9Z6y6lcRR1G8DRgArgauACYCn0rj4iJyO3AucLyI7AKWAXkAVb0JuAcnNPZRnPDY96dxXcNIUk660nka2YGuGid8lHLxBnz/dRfOmjKsoJ6fFhFmLF03NMv1VhdhTmpx/wnSH22FPC8eOhxYZiRMdv9xChWv72U7R30+bSHhqEr8hklx/FJxVnDl/pZq31MtiFbQ9iJyNbBGVXdlIkEGdHR0aHd3d6PFMJqUOK08IbzGj1/JhJk1sq4PFJR3EPf6pyxdF6ocvUEWhiuLdQ8/HRnL76eQzyXuR+GvJhuUNHjDpXMCnbjl8nvvO+p9vnv+tJJChH66enr5yKpNHI64Tr5FOObocfT1B9ec8s4TtCr0D+jXdm0paQUbRdTKTqhcQ6vi+UU2qmpH0L44K4rjgPUisgf4JnCHqv6uJokMo4FUU07aI6ixTBBRM/pru7YMiyJKsgrp6uktKRAXV3aPqFlsb98AS+7YDEpJAbo7N/YOOaY9BRK2KgCGurPFNTv5Z8RBEV8DxUGuXr2poh0sbniuNzgHKYvla7dGKglw7o2nNMM+v6BV4cJZU4ay2ae2Fdj/YnwrfpweGVkRp4THdcB1InI6sBj4oYjsUtU3ZSqZYVSg2ll5LeWk4ygZCO6REBUKmiSzduX6baFKopIJoqunl737X4w8f1CSmN805dnKr4rIE4BwJRrEYdUhmcPuUZzT+aOSosJzAW5/cCfXd84Z9j0KW6VFEfb5+f1Scf0rSalHL+0kZcafAX4LPAuckI04hhGPWnwD1ZaThnh+i6AeCXFMXXFDG6OOG1QNrL1UKkel+XLl66bdca2Qbxmqw1QL/qgk772HKbRB1VQH70qyx51kgKPwD6tWDEvOiaQanRdGnFaofyEi/wv8ADge+KCqnp6pVIZRgVpKbsTJaQjKTfBCLYPwbz66rL1ntauQMNpao2P5w+Lxl6/dWlMfa798acfr9xcPV2xBGockUUk5kUSDdyU8R3dQDkSy9rBO1djPLp5LrkI87qAq33jgSeZ96t5MK8jGWVFMB65S1U2ZSWEYCaml5EaliKKgWaZntw8yp7SUte7c218sWd3EkSluxnVXTy8vHIhn1/abQ6LKWJSTz0mJjwKGK9Jq8y2yplzZRk0cLj/nZG6N6Uj2U8i3cCigNDsEr2wrtYed1Jqndfy4ku9ikEM/ivLvXNrE8VFY7wmj6ai15EZUTkPQLDNoUABngA9yF/gH6UqDqgBXzJ9Ws38iCE9JxTUV5URY/JqTIyvQQmX7fyMIstVHKenrO+dw/yO7Eyu8geJhBJgwPsf+g8HlSfz+iqhVi5fPUW4iTKIk/Nf96Opsut5V0wrVMDLH7/wtj8/vnNfOwllTAsMK02iMk8SsEvVj7u0b4JSl65hYyJPPSYmyKY/5j/vDTjqoJWlRCs6KyesZEeWviVOkrp54tnp/RNGSRTMrZrhXq/AUApWEh/9+R937IJnD6nzFYVA1k5WFKQqj6QgLQfUv68OypqOyqSspH480zSoKw0w+k1rzQ1nBQY1/wqK5oirKBiWqxWlRGnS+geJgxRabfhlrLdHRmm9BkZpWJ56CKw9uePtZ7cOSBb2sbc953taa56hxLewbKIbmxSQlTlLdpNb8MJkr5YnEIYveFKYojKYjaqnu/QiqKdtdSfn423mWzzKD7PbVcqB4mO4dewIHtjXdT/LTx/YE5lhEVZRdfslsunfs4bYHn/SZwnTove8JCIktX+X46Rsocm3XlqHS4m2teVRh30CRiYU8+w8eGnptLQOrAP/v0tOH3l+1CjonwxXNQHGQ+x/ZzQ2XzonMNN/bX6SQz/HZxXMBEq8wypML8y1C/8FDnLJ0XWhmeyGfQ5XA0jFpkHawQWhmdj063GWFZWaPbKIyaj3aQgrBhYW4BpXPjnpd0Kwe0jO1lDvAK9HeVogsN/Lu+dMCTXEtACHXKuRbqg6VjaKtkEeEilncnm/Gn/RWKZkwiCiFB3Dj4rkls+uo70K7O7DH9V3kRPjMO88Y+q6UK1FwlMLbz2ov6eexZNHMVFYPYcQJ9S6nqsxsVT02oWyGkQpxTD/7Dx4i3yKRkTl+Ks2wyvdH9WyYsXRd5LnikHRhEnU/JozPhUbvHIbQaWoWSkJwViPtbQWWXTw7Minvs2UDeMlJQnDMVKWyH3PUOFSHm/g8yleMUd8FfxZ6nIF8XE6G/AufXTyXleu3DZPDW9mUD9xZ+XeySMCL048CcDrcicg07y9VKQzDR1CeQznFQaV4WIfizNvbCoEZyV4+RKUf/MRCPnZPh6jI9kpx71mw/+BgZjPTpJSbzNpC+je0txVKwkcXrLiPGUvXcdWqTZGrA0V4+1knlXw/9vYXhyYOQZTn11SKjPOaKsW5py8eOlySt5KkfW2c73lSsioOGCfh7hIR+Q3wBPBDYDvw3VSlMAwfXsOb8t4LQQyqDs2gwoqyVZq15VuE/QcPxW4eEzWApOEIrRcTxqc7SJUzUBzkuQPDZ/n+GW/cz8h/ztsf3BkYvnzM0eEuV3//7ziRcXGLH5bLFqKrApPxyr/naUwx/KVQ0iRO9djNwHnA91V1nogsBC5X1StTlyYlzEcxuqjkX4Bgm+zc6+4NNUf4o576Dx4KHBiCzhnWhrJZCfNR5FqEFtJxziehrZBn+SVH8gbifLZx8ep0RZ2vkM9xdL6lKkWQBuXVY/1Uqggch2p8Ex61Vo9tZIc7YwRRa+nssHO1teaH+SPKKV/aR2UiC/DYDRcOPT8lxOcQZC5IEuPuOaC9KqG1DADV8q9uJI9/AJrkRjA1Qh6R0vj+aqJzorq7VcqLGCgOxqocfNS4lkzuT1Do8bVdW7j9wZ2B76lS0yg/+Zw0tHFRIzvcGSOENBv4lJfh3ttfJJ+T0EgnSFa6ofzYqCzvcuUXd/YbFEUVdyUyKaRpTlKEI/e+/DMIU45Zs7e/yCs/cQ+t48dVlbeQzzmZ40GNlLyS3TdcOofr7t5a1T309+NYcsfmSH9JtfQNFIdMUB+/62H6I4IKvKTMSt87Lzcnq+KAcTvcHSCDDnfG6CFuS85Kq46w8gXFQWXCUeNYfsnsWC1Co2aq5ceG5U3s2f9iSdROb99A7Bnenv0vMmPpOiSiZ0MYB1KKRopy2ob1ma6GJLNegIODykH32kl9OuNahOs759AxffIwZdA34NQ7uuHSObSOHxeqKMKSE8sbCsVVEknfPzgVbeO+rtKqq62Qp+eT5yeUIBkVndmqul9VB1X1kKreoqqfU9VnM5XKGHHESYDzOy7DnMZRph1vVuU5AIXwaKewQXKSr7G9h+dUnOSryloc1MDwUWW40zEX4MH0XptUSQQljlVDVIhkV08v+w+mYxTItwhXzJ9W8nnc6Jq7smCgeJiunl4657XTOn74PLdSQiY4yYlR3yFvshKXqW2FqgID4n41JoZEjnnUI9Cu4oqiLPFuPE5P6/3NnHBn1J84RfrirDoqzZ68GWMlh13QKsErwBZG3Jm8Zw5I2/9QyQ8DjqK76PQTIxPCKoVIrly/LTWTyvhxLcOa/6xcvy3STFgrV63axJruJyNDUaPKZoSZ4zyS1lrKstaVUFkRJCmtXi1xqseWJN6JSCdwdlYCGSOHSg7n8lltmBLw/9Aq+QHi1rGpVEq8nCR9Ccr9D6nZ+yU849y7blQ5dI9jI8JEId3yDvsPDnLax9eBHMmOrkeRwA2P7Qnd1yISaCYs5HNcdPqJQzWewr4TaZe/qAWlsiLwcoDSCCIJo2J4bOCLRB5Q1fmpSpIiFh6bLv6ojJwIl5/jlKEOsutPcJ2UQV/YsFBIr5SDN0uuZLtNo5F8OXHKhkBweGOaIZ6TWvO8cOBQ6Moi3yIcc/Q4+vqLQ3WE1j389DB7fFQYZpryNjv+Kr1BNZe8/V7Zkb7+9AoDpoGXYxH2ebUAubISJlGffRRR4bFx8iguLZOrA3ijqr42kRR1xBRFdQQ5mrt37AmsIdSabwmM1oiK446K/EniEPSukWY47rxP3VsxSiYssiTN3ArB6WAXN2In3yJMOGpcorpX5VFlY4GofJlmxRvwgdDvV1jNsLRrPcVRFP/te3oIJzP7S6r6TCIp6ogpimjCCt4FrRCqsWVH9VhIo07SglMns/Wp54cNjklnUv6y41H4C8UFFQmMKtYXRlguQKXif0nZ7lt5pZHQVS+qiSQaDZSvgLzvXNJ7Uc2quyZFMRIxRRFOkF07iwSjsEE7a7NH3JlUmH3fT1shz6Zl5wcem0bZ8fLy1N49a5ZmQI0mbaWZBp6CbxE4alwLB4qHU0+o9CZaccqdR0046lI9VkT+nQilrqp/k0gKoykIizxKu6WlPwO1ktM7zdmjV9OnkhkqjvN6n/vDT9IaNQkDxUEmjM/Rf3CwxHQWZu4bS+REhlZvM15SiHRe14t8y5GJwWGFM6e1cVnHNK67O91Vmhc5Fuc3eXS+hYOHDseuolwtUeER3pR8AfAqYJX7/DJgY6pSGHWjnhEdXvOb8iYxXpa15/QOcjLWQm/fAEvucHoHd+/YU+KIn//ySWx/diDWjL3Nzauo9Z5FKcL9BwdZcOpkbv3gEZffuoefTnT+pL0tRgL+xlLNsroqd8lteGxPqAKb1JrnxeJgZNZ1GEkqAOw/OEg+JyW9RY7Oxy4KHpuofhS3AIjI+4CFqlp0n98E3Ju6JEZdCHOUTmrN09dfTH2ZX9pxzcHLst607Eg2acf0yanaz4uDypI1m0p+3IOqiWamXqmFWlujVrqnGx7bw7xP3TuU45HU4frH50wbc87pZqd1/DiWXTy8ikAcZrwkmcmtOKgc8q1w9/YXU++bHUf1TAX8uRTHuNtqRkTeIiLbRORREVkasP9cEdknIpvcv0+mcd2xyrVdW0IHoYtOPzGTgSZspvtU3wBdPb3M+9S9Q30IwOnUNlR2ucaM01orYag6Dv6Fs6YM6xuQz0loSelq8H7cy9duTfS6CeNzXN85hyvmW4uYZuKpvoFE5fL9PPD43sS/xfLjy3tw1EqcWk8rgB4Rud99/kZgea0XFpEc8B/Am4FdwC9EZK2q/qrs0B+r6ltrvd5YJW5kz5ruXXWSyKGtNc9HVm8qUSR9A0Vue+DJoaVzM8RZlPdd7u0bICfVRYPFuVbS2ef+g4PMve5ell8ye8z7NZoJf0WC/oTlUtLK4UjTzBwnM/u/ReS7wDnupqWq+tsUrn028KiqPg4gIt/EKUBYriiMKokT2ePx4qHqpt/VOKIFeOFAMXC1cRiqsutmiTc7BBL3c64HXjG8aoMC2gp5nj9wqGmSzEYDC2dNSfT7y4JKnfySEGp6EpFZ7v9n4piadrp/U91ttdLuns9jl7utnNeKyGYR+a6IhBfqMUro6unlo6s3Z/4lfcUJExJ35lJqNwvVE+8Ht3zt1pqURJa12waKg7RWUZiuBadInimJdPnO5qcTlYVJm7Qjn6JWFB8BrgQ+E7BPcbre1ULQ76b82/oQMF1VXxCRC4Eu4LTAk4lciSMv06aNPXutPwR1YiHP/oP1mSE++sz+Ue1E9f/ganW0Z32f+g8OctoJE/jNM/tjv+a1p04Gxm6CW1b0DRSHwqsbQdp9s6Oinq50/1+Y2tVK2QWc7Ht+EvBUmQzP+R7fIyL/KSLHq+rvA+S9GbgZnIS7bERuTsqXuPXMvB3NN7q8bWez09aaZ9feA4les+GxPWzauW9Uf46NotZouTC83Juwz6ytMLyUfq3EKTN+GfA/qvq8iFwLnAn8o6r21HjtXwCnicgpQC/wLuCPy679MuB3qqoicjbOStl6YVC6gpAq4ujDMjqNI3hRV15lzmbG8/tUY9Lbf7Ax5pHRjtdxL22ilARk058iTnjsP7hK4vXAIuAW4KZaL6yqh4APA+uBXwOrVXWriHxIRD7kHvYO4Jcishn4HPAuHY01RxJS3gAoqZIo5HN85p1nJA7bG4nka4hh3dtfZMkdm4fuczOTld+nmoY8hkNWK/upbYXI324W/SniKApvunER8AVV/TZOA6OaUdV7VPWVqnqqqv6Tu+0mVb3Jffx5VZ2tqmeo6nxV/Wka1x3p1OokGygO8olvbWmajNesaBFYedkZsb7kYWQRBjuSsNVG/cm3iFNLLADPZ7Zk0czQ4Ig0o5084vyGekXki8A7gXtE5KiYrzMyIg0zyJgYANQp4TGCAqyMMU5OhMVnn8zKdxxZ8edcW5K/ZWvnvHaumD9tmLLIos4TxBvw34ljHnqLqvYBk4ElqUtixCaLGcNo5DBYEpoxohhU5c6NTg/5DUvP48bFc3nZxKMDVw/Xd87hs4vnVuwfnwZxEu76ReQZ4PXAb3B6UvwmdUmMisTNsjYMY+TiL7/hj2bs7Rvg6lWbuGrVptAeKVlF6MVpXLQMp6vdTFV9pYhMBdao6oJMJEqBkdKPIkmHtkZneRqGUV+SRiZW2wLVI6ofRRzT0x8BlwD7AVT1KUqLBBpVUB651Ns3wDV3baGrpzfw+EZmeRqGEU5WGfdJw9fTLgToJ46iOOiGpCqAiEzIRJIxRlgDofIPuqunN/OucIZhVEdOpKlCp7PK94lTPXa1G/XUJiIfBP4U+FIm0owBKvkZevsGOGXpukwa+hiGkR5CepVe02JiIZ/JeSMVhYgITme7WcBzwEzgk6r6vUykGeV09fTGqj7qmaKsGY1hHOG4o3I892JjJ02e36BZa2MdPJTN/YlUFG7pjC5VPQsw5VAjSauPNuMX0TAaxf6D2WfEtLtBJcCw4BHPWdzMkYdZleiP46N4QERek8nVxxj1LNZnGKONeph5evsGWLLG6bfudafzchTeflZ7zUqilkzlQga9sOMSx0exEPhzEdmBE/kkOIuN0zOVbISQJMTVMIzmp3hY+fhdDzNpwlFDv+uFs6Zw+893MlhDP5IFp07mso5pXL16U1XdGw/EXC109fSmPgbFyaOYHrRdVXekKkmK1CuPIii3oTyW2a9IkOZo72kYRn3xfBotVVR6ruZan108N7GyiMqjiJOZ3bQKodFcd/fW0BDXznntXNu1pbSEhCkJwxiTeD/9enTRVRz/CpDayiKO6ckIoKunl70h5Xx7+waYsXRdnSUyDMNw8E9Y08CqwFZJVhmQhmEYaZBm8p2tKAKI46Bu9o5nhmGMbdKsMm2KooxyB7VXgwlK7X1trflQ05NhGEYjSbsvhZmeyohbg+mAldUwDKMJaSvkU+9LYSsKl0o1mPympq6eXgYyyoA0DMOIS2u+haPyOfr6i5nmcdmKgtKS32EosGDFfXT19HLd3VvrJ5xhGEYI/cXDHCge5or50wC4etWmoXEqTSom3I1EkibcJSnjXcjnrJqrYRhNTb5FWHnZGYlWF7U2Lhr1JIlgMiVhGEazUzysLF+bnuXDFAXphpEZhmE0A2kWITVFAamGkRmGYYw2TFGQXj0UwzCMZmFSa3rd7kxRuOQkqxbphmEY9SWfE5ZdPDu185micLn8nJMbLYJhGEbNTGrNs/IdySKeKmEJdy7Xd84B4PYHdzZdw3TDMIy4qKZvTm/oikJE3iIi20TkURFZGrBfRORz7v6HReTMLOW5vnMOj91wITcunkshn8vyUoZhGJnQN1BMPeGuYYpCRHLAfwAXAK8CLheRV5UddgFwmvt3JfCFesjWOa+9pF+uYRjGSCLtNgiNND2dDTyqqo8DiMg3gbcBv/Id8zbga+qkjz8gIm0icqKqPp21cJ3z2oeWb/M+da9VijUMY8SQdhuERpqe2oGdvue73G1JjwFARK4UkW4R6d69e3eqgprLwjCMkURbiqGx0FhFEWTVKR+S4xzjbFS9WVU7VLVjypQpNQvnZ1+KGY6GYRhZk/bktpGKYhfgj0k9CXiqimMyx0p8GIYxkkh7cttIRfEL4DQROUVExgPvAtaWHbMWeI8b/TQf2FcP/4RHV09vosqyhmEYzUDak9uGObNV9ZCIfBhYD+SAr6jqVhH5kLv/JuAe4ELgUaAfeH+95CtviWoYhjFSWDgrXfN7QxPuVPUeHGXg33aT77ECf1VvuSC4JaphGMZI4M6NvXRMn5xa4p2V8AghKrzMcisMw2hmBoqDqeZSmKIIIczG195WCA67MgzDaCLSzKUwRRHCkkUzh5XxKORzLFk0k3aLgjIMo8mZWEgvl8KKAobg2fZWrt/GU30DTG0rsGTRzKHt5ug2DKOZOXgovfHJFEUE/jIe5duhVInMeEmBDY/tKTkunxMWv+ZkvrP56VTbEhqGYVSiv3g4tXOZoqiSICXS1dMbuAK5vnMOXT29XHf3VqsZZRjGiMMURYqErUDK91mOhmEYWWOtUEc4XhnzthSdTYZhGH6sFeoooHNeO5uWnc+Ni+cO9b2Y1JqnxZI0DMNIge4deyofFBPRUVhDu6OjQ7u7uxstRlWU+zkWzppiznDDMBKTE+GxGy6MfbyIbFTVjqB95qNoMoL8HF4/b78SKeRbGCgejp3811bIM3vqscMiswzDGJ0MprgIMEUxgohylvsJi74CuLZrC9944MmsRTUMo8HkJD07timKUUiUQrm+cw4d0ycPKZK21jwvHDhE8fDoM0Eaxljm8nNOrnxQTExRjEHKFUmQX+T+R3aXrEgAlq/dar4SwxgBtAAd0yendj5zZhuJKE8cbCvkWX6JE4ZXnhuSzwnFwdH3/TKMkUB7W4ENS8+Lfbw5s43UqOQnKfeNgK1EDKMRpNmZ0xSFkRqVamN5BJm67tzYOyxTfcGpkzllyjHc+sCTVtrdMBqIKQqj7gQpFL+DvTxSK2hf94493P7gzlRDAA3DCMZ8FMaIx0J+DSOY7Ssuin1slI/CSngYI57rO+fw7vnThsWNt7cVuHHxXG5cPJd8RG2U9rYCC05NL0LEMJqBNKsBmenJGBVc3zlnKIM9DL9TfVJrnmUXzy4xgV3xpZ9Z5roxakjTVmSKwhgTxMlqv/WDr+Xari3c9uCTVMo/PO2ECfQfPExv3wAtQsXjDaPepFlg1BSFYfiIszKphD+qa2Ihz/6DhyyfxKg7R41Lz7NgisIwUiYs8723bwDhiElAgCvmT6Nj+mSWrNlcVRkVrzikYZRzwFqhGsbIIW4xR78PZcL4HAPFwRKTVovAxEKevv5iSQhxV08vS+7YbKsWo4SpbYXUzmWKwjCagCQ92INeCwytWqrFv9oxRjaFfG6oMkIaWB6FYYwywupxdc5rD8w5aQH+dfHckp7uf3/HZg7aCmVEkhPhM+88I9Yq1k9UHoUpCsMYY8RdqVzbtcXKpwSQb4FmdQsV8jluuHROYiUBTagoRGQysAqYAWwH3qmqewOO2w48DwwCh8LeRDmmKAwjPcoVy4yXFPjpY3tqUiACPLHiImYsXZeWmHVBcAII+ptIU3gmw/YIpR/rPE1YPXYp8ANVXSEiS93nHws5dqGq/r5+ohmG4SfKfxLkE8m3CCsvOwOAq1dtClQonqM1JzKi6nUpNJWSgCNKIklJ8aQ0qoTH24Bb3Me3AJ0NksMwjCronNfOhqXnsX3FRdy4eC7tbQUEZ8BaedkZQ8rlivnThpWS8Dtaw7qwvfTY8RVlyLUIhbxVIQJ4KsWS4kE0yvTUp6ptvud7VXVSwHFPAHtxlOYXVfXmiHNeCVwJMG3atLN27NiRutyGYSSnkk/k2q4tQ5WAcyJcfs7JXN85p+R15eaeCeNz/NMfOYmR5Q2zxiJprCga4qMQke8DLwvY9QnglpiKYqqqPiUiJwDfA/5aVX9U6drmozCMsUOUGaxablw8N/Y5Gx1WXIsD209Dqseq6ptU9dUBf98GficiJ7rCnQg8E3KOp9z/nwG+BZydlbyGYYxMPDPYjYvnUsjnSvYV8jnePX/asO1RTGrN0zmvPZY5JycSqCS8ysV+k1xbIR9bhiSkoSQq0Shn9lrgvcAK9/9vlx8gIhOAFlV93n18PvCpukppGMaIwZ94WG7m8ppf9fYNDDnQ2wLqcBXyOZZd7PSAn9pWiFxRFPK5UJPXU30Dw4IATkkY4TWpNU/r+HGRMrS3FTJXEtA4RbECWC0iHwCeBC4Dx9QE/JeqXgi8FPiWOD0GxgG3qer/NEhewzBGAFHteIO2R/lPliyaGer/8EJRw8xTQeUzKikeP57C8idBlsuSdvZ1FA1RFKr6LPCHAdufAi50Hz8OnFFn0QzDGENE1eGKWqH4iTuARymefE6YMH4c+waKgdeJK0tWWGa2YRhGDcTNdPcf6zeB1ZoolxZNl5mdNaYoDMMwkmE9sw3DMIyqMUVhGIZhRGKKwjAMw4jEFIVhGIYRiSkKwzAMI5JRGfUkIs8D2xotRxnHA81WLt1kik8zymUyxacZ5Wo2maar6pSgHaO1Z/a2uE2O6oWIdJtMlWlGmaA55TKZ4tOMcjWjTGGY6ckwDMOIxBSFYRiGEcloVRShDY4aiMkUj2aUCZpTLpMpPs0oVzPKFMiodGYbhmEY6TFaVxSGYRhGWqhq0/wBX8HpdvdL37bJOG1Qf+P+P8m37xrgUZxQ2EW+7WcBW9x9n+PIyukoYJW7/UFghu8173Wv8Rvgve62k4H7gV8DW4G/bbRM7vajgZ8Dm125rmsGudx9OaAH+E4zyARsd8+1CehuBpncfW3AHcAjON+v1zZSLmCme4+8v+eAqxp9r4Crcb7jvwRux/nuN1qmv3Xl2Qpc1SzfqUzH5npdKJYw8AbgTEoVxb8AS93HS4F/dh+/CmegPAo4BXgMyLn7fo7zwxPgu8AF7va/BG5yH78LWOX7kB93/5/kPp4EnAic6R5zLPB/7nUbJpO7T4Bj3Md598s0v9Fyufs/AtzGEUXR6Hu1HTi+7HvWDPfpFuDP3MfjcRRHw+Vyj8kBvwWmN1ImoB14Aii4x60G3tdgmV6NoyRacdILvg+c1iyfXWZjc6OUQqhAMINSRbENONF9fCJOjgQ4Wvoa33Hr3Zt+IvCIb/vlwBf9x7iPx+Eku4j/GHffF4HLA2T7NvDmJpOpFXgIOKfRcgEnAT8AzuOIomi0TNsZrigaLdNxOAOgNJNcvm3nAxsaLROOotiJMzCOA77jytZImS7D6cLpbf8H4O+b5bPL6m8k+CheqqpPA7j/n+Bu975EHrvcbe3u4/LtJa9R1UPAPuAlEecaQkRmAPNwZu8Nl0lEciKyCcdU9z1VbQa5bsT50Rz27W+0TArcKyIbReTKJpHp5cBu4L9FpEdE/svtC99ouTzehWPmoZEyqWov8GmcdslPA/tU9d5GyoSzmniDiLxERFpxOnKe3GCZMmckKIowJGCbRmyv9jWIyDHAnTj2yOeaQSZVHVTVuTiz+LNF5NWNlEtE3go8o6obI+Soq0zu/wtU9UzgAuCvROQNTSDTOBwT6xdUdR6wH8dc0Wi5EJHxwCXAmgh56iKTiEwC3oZjspkKTBCRdzdSJlX9NfDPOH6I/8ExKx1qpEwR106NkaAoficiJwK4/z/jbt+Fo8k9TgKecrefFLC95DUiMg6YCOyJOBciksdREreq6l3NIJMfVe0D/hd4S4PlWgBcIiLbgW8C54nINxosE+r0YUdVnwG+BZzdaJncfbvcVSA4Tu0zm0AucBTqQ6r6O/d5I2V6E/CEqu5W1SJwF/C6Rt8nVf2yqp6pqm9wj/1No2XKnHrYt5L8MdxHsZJSJ9G/uI9nU+okepwjTqJf4Dh3PSfRhe72v6LUSbTafTwZx2Y8yf17wt0mwNeAG8tkbJhM7r4pQJv7uAD8GHhro+Xy3Z9zOeKjaOTnNwE41j1mAvBTHIXa8PvkfmYz3cfLXZmaQa5vAu9vhu86jt9tK44fTnACAP660fcJOMH9fxpO1NqkRsuU+bhcb0UQKYxjF30aKOJozw/g2OZ+gKO1f1D2pf4EThTBNtyIAXd7B44t8THg8xwJOzsaZ0n9KE7Ewct9r/lTd/ujuD8U4PU4S7uHORI2eGEjZXK3n44Tgvqwe85PutsbKpdv/7kcURSN/PxejvMj3Ywz4Hyi0TL59s0Fut3PsAvnh9/o71Ur8Cww0bet0TJdhzMY/xL4Os6A22iZfgz8Cud79YfNcJ+y/rPMbMMwDCOSkeCjMAzDMBqIKQrDMAwjElMUhmEYRiSmKAzDMIxITFEYhmEYkZiiMIwUEZFzReQ77uNLRCQ041pE2kTkL6u4xnIR+buybeeLyM9ERNznORHZJCKvS3p+wyjHFIVhxEBEcklfo6prVXVFxCFtOJVCa0adGkg7cHKPwElM+4Wq/jSN8xtjG1MUxphGRGaIyCMicouIPCwid7jF3hCR7SLySRH5CXCZb9b+kIiscWuAISJvcc/xE+BS37nfJyKfdx+/VES+JSKb3b/XASuAU92Z/0r3uCUi8gtXlut85/qEiGwTke/j9I4I4mrgGhGZDXwY+FjqN8wYk5iiMAxn4L1ZVU/Hadjjn+UfUNXX4/QduBZ4kzpFBruBj4jI0cCXgIuBPwBeFnKNzwE/VNUzcOo6bcUp9fCYqs5V1SUicj5Ob4OzcTK3zxKRN4jIWTilHObhKKLXBF1AnaqlNwI/A65X1T3V3AzDKMcUhWHATlXd4D7+Bk7pFo9V7v/zcZrQbHDLu78Xp7HPLJzCdb9Rp8zBN0KucR7wBRiq/Lsv4Jjz3b8enB4js3AUxx8A31LVfnWqF6+NeC//gVNL6KsRxxhGIsY1WgDDaALK69j4n+93/xecvh+X+w8UkbkBr68WAW5Q1S+WXeOquNdQ1cMiYnV5jFSxFYVhwDQRea37+HLgJwHHPAAsEJFXAIhIq4i8Eqdg3Skicqrv9UH8APgL97U5ETkOeB6nxa7HeuBPfb6PdhE5AfgR8EciUhCRY3HMXIZRN0xRGAb8GniviDyMU8r5C+UHqOpunH7Nt7vHPQDMUtUDwJXAOteZvSPkGn8LLBSRLcBGYLaqPotjyvqliKx0I5duA37mHncHTpn0h3BMYJtweqP8OKX3bRixsOqxxphGnBa331HVqA6BhjGmsRWFYRiGEYmtKAzDMIxIbEVhGIZhRGKKwjAMw4jEFIVhGIYRiSkKwzAMIxJTFIZhGEYkpigMwzCMSP4/AE11XECVI9wAAAAASUVORK5CYII=\n",
>>>>>>> 72e094058c14e8d81f7edd8019d5d325d54cb26e
      "text/plain": [
       "<Figure size 432x288 with 1 Axes>"
      ]
     },
     "metadata": {
      "needs_background": "light"
     },
     "output_type": "display_data"
    }
   ],
   "source": [
    "#Checking model for assumptions\n",
    "linearity_test(simple_Y, simple_X_cons)"
   ]
  },
  {
   "cell_type": "code",
<<<<<<< HEAD
   "execution_count": 280,
=======
   "execution_count": 193,
>>>>>>> 72e094058c14e8d81f7edd8019d5d325d54cb26e
   "metadata": {},
   "outputs": [
    {
     "data": {
      "text/plain": [
<<<<<<< HEAD
       "1.9796455882729438"
      ]
     },
     "execution_count": 280,
=======
       "1.963595449514839"
      ]
     },
     "execution_count": 193,
>>>>>>> 72e094058c14e8d81f7edd8019d5d325d54cb26e
     "metadata": {},
     "output_type": "execute_result"
    }
   ],
   "source": [
    "independence_test_DW(simple_Y, simple_X_cons)"
   ]
  },
  {
   "cell_type": "code",
<<<<<<< HEAD
   "execution_count": 281,
=======
   "execution_count": 194,
>>>>>>> 72e094058c14e8d81f7edd8019d5d325d54cb26e
   "metadata": {},
   "outputs": [
    {
     "data": {
<<<<<<< HEAD
      "text/html": [
       "<table class=\"simpletable\">\n",
       "<tr>\n",
       "  <th>Omnibus:</th>       <td>14644.608</td> <th>  Durbin-Watson:     </th>  <td>   1.980</td> \n",
       "</tr>\n",
       "<tr>\n",
       "  <th>Prob(Omnibus):</th>  <td> 0.000</td>   <th>  Jarque-Bera (JB):  </th> <td>525942.628</td>\n",
       "</tr>\n",
       "<tr>\n",
       "  <th>Skew:</th>           <td> 2.806</td>   <th>  Prob(JB):          </th>  <td>    0.00</td> \n",
       "</tr>\n",
       "<tr>\n",
       "  <th>Kurtosis:</th>       <td>26.588</td>   <th>  Cond. No.          </th>  <td>5.64e+03</td> \n",
       "</tr>\n",
       "</table>"
      ],
      "text/plain": [
       "<class 'statsmodels.iolib.table.SimpleTable'>"
      ]
     },
     "execution_count": 281,
     "metadata": {},
     "output_type": "execute_result"
=======
      "image/png": "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\n",
      "text/plain": [
       "<Figure size 432x288 with 1 Axes>"
      ]
     },
     "metadata": {
      "needs_background": "light"
     },
     "output_type": "display_data"
>>>>>>> 72e094058c14e8d81f7edd8019d5d325d54cb26e
    }
   ],
   "source": [
    "normality_test(simple_Y, simple_X_cons)"
   ]
  },
  {
   "cell_type": "code",
<<<<<<< HEAD
   "execution_count": 282,
=======
   "execution_count": 195,
>>>>>>> 72e094058c14e8d81f7edd8019d5d325d54cb26e
   "metadata": {},
   "outputs": [
    {
     "data": {
<<<<<<< HEAD
      "image/png": "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\n",
=======
      "image/png": "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\n",
>>>>>>> 72e094058c14e8d81f7edd8019d5d325d54cb26e
      "text/plain": [
       "<Figure size 432x288 with 1 Axes>"
      ]
     },
     "metadata": {
      "needs_background": "light"
     },
     "output_type": "display_data"
    }
   ],
   "source": [
    "homoskedasticity_test(simple_Y, simple_X_cons)"
   ]
  },
  {
   "cell_type": "code",
   "execution_count": null,
   "metadata": {},
   "outputs": [],
   "source": []
  },
  {
   "cell_type": "code",
   "execution_count": null,
   "metadata": {},
   "outputs": [],
   "source": []
  },
  {
   "cell_type": "code",
   "execution_count": null,
   "metadata": {},
   "outputs": [],
   "source": []
  },
  {
   "cell_type": "code",
<<<<<<< HEAD
   "execution_count": 176,
=======
   "execution_count": 196,
>>>>>>> 72e094058c14e8d81f7edd8019d5d325d54cb26e
   "metadata": {},
   "outputs": [
    {
     "data": {
      "text/plain": [
       "0"
      ]
     },
<<<<<<< HEAD
     "execution_count": 176,
=======
     "execution_count": 196,
>>>>>>> 72e094058c14e8d81f7edd8019d5d325d54cb26e
     "metadata": {},
     "output_type": "execute_result"
    }
   ],
   "source": [
    "df['floors'].isna().sum()"
   ]
  },
  {
   "cell_type": "code",
<<<<<<< HEAD
   "execution_count": 133,
=======
   "execution_count": 197,
>>>>>>> 72e094058c14e8d81f7edd8019d5d325d54cb26e
   "metadata": {},
   "outputs": [],
   "source": [
    "df = df.dropna(subset=['view'])"
   ]
  },
  {
   "cell_type": "code",
<<<<<<< HEAD
   "execution_count": 134,
=======
   "execution_count": 198,
>>>>>>> 72e094058c14e8d81f7edd8019d5d325d54cb26e
   "metadata": {},
   "outputs": [
    {
     "data": {
      "text/html": [
       "<div>\n",
       "<style scoped>\n",
       "    .dataframe tbody tr th:only-of-type {\n",
       "        vertical-align: middle;\n",
       "    }\n",
       "\n",
       "    .dataframe tbody tr th {\n",
       "        vertical-align: top;\n",
       "    }\n",
       "\n",
       "    .dataframe thead th {\n",
       "        text-align: right;\n",
       "    }\n",
       "</style>\n",
       "<table border=\"1\" class=\"dataframe\">\n",
       "  <thead>\n",
       "    <tr style=\"text-align: right;\">\n",
       "      <th></th>\n",
       "      <th>id</th>\n",
       "      <th>date</th>\n",
       "      <th>price</th>\n",
       "      <th>bedrooms</th>\n",
       "      <th>bathrooms</th>\n",
       "      <th>sqft_living</th>\n",
       "      <th>sqft_lot</th>\n",
       "      <th>floors</th>\n",
       "      <th>waterfront</th>\n",
       "      <th>view</th>\n",
       "      <th>...</th>\n",
<<<<<<< HEAD
=======
       "      <th>grade</th>\n",
       "      <th>sqft_above</th>\n",
>>>>>>> 72e094058c14e8d81f7edd8019d5d325d54cb26e
       "      <th>sqft_basement</th>\n",
       "      <th>yr_built</th>\n",
       "      <th>yr_renovated</th>\n",
       "      <th>zipcode</th>\n",
       "      <th>lat</th>\n",
       "      <th>long</th>\n",
       "      <th>sqft_living15</th>\n",
       "      <th>sqft_lot15</th>\n",
<<<<<<< HEAD
       "      <th>date_yr</th>\n",
       "      <th>age</th>\n",
=======
>>>>>>> 72e094058c14e8d81f7edd8019d5d325d54cb26e
       "    </tr>\n",
       "  </thead>\n",
       "  <tbody>\n",
       "    <tr>\n",
<<<<<<< HEAD
       "      <th>2495</th>\n",
       "      <td>1000102</td>\n",
       "      <td>4/22/2015</td>\n",
       "      <td>300000.0</td>\n",
=======
       "      <th>2494</th>\n",
       "      <td>1000102</td>\n",
       "      <td>9/16/2014</td>\n",
       "      <td>280000.0</td>\n",
>>>>>>> 72e094058c14e8d81f7edd8019d5d325d54cb26e
       "      <td>6</td>\n",
       "      <td>3.00</td>\n",
       "      <td>2400</td>\n",
       "      <td>9373</td>\n",
       "      <td>2.0</td>\n",
<<<<<<< HEAD
       "      <td>NO</td>\n",
       "      <td>NONE</td>\n",
       "      <td>...</td>\n",
       "      <td>0.0</td>\n",
       "      <td>1991</td>\n",
       "      <td>0</td>\n",
=======
       "      <td>NaN</td>\n",
       "      <td>NONE</td>\n",
       "      <td>...</td>\n",
       "      <td>7 Average</td>\n",
       "      <td>2400</td>\n",
       "      <td>0.0</td>\n",
       "      <td>1991</td>\n",
       "      <td>0.0</td>\n",
>>>>>>> 72e094058c14e8d81f7edd8019d5d325d54cb26e
       "      <td>98002</td>\n",
       "      <td>47.3262</td>\n",
       "      <td>-122.214</td>\n",
       "      <td>2060</td>\n",
       "      <td>7316</td>\n",
<<<<<<< HEAD
       "      <td>2015</td>\n",
       "      <td>24</td>\n",
       "    </tr>\n",
       "    <tr>\n",
       "      <th>2494</th>\n",
       "      <td>1000102</td>\n",
       "      <td>9/16/2014</td>\n",
       "      <td>280000.0</td>\n",
=======
       "    </tr>\n",
       "    <tr>\n",
       "      <th>2495</th>\n",
       "      <td>1000102</td>\n",
       "      <td>4/22/2015</td>\n",
       "      <td>300000.0</td>\n",
>>>>>>> 72e094058c14e8d81f7edd8019d5d325d54cb26e
       "      <td>6</td>\n",
       "      <td>3.00</td>\n",
       "      <td>2400</td>\n",
       "      <td>9373</td>\n",
       "      <td>2.0</td>\n",
<<<<<<< HEAD
       "      <td>NaN</td>\n",
       "      <td>NONE</td>\n",
       "      <td>...</td>\n",
       "      <td>0.0</td>\n",
       "      <td>1991</td>\n",
       "      <td>0</td>\n",
=======
       "      <td>NO</td>\n",
       "      <td>NONE</td>\n",
       "      <td>...</td>\n",
       "      <td>7 Average</td>\n",
       "      <td>2400</td>\n",
       "      <td>0.0</td>\n",
       "      <td>1991</td>\n",
       "      <td>0.0</td>\n",
>>>>>>> 72e094058c14e8d81f7edd8019d5d325d54cb26e
       "      <td>98002</td>\n",
       "      <td>47.3262</td>\n",
       "      <td>-122.214</td>\n",
       "      <td>2060</td>\n",
       "      <td>7316</td>\n",
<<<<<<< HEAD
       "      <td>2014</td>\n",
       "      <td>23</td>\n",
=======
>>>>>>> 72e094058c14e8d81f7edd8019d5d325d54cb26e
       "    </tr>\n",
       "    <tr>\n",
       "      <th>16800</th>\n",
       "      <td>7200179</td>\n",
       "      <td>10/16/2014</td>\n",
       "      <td>150000.0</td>\n",
       "      <td>2</td>\n",
       "      <td>1.00</td>\n",
       "      <td>840</td>\n",
       "      <td>12750</td>\n",
       "      <td>1.0</td>\n",
       "      <td>NO</td>\n",
       "      <td>NONE</td>\n",
       "      <td>...</td>\n",
<<<<<<< HEAD
       "      <td>0.0</td>\n",
       "      <td>1925</td>\n",
       "      <td>0</td>\n",
=======
       "      <td>6 Low Average</td>\n",
       "      <td>840</td>\n",
       "      <td>0.0</td>\n",
       "      <td>1925</td>\n",
       "      <td>0.0</td>\n",
>>>>>>> 72e094058c14e8d81f7edd8019d5d325d54cb26e
       "      <td>98055</td>\n",
       "      <td>47.4840</td>\n",
       "      <td>-122.211</td>\n",
       "      <td>1480</td>\n",
       "      <td>6969</td>\n",
<<<<<<< HEAD
       "      <td>2014</td>\n",
       "      <td>89</td>\n",
=======
>>>>>>> 72e094058c14e8d81f7edd8019d5d325d54cb26e
       "    </tr>\n",
       "    <tr>\n",
       "      <th>16801</th>\n",
       "      <td>7200179</td>\n",
       "      <td>4/24/2015</td>\n",
       "      <td>175000.0</td>\n",
       "      <td>2</td>\n",
       "      <td>1.00</td>\n",
       "      <td>840</td>\n",
       "      <td>12750</td>\n",
       "      <td>1.0</td>\n",
       "      <td>NO</td>\n",
       "      <td>NONE</td>\n",
       "      <td>...</td>\n",
<<<<<<< HEAD
       "      <td>0.0</td>\n",
       "      <td>1925</td>\n",
       "      <td>0</td>\n",
=======
       "      <td>6 Low Average</td>\n",
       "      <td>840</td>\n",
       "      <td>0.0</td>\n",
       "      <td>1925</td>\n",
       "      <td>NaN</td>\n",
>>>>>>> 72e094058c14e8d81f7edd8019d5d325d54cb26e
       "      <td>98055</td>\n",
       "      <td>47.4840</td>\n",
       "      <td>-122.211</td>\n",
       "      <td>1480</td>\n",
       "      <td>6969</td>\n",
<<<<<<< HEAD
       "      <td>2015</td>\n",
       "      <td>90</td>\n",
       "    </tr>\n",
       "    <tr>\n",
       "      <th>11422</th>\n",
       "      <td>109200390</td>\n",
       "      <td>10/20/2014</td>\n",
       "      <td>250000.0</td>\n",
=======
       "    </tr>\n",
       "    <tr>\n",
       "      <th>11421</th>\n",
       "      <td>109200390</td>\n",
       "      <td>8/20/2014</td>\n",
       "      <td>245000.0</td>\n",
>>>>>>> 72e094058c14e8d81f7edd8019d5d325d54cb26e
       "      <td>3</td>\n",
       "      <td>1.75</td>\n",
       "      <td>1480</td>\n",
       "      <td>3900</td>\n",
       "      <td>1.0</td>\n",
       "      <td>NO</td>\n",
       "      <td>NONE</td>\n",
       "      <td>...</td>\n",
<<<<<<< HEAD
       "      <td>0.0</td>\n",
       "      <td>1980</td>\n",
       "      <td>0</td>\n",
=======
       "      <td>7 Average</td>\n",
       "      <td>1480</td>\n",
       "      <td>0.0</td>\n",
       "      <td>1980</td>\n",
       "      <td>0.0</td>\n",
>>>>>>> 72e094058c14e8d81f7edd8019d5d325d54cb26e
       "      <td>98023</td>\n",
       "      <td>47.2977</td>\n",
       "      <td>-122.367</td>\n",
       "      <td>1830</td>\n",
       "      <td>6956</td>\n",
<<<<<<< HEAD
       "      <td>2014</td>\n",
       "      <td>34</td>\n",
=======
>>>>>>> 72e094058c14e8d81f7edd8019d5d325d54cb26e
       "    </tr>\n",
       "    <tr>\n",
       "      <th>...</th>\n",
       "      <td>...</td>\n",
       "      <td>...</td>\n",
       "      <td>...</td>\n",
       "      <td>...</td>\n",
       "      <td>...</td>\n",
       "      <td>...</td>\n",
       "      <td>...</td>\n",
       "      <td>...</td>\n",
       "      <td>...</td>\n",
       "      <td>...</td>\n",
       "      <td>...</td>\n",
       "      <td>...</td>\n",
       "      <td>...</td>\n",
       "      <td>...</td>\n",
       "      <td>...</td>\n",
       "      <td>...</td>\n",
       "      <td>...</td>\n",
       "      <td>...</td>\n",
       "      <td>...</td>\n",
       "      <td>...</td>\n",
       "      <td>...</td>\n",
       "    </tr>\n",
       "    <tr>\n",
<<<<<<< HEAD
       "      <th>6339</th>\n",
       "      <td>9828200460</td>\n",
       "      <td>6/27/2014</td>\n",
       "      <td>260000.0</td>\n",
=======
       "      <th>6340</th>\n",
       "      <td>9828200460</td>\n",
       "      <td>1/6/2015</td>\n",
       "      <td>430000.0</td>\n",
>>>>>>> 72e094058c14e8d81f7edd8019d5d325d54cb26e
       "      <td>2</td>\n",
       "      <td>1.00</td>\n",
       "      <td>700</td>\n",
       "      <td>4800</td>\n",
       "      <td>1.0</td>\n",
       "      <td>NO</td>\n",
       "      <td>NONE</td>\n",
       "      <td>...</td>\n",
<<<<<<< HEAD
       "      <td>0.0</td>\n",
       "      <td>1922</td>\n",
       "      <td>0</td>\n",
=======
       "      <td>7 Average</td>\n",
       "      <td>700</td>\n",
       "      <td>0.0</td>\n",
       "      <td>1922</td>\n",
       "      <td>0.0</td>\n",
>>>>>>> 72e094058c14e8d81f7edd8019d5d325d54cb26e
       "      <td>98122</td>\n",
       "      <td>47.6147</td>\n",
       "      <td>-122.300</td>\n",
       "      <td>1440</td>\n",
       "      <td>4800</td>\n",
<<<<<<< HEAD
       "      <td>2014</td>\n",
       "      <td>92</td>\n",
       "    </tr>\n",
       "    <tr>\n",
       "      <th>15186</th>\n",
       "      <td>9834200305</td>\n",
       "      <td>2/10/2015</td>\n",
       "      <td>615000.0</td>\n",
=======
       "    </tr>\n",
       "    <tr>\n",
       "      <th>15185</th>\n",
       "      <td>9834200305</td>\n",
       "      <td>7/16/2014</td>\n",
       "      <td>350000.0</td>\n",
>>>>>>> 72e094058c14e8d81f7edd8019d5d325d54cb26e
       "      <td>3</td>\n",
       "      <td>1.00</td>\n",
       "      <td>1790</td>\n",
       "      <td>3876</td>\n",
       "      <td>1.5</td>\n",
       "      <td>NO</td>\n",
       "      <td>NONE</td>\n",
       "      <td>...</td>\n",
<<<<<<< HEAD
       "      <td>700.0</td>\n",
       "      <td>1904</td>\n",
       "      <td>0</td>\n",
=======
       "      <td>7 Average</td>\n",
       "      <td>1090</td>\n",
       "      <td>?</td>\n",
       "      <td>1904</td>\n",
       "      <td>0.0</td>\n",
>>>>>>> 72e094058c14e8d81f7edd8019d5d325d54cb26e
       "      <td>98144</td>\n",
       "      <td>47.5750</td>\n",
       "      <td>-122.288</td>\n",
       "      <td>1360</td>\n",
       "      <td>4080</td>\n",
<<<<<<< HEAD
       "      <td>2015</td>\n",
       "      <td>111</td>\n",
       "    </tr>\n",
       "    <tr>\n",
       "      <th>15185</th>\n",
       "      <td>9834200305</td>\n",
       "      <td>7/16/2014</td>\n",
       "      <td>350000.0</td>\n",
=======
       "    </tr>\n",
       "    <tr>\n",
       "      <th>15186</th>\n",
       "      <td>9834200305</td>\n",
       "      <td>2/10/2015</td>\n",
       "      <td>615000.0</td>\n",
>>>>>>> 72e094058c14e8d81f7edd8019d5d325d54cb26e
       "      <td>3</td>\n",
       "      <td>1.00</td>\n",
       "      <td>1790</td>\n",
       "      <td>3876</td>\n",
       "      <td>1.5</td>\n",
       "      <td>NO</td>\n",
       "      <td>NONE</td>\n",
       "      <td>...</td>\n",
<<<<<<< HEAD
       "      <td>?</td>\n",
       "      <td>1904</td>\n",
       "      <td>0</td>\n",
=======
       "      <td>7 Average</td>\n",
       "      <td>1090</td>\n",
       "      <td>700.0</td>\n",
       "      <td>1904</td>\n",
       "      <td>0.0</td>\n",
>>>>>>> 72e094058c14e8d81f7edd8019d5d325d54cb26e
       "      <td>98144</td>\n",
       "      <td>47.5750</td>\n",
       "      <td>-122.288</td>\n",
       "      <td>1360</td>\n",
       "      <td>4080</td>\n",
<<<<<<< HEAD
       "      <td>2014</td>\n",
       "      <td>110</td>\n",
=======
>>>>>>> 72e094058c14e8d81f7edd8019d5d325d54cb26e
       "    </tr>\n",
       "    <tr>\n",
       "      <th>1084</th>\n",
       "      <td>9834200885</td>\n",
       "      <td>7/17/2014</td>\n",
       "      <td>360000.0</td>\n",
       "      <td>4</td>\n",
       "      <td>2.50</td>\n",
       "      <td>2080</td>\n",
       "      <td>4080</td>\n",
       "      <td>1.0</td>\n",
       "      <td>NO</td>\n",
       "      <td>NONE</td>\n",
       "      <td>...</td>\n",
<<<<<<< HEAD
       "      <td>1040.0</td>\n",
       "      <td>1962</td>\n",
       "      <td>0</td>\n",
=======
       "      <td>7 Average</td>\n",
       "      <td>1040</td>\n",
       "      <td>1040.0</td>\n",
       "      <td>1962</td>\n",
       "      <td>0.0</td>\n",
>>>>>>> 72e094058c14e8d81f7edd8019d5d325d54cb26e
       "      <td>98144</td>\n",
       "      <td>47.5720</td>\n",
       "      <td>-122.290</td>\n",
       "      <td>1340</td>\n",
       "      <td>4080</td>\n",
<<<<<<< HEAD
       "      <td>2014</td>\n",
       "      <td>52</td>\n",
=======
>>>>>>> 72e094058c14e8d81f7edd8019d5d325d54cb26e
       "    </tr>\n",
       "    <tr>\n",
       "      <th>1085</th>\n",
       "      <td>9834200885</td>\n",
       "      <td>4/20/2015</td>\n",
       "      <td>550000.0</td>\n",
       "      <td>4</td>\n",
       "      <td>2.50</td>\n",
       "      <td>2080</td>\n",
       "      <td>4080</td>\n",
       "      <td>1.0</td>\n",
       "      <td>NO</td>\n",
       "      <td>NONE</td>\n",
       "      <td>...</td>\n",
<<<<<<< HEAD
       "      <td>1040.0</td>\n",
       "      <td>1962</td>\n",
       "      <td>0</td>\n",
=======
       "      <td>7 Average</td>\n",
       "      <td>1040</td>\n",
       "      <td>1040.0</td>\n",
       "      <td>1962</td>\n",
       "      <td>0.0</td>\n",
>>>>>>> 72e094058c14e8d81f7edd8019d5d325d54cb26e
       "      <td>98144</td>\n",
       "      <td>47.5720</td>\n",
       "      <td>-122.290</td>\n",
       "      <td>1340</td>\n",
       "      <td>4080</td>\n",
<<<<<<< HEAD
       "      <td>2015</td>\n",
       "      <td>53</td>\n",
       "    </tr>\n",
       "  </tbody>\n",
       "</table>\n",
       "<p>353 rows × 23 columns</p>\n",
=======
       "    </tr>\n",
       "  </tbody>\n",
       "</table>\n",
       "<p>347 rows × 21 columns</p>\n",
>>>>>>> 72e094058c14e8d81f7edd8019d5d325d54cb26e
       "</div>"
      ],
      "text/plain": [
       "               id        date     price  bedrooms  bathrooms  sqft_living  \\\n",
<<<<<<< HEAD
       "2495      1000102   4/22/2015  300000.0         6       3.00         2400   \n",
       "2494      1000102   9/16/2014  280000.0         6       3.00         2400   \n",
       "16800     7200179  10/16/2014  150000.0         2       1.00          840   \n",
       "16801     7200179   4/24/2015  175000.0         2       1.00          840   \n",
       "11422   109200390  10/20/2014  250000.0         3       1.75         1480   \n",
       "...           ...         ...       ...       ...        ...          ...   \n",
       "6339   9828200460   6/27/2014  260000.0         2       1.00          700   \n",
       "15186  9834200305   2/10/2015  615000.0         3       1.00         1790   \n",
       "15185  9834200305   7/16/2014  350000.0         3       1.00         1790   \n",
       "1084   9834200885   7/17/2014  360000.0         4       2.50         2080   \n",
       "1085   9834200885   4/20/2015  550000.0         4       2.50         2080   \n",
       "\n",
       "       sqft_lot  floors waterfront  view  ... sqft_basement yr_built  \\\n",
       "2495       9373     2.0         NO  NONE  ...           0.0     1991   \n",
       "2494       9373     2.0        NaN  NONE  ...           0.0     1991   \n",
       "16800     12750     1.0         NO  NONE  ...           0.0     1925   \n",
       "16801     12750     1.0         NO  NONE  ...           0.0     1925   \n",
       "11422      3900     1.0         NO  NONE  ...           0.0     1980   \n",
       "...         ...     ...        ...   ...  ...           ...      ...   \n",
       "6339       4800     1.0         NO  NONE  ...           0.0     1922   \n",
       "15186      3876     1.5         NO  NONE  ...         700.0     1904   \n",
       "15185      3876     1.5         NO  NONE  ...             ?     1904   \n",
       "1084       4080     1.0         NO  NONE  ...        1040.0     1962   \n",
       "1085       4080     1.0         NO  NONE  ...        1040.0     1962   \n",
       "\n",
       "       yr_renovated zipcode      lat     long  sqft_living15  sqft_lot15  \\\n",
       "2495              0   98002  47.3262 -122.214           2060        7316   \n",
       "2494              0   98002  47.3262 -122.214           2060        7316   \n",
       "16800             0   98055  47.4840 -122.211           1480        6969   \n",
       "16801             0   98055  47.4840 -122.211           1480        6969   \n",
       "11422             0   98023  47.2977 -122.367           1830        6956   \n",
       "...             ...     ...      ...      ...            ...         ...   \n",
       "6339              0   98122  47.6147 -122.300           1440        4800   \n",
       "15186             0   98144  47.5750 -122.288           1360        4080   \n",
       "15185             0   98144  47.5750 -122.288           1360        4080   \n",
       "1084              0   98144  47.5720 -122.290           1340        4080   \n",
       "1085              0   98144  47.5720 -122.290           1340        4080   \n",
       "\n",
       "       date_yr  age  \n",
       "2495      2015   24  \n",
       "2494      2014   23  \n",
       "16800     2014   89  \n",
       "16801     2015   90  \n",
       "11422     2014   34  \n",
       "...        ...  ...  \n",
       "6339      2014   92  \n",
       "15186     2015  111  \n",
       "15185     2014  110  \n",
       "1084      2014   52  \n",
       "1085      2015   53  \n",
       "\n",
       "[353 rows x 23 columns]"
      ]
     },
     "execution_count": 134,
=======
       "2494      1000102   9/16/2014  280000.0         6       3.00         2400   \n",
       "2495      1000102   4/22/2015  300000.0         6       3.00         2400   \n",
       "16800     7200179  10/16/2014  150000.0         2       1.00          840   \n",
       "16801     7200179   4/24/2015  175000.0         2       1.00          840   \n",
       "11421   109200390   8/20/2014  245000.0         3       1.75         1480   \n",
       "...           ...         ...       ...       ...        ...          ...   \n",
       "6340   9828200460    1/6/2015  430000.0         2       1.00          700   \n",
       "15185  9834200305   7/16/2014  350000.0         3       1.00         1790   \n",
       "15186  9834200305   2/10/2015  615000.0         3       1.00         1790   \n",
       "1084   9834200885   7/17/2014  360000.0         4       2.50         2080   \n",
       "1085   9834200885   4/20/2015  550000.0         4       2.50         2080   \n",
       "\n",
       "       sqft_lot  floors waterfront  view  ...          grade sqft_above  \\\n",
       "2494       9373     2.0        NaN  NONE  ...      7 Average       2400   \n",
       "2495       9373     2.0         NO  NONE  ...      7 Average       2400   \n",
       "16800     12750     1.0         NO  NONE  ...  6 Low Average        840   \n",
       "16801     12750     1.0         NO  NONE  ...  6 Low Average        840   \n",
       "11421      3900     1.0         NO  NONE  ...      7 Average       1480   \n",
       "...         ...     ...        ...   ...  ...            ...        ...   \n",
       "6340       4800     1.0         NO  NONE  ...      7 Average        700   \n",
       "15185      3876     1.5         NO  NONE  ...      7 Average       1090   \n",
       "15186      3876     1.5         NO  NONE  ...      7 Average       1090   \n",
       "1084       4080     1.0         NO  NONE  ...      7 Average       1040   \n",
       "1085       4080     1.0         NO  NONE  ...      7 Average       1040   \n",
       "\n",
       "       sqft_basement yr_built  yr_renovated  zipcode      lat     long  \\\n",
       "2494             0.0     1991           0.0    98002  47.3262 -122.214   \n",
       "2495             0.0     1991           0.0    98002  47.3262 -122.214   \n",
       "16800            0.0     1925           0.0    98055  47.4840 -122.211   \n",
       "16801            0.0     1925           NaN    98055  47.4840 -122.211   \n",
       "11421            0.0     1980           0.0    98023  47.2977 -122.367   \n",
       "...              ...      ...           ...      ...      ...      ...   \n",
       "6340             0.0     1922           0.0    98122  47.6147 -122.300   \n",
       "15185              ?     1904           0.0    98144  47.5750 -122.288   \n",
       "15186          700.0     1904           0.0    98144  47.5750 -122.288   \n",
       "1084          1040.0     1962           0.0    98144  47.5720 -122.290   \n",
       "1085          1040.0     1962           0.0    98144  47.5720 -122.290   \n",
       "\n",
       "       sqft_living15  sqft_lot15  \n",
       "2494            2060        7316  \n",
       "2495            2060        7316  \n",
       "16800           1480        6969  \n",
       "16801           1480        6969  \n",
       "11421           1830        6956  \n",
       "...              ...         ...  \n",
       "6340            1440        4800  \n",
       "15185           1360        4080  \n",
       "15186           1360        4080  \n",
       "1084            1340        4080  \n",
       "1085            1340        4080  \n",
       "\n",
       "[347 rows x 21 columns]"
      ]
     },
     "execution_count": 198,
>>>>>>> 72e094058c14e8d81f7edd8019d5d325d54cb26e
     "metadata": {},
     "output_type": "execute_result"
    }
   ],
   "source": [
    "ids = df['id']\n",
    "\n",
    "dups = df[ids.isin(ids[ids.duplicated()])].sort_values('id')\n",
    "dups\n",
    "\n",
    "#We have decided to keep duplicate Ids because they have different prices and its more data for our model"
   ]
  },
  {
   "cell_type": "code",
<<<<<<< HEAD
   "execution_count": 135,
=======
   "execution_count": 199,
>>>>>>> 72e094058c14e8d81f7edd8019d5d325d54cb26e
   "metadata": {},
   "outputs": [
    {
     "data": {
      "text/plain": [
       "0"
      ]
     },
<<<<<<< HEAD
     "execution_count": 135,
=======
     "execution_count": 199,
>>>>>>> 72e094058c14e8d81f7edd8019d5d325d54cb26e
     "metadata": {},
     "output_type": "execute_result"
    }
   ],
   "source": [
    "df.duplicated().sum()\n",
    "#There are no actual duplicates"
   ]
  },
  {
   "cell_type": "code",
<<<<<<< HEAD
   "execution_count": 136,
=======
   "execution_count": 200,
>>>>>>> 72e094058c14e8d81f7edd8019d5d325d54cb26e
   "metadata": {},
   "outputs": [],
   "source": [
    "df['yr_renovated'] = df['yr_renovated'].fillna(0.0)\n",
    "#Removing nulls from yr renovated assuming its 0"
   ]
  },
  {
   "cell_type": "code",
<<<<<<< HEAD
   "execution_count": 137,
=======
   "execution_count": 201,
>>>>>>> 72e094058c14e8d81f7edd8019d5d325d54cb26e
   "metadata": {},
   "outputs": [],
   "source": [
    "df['yr_renovated'] = df['yr_renovated'].astype(int)\n",
    "#Making years intergers for calculations of age"
   ]
  },
  {
   "cell_type": "code",
<<<<<<< HEAD
   "execution_count": 138,
=======
   "execution_count": 202,
>>>>>>> 72e094058c14e8d81f7edd8019d5d325d54cb26e
   "metadata": {},
   "outputs": [
    {
     "data": {
      "text/plain": [
       "0           0\n",
       "1        1991\n",
       "2           0\n",
       "3           0\n",
       "4           0\n",
       "         ... \n",
       "21592       0\n",
       "21593       0\n",
       "21594       0\n",
       "21595       0\n",
       "21596       0\n",
<<<<<<< HEAD
       "Name: yr_renovated, Length: 21472, dtype: int64"
      ]
     },
     "execution_count": 138,
=======
       "Name: yr_renovated, Length: 20704, dtype: int32"
      ]
     },
     "execution_count": 202,
>>>>>>> 72e094058c14e8d81f7edd8019d5d325d54cb26e
     "metadata": {},
     "output_type": "execute_result"
    }
   ],
   "source": [
    "df['yr_renovated']"
   ]
  },
  {
   "cell_type": "code",
<<<<<<< HEAD
   "execution_count": 139,
=======
   "execution_count": 203,
>>>>>>> 72e094058c14e8d81f7edd8019d5d325d54cb26e
   "metadata": {},
   "outputs": [],
   "source": [
    "df['date_yr'] = pd.DatetimeIndex(df['date']).year\n",
    "#turning sale dates into years for age calculation to associate age with model"
   ]
  },
  {
   "cell_type": "code",
<<<<<<< HEAD
   "execution_count": 140,
=======
   "execution_count": 204,
>>>>>>> 72e094058c14e8d81f7edd8019d5d325d54cb26e
   "metadata": {},
   "outputs": [
    {
     "data": {
      "text/plain": [
       "0        2014\n",
       "1        2014\n",
       "2        2015\n",
       "3        2014\n",
       "4        2015\n",
       "         ... \n",
       "21592    2014\n",
       "21593    2015\n",
       "21594    2014\n",
       "21595    2015\n",
       "21596    2014\n",
<<<<<<< HEAD
       "Name: date_yr, Length: 21472, dtype: int64"
      ]
     },
     "execution_count": 140,
=======
       "Name: date_yr, Length: 20704, dtype: int64"
      ]
     },
     "execution_count": 204,
>>>>>>> 72e094058c14e8d81f7edd8019d5d325d54cb26e
     "metadata": {},
     "output_type": "execute_result"
    }
   ],
   "source": [
    "df['date_yr']"
   ]
  },
  {
   "cell_type": "code",
<<<<<<< HEAD
   "execution_count": 141,
=======
   "execution_count": 205,
>>>>>>> 72e094058c14e8d81f7edd8019d5d325d54cb26e
   "metadata": {},
   "outputs": [],
   "source": [
    "df['age'] = 0"
   ]
  },
  {
   "cell_type": "code",
<<<<<<< HEAD
   "execution_count": 142,
=======
   "execution_count": 206,
>>>>>>> 72e094058c14e8d81f7edd8019d5d325d54cb26e
   "metadata": {},
   "outputs": [],
   "source": [
    "def age(renovated, built, year, age): \n",
    "    if renovated < 1:\n",
    "        age = year - built\n",
    "    else: age = year - renovated\n",
    "    \n",
    "    return age\n",
    "        "
   ]
  },
  {
   "cell_type": "code",
<<<<<<< HEAD
   "execution_count": 143,
=======
   "execution_count": 207,
>>>>>>> 72e094058c14e8d81f7edd8019d5d325d54cb26e
   "metadata": {},
   "outputs": [],
   "source": [
    "def age2(row):\n",
    "    if row['yr_renovated'] < 1:\n",
    "        return  row['date_yr'] - row['yr_built']\n",
    "    else:\n",
    "        return row['date_yr']- row['yr_renovated']\n",
    "        "
   ]
  },
  {
   "cell_type": "code",
<<<<<<< HEAD
   "execution_count": 144,
=======
   "execution_count": 208,
>>>>>>> 72e094058c14e8d81f7edd8019d5d325d54cb26e
   "metadata": {
    "scrolled": true
   },
   "outputs": [
    {
     "data": {
      "text/plain": [
       "0        59\n",
       "1        23\n",
       "2        82\n",
       "3        49\n",
       "4        28\n",
       "         ..\n",
       "21592     5\n",
       "21593     1\n",
       "21594     5\n",
       "21595    11\n",
       "21596     6\n",
<<<<<<< HEAD
       "Length: 21472, dtype: int64"
      ]
     },
     "execution_count": 144,
=======
       "Length: 20704, dtype: int64"
      ]
     },
     "execution_count": 208,
>>>>>>> 72e094058c14e8d81f7edd8019d5d325d54cb26e
     "metadata": {},
     "output_type": "execute_result"
    }
   ],
   "source": [
    "df.apply(age2, axis=1)"
   ]
  },
  {
   "cell_type": "code",
<<<<<<< HEAD
   "execution_count": 145,
=======
   "execution_count": 209,
>>>>>>> 72e094058c14e8d81f7edd8019d5d325d54cb26e
   "metadata": {},
   "outputs": [],
   "source": [
    "df2 = df.copy"
   ]
  },
  {
   "cell_type": "code",
<<<<<<< HEAD
   "execution_count": 146,
=======
   "execution_count": 210,
>>>>>>> 72e094058c14e8d81f7edd8019d5d325d54cb26e
   "metadata": {},
   "outputs": [],
   "source": [
    "df['age2'] = df.apply(age2, axis=1)"
   ]
  },
  {
   "cell_type": "code",
<<<<<<< HEAD
   "execution_count": 147,
=======
   "execution_count": 211,
>>>>>>> 72e094058c14e8d81f7edd8019d5d325d54cb26e
   "metadata": {},
   "outputs": [
    {
     "data": {
      "text/html": [
       "<div>\n",
       "<style scoped>\n",
       "    .dataframe tbody tr th:only-of-type {\n",
       "        vertical-align: middle;\n",
       "    }\n",
       "\n",
       "    .dataframe tbody tr th {\n",
       "        vertical-align: top;\n",
       "    }\n",
       "\n",
       "    .dataframe thead th {\n",
       "        text-align: right;\n",
       "    }\n",
       "</style>\n",
       "<table border=\"1\" class=\"dataframe\">\n",
       "  <thead>\n",
       "    <tr style=\"text-align: right;\">\n",
       "      <th></th>\n",
       "      <th>id</th>\n",
       "      <th>date</th>\n",
       "      <th>price</th>\n",
       "      <th>bedrooms</th>\n",
       "      <th>bathrooms</th>\n",
       "      <th>sqft_living</th>\n",
       "      <th>sqft_lot</th>\n",
       "      <th>floors</th>\n",
       "      <th>waterfront</th>\n",
       "      <th>view</th>\n",
       "      <th>...</th>\n",
       "      <th>yr_built</th>\n",
       "      <th>yr_renovated</th>\n",
       "      <th>zipcode</th>\n",
       "      <th>lat</th>\n",
       "      <th>long</th>\n",
       "      <th>sqft_living15</th>\n",
       "      <th>sqft_lot15</th>\n",
       "      <th>date_yr</th>\n",
       "      <th>age</th>\n",
       "      <th>age2</th>\n",
       "    </tr>\n",
       "  </thead>\n",
       "  <tbody>\n",
       "    <tr>\n",
       "      <th>0</th>\n",
       "      <td>7129300520</td>\n",
       "      <td>10/13/2014</td>\n",
       "      <td>221900.0</td>\n",
       "      <td>3</td>\n",
       "      <td>1.00</td>\n",
       "      <td>1180</td>\n",
       "      <td>5650</td>\n",
       "      <td>1.0</td>\n",
       "      <td>NaN</td>\n",
       "      <td>NONE</td>\n",
       "      <td>...</td>\n",
       "      <td>1955</td>\n",
       "      <td>0</td>\n",
       "      <td>98178</td>\n",
       "      <td>47.5112</td>\n",
       "      <td>-122.257</td>\n",
       "      <td>1340</td>\n",
       "      <td>5650</td>\n",
       "      <td>2014</td>\n",
       "      <td>0</td>\n",
       "      <td>59</td>\n",
       "    </tr>\n",
       "    <tr>\n",
       "      <th>1</th>\n",
       "      <td>6414100192</td>\n",
       "      <td>12/9/2014</td>\n",
       "      <td>538000.0</td>\n",
       "      <td>3</td>\n",
       "      <td>2.25</td>\n",
       "      <td>2570</td>\n",
       "      <td>7242</td>\n",
       "      <td>2.0</td>\n",
       "      <td>NO</td>\n",
       "      <td>NONE</td>\n",
       "      <td>...</td>\n",
       "      <td>1951</td>\n",
       "      <td>1991</td>\n",
       "      <td>98125</td>\n",
       "      <td>47.7210</td>\n",
       "      <td>-122.319</td>\n",
       "      <td>1690</td>\n",
       "      <td>7639</td>\n",
       "      <td>2014</td>\n",
       "      <td>0</td>\n",
       "      <td>23</td>\n",
       "    </tr>\n",
       "    <tr>\n",
       "      <th>2</th>\n",
       "      <td>5631500400</td>\n",
       "      <td>2/25/2015</td>\n",
       "      <td>180000.0</td>\n",
       "      <td>2</td>\n",
       "      <td>1.00</td>\n",
       "      <td>770</td>\n",
       "      <td>10000</td>\n",
       "      <td>1.0</td>\n",
       "      <td>NO</td>\n",
       "      <td>NONE</td>\n",
       "      <td>...</td>\n",
       "      <td>1933</td>\n",
       "      <td>0</td>\n",
       "      <td>98028</td>\n",
       "      <td>47.7379</td>\n",
       "      <td>-122.233</td>\n",
       "      <td>2720</td>\n",
       "      <td>8062</td>\n",
       "      <td>2015</td>\n",
       "      <td>0</td>\n",
       "      <td>82</td>\n",
       "    </tr>\n",
       "    <tr>\n",
       "      <th>3</th>\n",
       "      <td>2487200875</td>\n",
       "      <td>12/9/2014</td>\n",
       "      <td>604000.0</td>\n",
       "      <td>4</td>\n",
       "      <td>3.00</td>\n",
       "      <td>1960</td>\n",
       "      <td>5000</td>\n",
       "      <td>1.0</td>\n",
       "      <td>NO</td>\n",
       "      <td>NONE</td>\n",
       "      <td>...</td>\n",
       "      <td>1965</td>\n",
       "      <td>0</td>\n",
       "      <td>98136</td>\n",
       "      <td>47.5208</td>\n",
       "      <td>-122.393</td>\n",
       "      <td>1360</td>\n",
       "      <td>5000</td>\n",
       "      <td>2014</td>\n",
       "      <td>0</td>\n",
       "      <td>49</td>\n",
       "    </tr>\n",
       "    <tr>\n",
       "      <th>4</th>\n",
       "      <td>1954400510</td>\n",
       "      <td>2/18/2015</td>\n",
       "      <td>510000.0</td>\n",
       "      <td>3</td>\n",
       "      <td>2.00</td>\n",
       "      <td>1680</td>\n",
       "      <td>8080</td>\n",
       "      <td>1.0</td>\n",
       "      <td>NO</td>\n",
       "      <td>NONE</td>\n",
       "      <td>...</td>\n",
       "      <td>1987</td>\n",
       "      <td>0</td>\n",
       "      <td>98074</td>\n",
       "      <td>47.6168</td>\n",
       "      <td>-122.045</td>\n",
       "      <td>1800</td>\n",
       "      <td>7503</td>\n",
       "      <td>2015</td>\n",
       "      <td>0</td>\n",
       "      <td>28</td>\n",
       "    </tr>\n",
       "  </tbody>\n",
       "</table>\n",
       "<p>5 rows × 24 columns</p>\n",
       "</div>"
      ],
      "text/plain": [
       "           id        date     price  bedrooms  bathrooms  sqft_living  \\\n",
       "0  7129300520  10/13/2014  221900.0         3       1.00         1180   \n",
       "1  6414100192   12/9/2014  538000.0         3       2.25         2570   \n",
       "2  5631500400   2/25/2015  180000.0         2       1.00          770   \n",
       "3  2487200875   12/9/2014  604000.0         4       3.00         1960   \n",
       "4  1954400510   2/18/2015  510000.0         3       2.00         1680   \n",
       "\n",
       "   sqft_lot  floors waterfront  view  ... yr_built yr_renovated  zipcode  \\\n",
       "0      5650     1.0        NaN  NONE  ...     1955            0    98178   \n",
       "1      7242     2.0         NO  NONE  ...     1951         1991    98125   \n",
       "2     10000     1.0         NO  NONE  ...     1933            0    98028   \n",
       "3      5000     1.0         NO  NONE  ...     1965            0    98136   \n",
       "4      8080     1.0         NO  NONE  ...     1987            0    98074   \n",
       "\n",
       "       lat     long  sqft_living15  sqft_lot15  date_yr  age  age2  \n",
       "0  47.5112 -122.257           1340        5650     2014    0    59  \n",
       "1  47.7210 -122.319           1690        7639     2014    0    23  \n",
       "2  47.7379 -122.233           2720        8062     2015    0    82  \n",
       "3  47.5208 -122.393           1360        5000     2014    0    49  \n",
       "4  47.6168 -122.045           1800        7503     2015    0    28  \n",
       "\n",
       "[5 rows x 24 columns]"
      ]
     },
<<<<<<< HEAD
     "execution_count": 147,
=======
     "execution_count": 211,
>>>>>>> 72e094058c14e8d81f7edd8019d5d325d54cb26e
     "metadata": {},
     "output_type": "execute_result"
    }
   ],
   "source": [
    "df.head()"
   ]
  },
  {
   "cell_type": "code",
<<<<<<< HEAD
   "execution_count": 148,
=======
   "execution_count": 212,
>>>>>>> 72e094058c14e8d81f7edd8019d5d325d54cb26e
   "metadata": {},
   "outputs": [
    {
     "data": {
      "text/plain": [
<<<<<<< HEAD
       "0       20735\n",
       "2014       73\n",
       "2013       30\n",
       "2007       30\n",
       "2003       30\n",
       "        ...  \n",
       "1976        1\n",
       "1953        1\n",
       "1951        1\n",
       "1946        1\n",
       "1944        1\n",
       "Name: yr_renovated, Length: 70, dtype: int64"
      ]
     },
     "execution_count": 148,
=======
       "0       20009\n",
       "2014       72\n",
       "2013       30\n",
       "2007       27\n",
       "2003       27\n",
       "        ...  \n",
       "1934        1\n",
       "1959        1\n",
       "1948        1\n",
       "1971        1\n",
       "1946        1\n",
       "Name: yr_renovated, Length: 70, dtype: int64"
      ]
     },
     "execution_count": 212,
>>>>>>> 72e094058c14e8d81f7edd8019d5d325d54cb26e
     "metadata": {},
     "output_type": "execute_result"
    }
   ],
   "source": [
    "df['yr_renovated'].value_counts()"
   ]
  },
  {
   "cell_type": "code",
<<<<<<< HEAD
   "execution_count": 149,
=======
   "execution_count": 213,
>>>>>>> 72e094058c14e8d81f7edd8019d5d325d54cb26e
   "metadata": {},
   "outputs": [
    {
     "data": {
      "text/plain": [
       "0"
      ]
     },
<<<<<<< HEAD
     "execution_count": 149,
=======
     "execution_count": 213,
>>>>>>> 72e094058c14e8d81f7edd8019d5d325d54cb26e
     "metadata": {},
     "output_type": "execute_result"
    }
   ],
   "source": [
    "df['yr_built'].isna().sum()"
   ]
  },
  {
   "cell_type": "code",
<<<<<<< HEAD
   "execution_count": 150,
=======
   "execution_count": 214,
>>>>>>> 72e094058c14e8d81f7edd8019d5d325d54cb26e
   "metadata": {},
   "outputs": [
    {
     "data": {
      "text/plain": [
<<<<<<< HEAD
       "2014    558\n",
       "2006    453\n",
       "2005    448\n",
       "2004    429\n",
       "2003    419\n",
       "       ... \n",
       "1933     30\n",
       "1901     27\n",
       "1902     27\n",
       "1935     24\n",
       "1934     21\n",
       "Name: yr_built, Length: 116, dtype: int64"
      ]
     },
     "execution_count": 150,
=======
       "2014    527\n",
       "2005    418\n",
       "1977    409\n",
       "2006    406\n",
       "2004    395\n",
       "       ... \n",
       "1933     28\n",
       "1901     27\n",
       "1902     25\n",
       "1935     22\n",
       "1934     20\n",
       "Name: yr_built, Length: 116, dtype: int64"
      ]
     },
     "execution_count": 214,
>>>>>>> 72e094058c14e8d81f7edd8019d5d325d54cb26e
     "metadata": {},
     "output_type": "execute_result"
    }
   ],
   "source": [
    "df['yr_built'].value_counts()"
   ]
  },
  {
   "cell_type": "code",
<<<<<<< HEAD
   "execution_count": 151,
=======
   "execution_count": 215,
>>>>>>> 72e094058c14e8d81f7edd8019d5d325d54cb26e
   "metadata": {},
   "outputs": [],
   "source": [
    "df['age'] = df['age2']"
   ]
  },
  {
   "cell_type": "code",
<<<<<<< HEAD
   "execution_count": 152,
=======
   "execution_count": 216,
>>>>>>> 72e094058c14e8d81f7edd8019d5d325d54cb26e
   "metadata": {},
   "outputs": [],
   "source": [
    "df = df.drop('age2', axis=1)"
   ]
  },
  {
   "cell_type": "code",
<<<<<<< HEAD
   "execution_count": 153,
=======
   "execution_count": 217,
>>>>>>> 72e094058c14e8d81f7edd8019d5d325d54cb26e
   "metadata": {},
   "outputs": [
    {
     "data": {
      "text/html": [
       "<div>\n",
       "<style scoped>\n",
       "    .dataframe tbody tr th:only-of-type {\n",
       "        vertical-align: middle;\n",
       "    }\n",
       "\n",
       "    .dataframe tbody tr th {\n",
       "        vertical-align: top;\n",
       "    }\n",
       "\n",
       "    .dataframe thead th {\n",
       "        text-align: right;\n",
       "    }\n",
       "</style>\n",
       "<table border=\"1\" class=\"dataframe\">\n",
       "  <thead>\n",
       "    <tr style=\"text-align: right;\">\n",
       "      <th></th>\n",
       "      <th>id</th>\n",
       "      <th>date</th>\n",
       "      <th>price</th>\n",
       "      <th>bedrooms</th>\n",
       "      <th>bathrooms</th>\n",
       "      <th>sqft_living</th>\n",
       "      <th>sqft_lot</th>\n",
       "      <th>floors</th>\n",
       "      <th>waterfront</th>\n",
       "      <th>view</th>\n",
       "      <th>...</th>\n",
       "      <th>sqft_basement</th>\n",
       "      <th>yr_built</th>\n",
       "      <th>yr_renovated</th>\n",
       "      <th>zipcode</th>\n",
       "      <th>lat</th>\n",
       "      <th>long</th>\n",
       "      <th>sqft_living15</th>\n",
       "      <th>sqft_lot15</th>\n",
       "      <th>date_yr</th>\n",
       "      <th>age</th>\n",
       "    </tr>\n",
       "  </thead>\n",
       "  <tbody>\n",
       "    <tr>\n",
       "      <th>0</th>\n",
       "      <td>7129300520</td>\n",
       "      <td>10/13/2014</td>\n",
       "      <td>221900.0</td>\n",
       "      <td>3</td>\n",
       "      <td>1.00</td>\n",
       "      <td>1180</td>\n",
       "      <td>5650</td>\n",
       "      <td>1.0</td>\n",
       "      <td>NaN</td>\n",
       "      <td>NONE</td>\n",
       "      <td>...</td>\n",
       "      <td>0.0</td>\n",
       "      <td>1955</td>\n",
       "      <td>0</td>\n",
       "      <td>98178</td>\n",
       "      <td>47.5112</td>\n",
       "      <td>-122.257</td>\n",
       "      <td>1340</td>\n",
       "      <td>5650</td>\n",
       "      <td>2014</td>\n",
       "      <td>59</td>\n",
       "    </tr>\n",
       "    <tr>\n",
       "      <th>1</th>\n",
       "      <td>6414100192</td>\n",
       "      <td>12/9/2014</td>\n",
       "      <td>538000.0</td>\n",
       "      <td>3</td>\n",
       "      <td>2.25</td>\n",
       "      <td>2570</td>\n",
       "      <td>7242</td>\n",
       "      <td>2.0</td>\n",
       "      <td>NO</td>\n",
       "      <td>NONE</td>\n",
       "      <td>...</td>\n",
       "      <td>400.0</td>\n",
       "      <td>1951</td>\n",
       "      <td>1991</td>\n",
       "      <td>98125</td>\n",
       "      <td>47.7210</td>\n",
       "      <td>-122.319</td>\n",
       "      <td>1690</td>\n",
       "      <td>7639</td>\n",
       "      <td>2014</td>\n",
       "      <td>23</td>\n",
       "    </tr>\n",
       "    <tr>\n",
       "      <th>2</th>\n",
       "      <td>5631500400</td>\n",
       "      <td>2/25/2015</td>\n",
       "      <td>180000.0</td>\n",
       "      <td>2</td>\n",
       "      <td>1.00</td>\n",
       "      <td>770</td>\n",
       "      <td>10000</td>\n",
       "      <td>1.0</td>\n",
       "      <td>NO</td>\n",
       "      <td>NONE</td>\n",
       "      <td>...</td>\n",
       "      <td>0.0</td>\n",
       "      <td>1933</td>\n",
       "      <td>0</td>\n",
       "      <td>98028</td>\n",
       "      <td>47.7379</td>\n",
       "      <td>-122.233</td>\n",
       "      <td>2720</td>\n",
       "      <td>8062</td>\n",
       "      <td>2015</td>\n",
       "      <td>82</td>\n",
       "    </tr>\n",
       "    <tr>\n",
       "      <th>3</th>\n",
       "      <td>2487200875</td>\n",
       "      <td>12/9/2014</td>\n",
       "      <td>604000.0</td>\n",
       "      <td>4</td>\n",
       "      <td>3.00</td>\n",
       "      <td>1960</td>\n",
       "      <td>5000</td>\n",
       "      <td>1.0</td>\n",
       "      <td>NO</td>\n",
       "      <td>NONE</td>\n",
       "      <td>...</td>\n",
       "      <td>910.0</td>\n",
       "      <td>1965</td>\n",
       "      <td>0</td>\n",
       "      <td>98136</td>\n",
       "      <td>47.5208</td>\n",
       "      <td>-122.393</td>\n",
       "      <td>1360</td>\n",
       "      <td>5000</td>\n",
       "      <td>2014</td>\n",
       "      <td>49</td>\n",
       "    </tr>\n",
       "    <tr>\n",
       "      <th>4</th>\n",
       "      <td>1954400510</td>\n",
       "      <td>2/18/2015</td>\n",
       "      <td>510000.0</td>\n",
       "      <td>3</td>\n",
       "      <td>2.00</td>\n",
       "      <td>1680</td>\n",
       "      <td>8080</td>\n",
       "      <td>1.0</td>\n",
       "      <td>NO</td>\n",
       "      <td>NONE</td>\n",
       "      <td>...</td>\n",
       "      <td>0.0</td>\n",
       "      <td>1987</td>\n",
       "      <td>0</td>\n",
       "      <td>98074</td>\n",
       "      <td>47.6168</td>\n",
       "      <td>-122.045</td>\n",
       "      <td>1800</td>\n",
       "      <td>7503</td>\n",
       "      <td>2015</td>\n",
       "      <td>28</td>\n",
       "    </tr>\n",
       "  </tbody>\n",
       "</table>\n",
       "<p>5 rows × 23 columns</p>\n",
       "</div>"
      ],
      "text/plain": [
       "           id        date     price  bedrooms  bathrooms  sqft_living  \\\n",
       "0  7129300520  10/13/2014  221900.0         3       1.00         1180   \n",
       "1  6414100192   12/9/2014  538000.0         3       2.25         2570   \n",
       "2  5631500400   2/25/2015  180000.0         2       1.00          770   \n",
       "3  2487200875   12/9/2014  604000.0         4       3.00         1960   \n",
       "4  1954400510   2/18/2015  510000.0         3       2.00         1680   \n",
       "\n",
       "   sqft_lot  floors waterfront  view  ... sqft_basement yr_built  \\\n",
       "0      5650     1.0        NaN  NONE  ...           0.0     1955   \n",
       "1      7242     2.0         NO  NONE  ...         400.0     1951   \n",
       "2     10000     1.0         NO  NONE  ...           0.0     1933   \n",
       "3      5000     1.0         NO  NONE  ...         910.0     1965   \n",
       "4      8080     1.0         NO  NONE  ...           0.0     1987   \n",
       "\n",
       "   yr_renovated zipcode      lat     long  sqft_living15  sqft_lot15  date_yr  \\\n",
       "0             0   98178  47.5112 -122.257           1340        5650     2014   \n",
       "1          1991   98125  47.7210 -122.319           1690        7639     2014   \n",
       "2             0   98028  47.7379 -122.233           2720        8062     2015   \n",
       "3             0   98136  47.5208 -122.393           1360        5000     2014   \n",
       "4             0   98074  47.6168 -122.045           1800        7503     2015   \n",
       "\n",
       "   age  \n",
       "0   59  \n",
       "1   23  \n",
       "2   82  \n",
       "3   49  \n",
       "4   28  \n",
       "\n",
       "[5 rows x 23 columns]"
      ]
     },
<<<<<<< HEAD
     "execution_count": 153,
=======
     "execution_count": 217,
>>>>>>> 72e094058c14e8d81f7edd8019d5d325d54cb26e
     "metadata": {},
     "output_type": "execute_result"
    }
   ],
   "source": [
    "df.head()"
   ]
  },
  {
   "cell_type": "code",
<<<<<<< HEAD
   "execution_count": 154,
=======
   "execution_count": 218,
>>>>>>> 72e094058c14e8d81f7edd8019d5d325d54cb26e
   "metadata": {},
   "outputs": [],
   "source": [
    "df_nums = df[['price', 'bedrooms', 'age', 'sqft_living', 'floors']]"
   ]
  },
  {
   "cell_type": "code",
<<<<<<< HEAD
   "execution_count": 155,
=======
   "execution_count": 219,
>>>>>>> 72e094058c14e8d81f7edd8019d5d325d54cb26e
   "metadata": {},
   "outputs": [
    {
     "data": {
      "text/plain": [
       "price          0\n",
       "bedrooms       0\n",
       "age            0\n",
       "sqft_living    0\n",
       "floors         0\n",
       "dtype: int64"
      ]
     },
<<<<<<< HEAD
     "execution_count": 155,
=======
     "execution_count": 219,
>>>>>>> 72e094058c14e8d81f7edd8019d5d325d54cb26e
     "metadata": {},
     "output_type": "execute_result"
    }
   ],
   "source": [
    "df_nums.isna().sum()\n"
   ]
  },
  {
   "cell_type": "code",
<<<<<<< HEAD
   "execution_count": 180,
=======
   "execution_count": 220,
>>>>>>> 72e094058c14e8d81f7edd8019d5d325d54cb26e
   "metadata": {},
   "outputs": [
    {
     "data": {
      "text/plain": [
<<<<<<< HEAD
       "(21472, 5)"
      ]
     },
     "execution_count": 180,
=======
       "(20704, 5)"
      ]
     },
     "execution_count": 220,
>>>>>>> 72e094058c14e8d81f7edd8019d5d325d54cb26e
     "metadata": {},
     "output_type": "execute_result"
    }
   ],
   "source": [
    "df_nums.shape"
   ]
  },
  {
   "cell_type": "code",
<<<<<<< HEAD
   "execution_count": 156,
=======
   "execution_count": 221,
>>>>>>> 72e094058c14e8d81f7edd8019d5d325d54cb26e
   "metadata": {},
   "outputs": [],
   "source": [
    "df_scale = df_nums.drop('price',axis=1)"
   ]
  },
  {
   "cell_type": "code",
<<<<<<< HEAD
   "execution_count": 177,
=======
   "execution_count": 222,
>>>>>>> 72e094058c14e8d81f7edd8019d5d325d54cb26e
   "metadata": {},
   "outputs": [
    {
     "data": {
      "text/html": [
       "<div>\n",
       "<style scoped>\n",
       "    .dataframe tbody tr th:only-of-type {\n",
       "        vertical-align: middle;\n",
       "    }\n",
       "\n",
       "    .dataframe tbody tr th {\n",
       "        vertical-align: top;\n",
       "    }\n",
       "\n",
       "    .dataframe thead th {\n",
       "        text-align: right;\n",
       "    }\n",
       "</style>\n",
       "<table border=\"1\" class=\"dataframe\">\n",
       "  <thead>\n",
       "    <tr style=\"text-align: right;\">\n",
       "      <th></th>\n",
       "      <th>bedrooms</th>\n",
       "      <th>age</th>\n",
       "      <th>sqft_living</th>\n",
       "      <th>floors</th>\n",
       "    </tr>\n",
       "  </thead>\n",
       "  <tbody>\n",
       "    <tr>\n",
       "      <th>0</th>\n",
       "      <td>3</td>\n",
       "      <td>59</td>\n",
       "      <td>1180</td>\n",
       "      <td>1.0</td>\n",
       "    </tr>\n",
       "    <tr>\n",
       "      <th>1</th>\n",
       "      <td>3</td>\n",
       "      <td>23</td>\n",
       "      <td>2570</td>\n",
       "      <td>2.0</td>\n",
       "    </tr>\n",
       "    <tr>\n",
       "      <th>2</th>\n",
       "      <td>2</td>\n",
       "      <td>82</td>\n",
       "      <td>770</td>\n",
       "      <td>1.0</td>\n",
       "    </tr>\n",
       "    <tr>\n",
       "      <th>3</th>\n",
       "      <td>4</td>\n",
       "      <td>49</td>\n",
       "      <td>1960</td>\n",
       "      <td>1.0</td>\n",
       "    </tr>\n",
       "    <tr>\n",
       "      <th>4</th>\n",
       "      <td>3</td>\n",
       "      <td>28</td>\n",
       "      <td>1680</td>\n",
       "      <td>1.0</td>\n",
       "    </tr>\n",
       "    <tr>\n",
       "      <th>...</th>\n",
       "      <td>...</td>\n",
       "      <td>...</td>\n",
       "      <td>...</td>\n",
       "      <td>...</td>\n",
       "    </tr>\n",
       "    <tr>\n",
       "      <th>21592</th>\n",
       "      <td>3</td>\n",
       "      <td>5</td>\n",
       "      <td>1530</td>\n",
       "      <td>3.0</td>\n",
       "    </tr>\n",
       "    <tr>\n",
       "      <th>21593</th>\n",
       "      <td>4</td>\n",
       "      <td>1</td>\n",
       "      <td>2310</td>\n",
       "      <td>2.0</td>\n",
       "    </tr>\n",
       "    <tr>\n",
       "      <th>21594</th>\n",
       "      <td>2</td>\n",
       "      <td>5</td>\n",
       "      <td>1020</td>\n",
       "      <td>2.0</td>\n",
       "    </tr>\n",
       "    <tr>\n",
       "      <th>21595</th>\n",
       "      <td>3</td>\n",
       "      <td>11</td>\n",
       "      <td>1600</td>\n",
       "      <td>2.0</td>\n",
       "    </tr>\n",
       "    <tr>\n",
       "      <th>21596</th>\n",
       "      <td>2</td>\n",
       "      <td>6</td>\n",
       "      <td>1020</td>\n",
       "      <td>2.0</td>\n",
       "    </tr>\n",
       "  </tbody>\n",
       "</table>\n",
<<<<<<< HEAD
       "<p>21472 rows × 4 columns</p>\n",
=======
       "<p>20704 rows × 4 columns</p>\n",
>>>>>>> 72e094058c14e8d81f7edd8019d5d325d54cb26e
       "</div>"
      ],
      "text/plain": [
       "       bedrooms  age  sqft_living  floors\n",
       "0             3   59         1180     1.0\n",
       "1             3   23         2570     2.0\n",
       "2             2   82          770     1.0\n",
       "3             4   49         1960     1.0\n",
       "4             3   28         1680     1.0\n",
       "...         ...  ...          ...     ...\n",
       "21592         3    5         1530     3.0\n",
       "21593         4    1         2310     2.0\n",
       "21594         2    5         1020     2.0\n",
       "21595         3   11         1600     2.0\n",
       "21596         2    6         1020     2.0\n",
       "\n",
<<<<<<< HEAD
       "[21472 rows x 4 columns]"
      ]
     },
     "execution_count": 177,
=======
       "[20704 rows x 4 columns]"
      ]
     },
     "execution_count": 222,
>>>>>>> 72e094058c14e8d81f7edd8019d5d325d54cb26e
     "metadata": {},
     "output_type": "execute_result"
    }
   ],
   "source": [
    "df_scale"
   ]
  },
  {
   "cell_type": "code",
<<<<<<< HEAD
   "execution_count": 238,
=======
   "execution_count": 223,
>>>>>>> 72e094058c14e8d81f7edd8019d5d325d54cb26e
   "metadata": {},
   "outputs": [
    {
     "data": {
      "text/plain": [
<<<<<<< HEAD
       "(21472,)"
      ]
     },
     "execution_count": 238,
=======
       "(20704,)"
      ]
     },
     "execution_count": 223,
>>>>>>> 72e094058c14e8d81f7edd8019d5d325d54cb26e
     "metadata": {},
     "output_type": "execute_result"
    }
   ],
   "source": [
    "df_price = df_nums['price']\n",
    "df_price.shape"
   ]
  },
  {
   "cell_type": "code",
<<<<<<< HEAD
   "execution_count": 239,
=======
   "execution_count": 224,
>>>>>>> 72e094058c14e8d81f7edd8019d5d325d54cb26e
   "metadata": {
    "scrolled": true
   },
   "outputs": [
    {
     "data": {
      "text/plain": [
       "0        221900.0\n",
       "1        538000.0\n",
       "2        180000.0\n",
       "3        604000.0\n",
       "4        510000.0\n",
       "           ...   \n",
<<<<<<< HEAD
       "21467    360000.0\n",
       "21468    400000.0\n",
       "21469    402101.0\n",
       "21470    400000.0\n",
       "21471    325000.0\n",
       "Name: price, Length: 21472, dtype: float64"
      ]
     },
     "execution_count": 239,
=======
       "20699    360000.0\n",
       "20700    400000.0\n",
       "20701    402101.0\n",
       "20702    400000.0\n",
       "20703    325000.0\n",
       "Name: price, Length: 20704, dtype: float64"
      ]
     },
     "execution_count": 224,
>>>>>>> 72e094058c14e8d81f7edd8019d5d325d54cb26e
     "metadata": {},
     "output_type": "execute_result"
    }
   ],
   "source": [
    "#scaling to adjust for standard scaler!\n",
    "df_price = df_price.reset_index(drop=True)\n",
    "df_price"
   ]
  },
  {
   "cell_type": "code",
<<<<<<< HEAD
   "execution_count": 240,
=======
   "execution_count": 225,
>>>>>>> 72e094058c14e8d81f7edd8019d5d325d54cb26e
   "metadata": {},
   "outputs": [
    {
     "data": {
      "text/html": [
       "<div>\n",
       "<style scoped>\n",
       "    .dataframe tbody tr th:only-of-type {\n",
       "        vertical-align: middle;\n",
       "    }\n",
       "\n",
       "    .dataframe tbody tr th {\n",
       "        vertical-align: top;\n",
       "    }\n",
       "\n",
       "    .dataframe thead th {\n",
       "        text-align: right;\n",
       "    }\n",
       "</style>\n",
       "<table border=\"1\" class=\"dataframe\">\n",
       "  <thead>\n",
       "    <tr style=\"text-align: right;\">\n",
       "      <th></th>\n",
       "      <th>bedrooms</th>\n",
       "      <th>age</th>\n",
       "      <th>sqft_living</th>\n",
       "      <th>floors</th>\n",
       "    </tr>\n",
       "  </thead>\n",
       "  <tbody>\n",
       "    <tr>\n",
       "      <th>0</th>\n",
       "      <td>3</td>\n",
       "      <td>59</td>\n",
       "      <td>1180</td>\n",
       "      <td>1.0</td>\n",
       "    </tr>\n",
       "    <tr>\n",
       "      <th>1</th>\n",
       "      <td>3</td>\n",
       "      <td>23</td>\n",
       "      <td>2570</td>\n",
       "      <td>2.0</td>\n",
       "    </tr>\n",
       "    <tr>\n",
       "      <th>2</th>\n",
       "      <td>2</td>\n",
       "      <td>82</td>\n",
       "      <td>770</td>\n",
       "      <td>1.0</td>\n",
       "    </tr>\n",
       "    <tr>\n",
       "      <th>3</th>\n",
       "      <td>4</td>\n",
       "      <td>49</td>\n",
       "      <td>1960</td>\n",
       "      <td>1.0</td>\n",
       "    </tr>\n",
       "    <tr>\n",
       "      <th>4</th>\n",
       "      <td>3</td>\n",
       "      <td>28</td>\n",
       "      <td>1680</td>\n",
       "      <td>1.0</td>\n",
       "    </tr>\n",
       "  </tbody>\n",
       "</table>\n",
       "</div>"
      ],
      "text/plain": [
       "   bedrooms  age  sqft_living  floors\n",
       "0         3   59         1180     1.0\n",
       "1         3   23         2570     2.0\n",
       "2         2   82          770     1.0\n",
       "3         4   49         1960     1.0\n",
       "4         3   28         1680     1.0"
      ]
     },
<<<<<<< HEAD
     "execution_count": 240,
=======
     "execution_count": 225,
>>>>>>> 72e094058c14e8d81f7edd8019d5d325d54cb26e
     "metadata": {},
     "output_type": "execute_result"
    }
   ],
   "source": [
    "ss = StandardScaler()\n",
    "\n",
    "ss.fit(df_scale)\n",
    "\n",
    "df_scale.head()"
   ]
  },
  {
   "cell_type": "code",
<<<<<<< HEAD
   "execution_count": 241,
=======
   "execution_count": 226,
>>>>>>> 72e094058c14e8d81f7edd8019d5d325d54cb26e
   "metadata": {},
   "outputs": [
    {
     "data": {
      "text/plain": [
<<<<<<< HEAD
       "array([[-0.41093946,  0.6101104 , -0.98430561, -0.91434926],\n",
       "       [-0.41093946, -0.63404085,  0.5448856 ,  0.9388608 ],\n",
       "       [-1.55375672,  1.40498481, -1.43536201, -0.91434926],\n",
       "       ...,\n",
       "       [-1.55375672, -1.25611647, -1.16032762,  0.9388608 ],\n",
       "       [-0.41093946, -1.04875793, -0.52224783,  0.9388608 ],\n",
       "       [-1.55375672, -1.22155672, -1.16032762,  0.9388608 ]])"
      ]
     },
     "execution_count": 241,
=======
       "array([[-0.37656975,  0.58598735, -1.07370611, -0.88886687],\n",
       "       [-0.37656975, -0.65936756,  0.8026297 ,  0.97341806],\n",
       "       [-1.54196586,  1.38163077, -1.62715768, -0.88886687],\n",
       "       ...,\n",
       "       [-1.54196586, -1.28204501, -1.28968721,  0.97341806],\n",
       "       [-0.37656975, -1.07448586, -0.50675572,  0.97341806],\n",
       "       [-1.54196586, -1.24745182, -1.28968721,  0.97341806]])"
      ]
     },
     "execution_count": 226,
>>>>>>> 72e094058c14e8d81f7edd8019d5d325d54cb26e
     "metadata": {},
     "output_type": "execute_result"
    }
   ],
   "source": [
    "df_scaled_new = ss.transform(df_scale)\n",
    "df_scaled_new"
   ]
  },
  {
   "cell_type": "code",
<<<<<<< HEAD
   "execution_count": 242,
=======
   "execution_count": 227,
>>>>>>> 72e094058c14e8d81f7edd8019d5d325d54cb26e
   "metadata": {},
   "outputs": [
    {
     "data": {
      "text/html": [
       "<div>\n",
       "<style scoped>\n",
       "    .dataframe tbody tr th:only-of-type {\n",
       "        vertical-align: middle;\n",
       "    }\n",
       "\n",
       "    .dataframe tbody tr th {\n",
       "        vertical-align: top;\n",
       "    }\n",
       "\n",
       "    .dataframe thead th {\n",
       "        text-align: right;\n",
       "    }\n",
       "</style>\n",
       "<table border=\"1\" class=\"dataframe\">\n",
       "  <thead>\n",
       "    <tr style=\"text-align: right;\">\n",
       "      <th></th>\n",
       "      <th>bedrooms</th>\n",
       "      <th>age</th>\n",
       "      <th>sqft_living</th>\n",
       "      <th>floors</th>\n",
       "    </tr>\n",
       "  </thead>\n",
       "  <tbody>\n",
       "    <tr>\n",
       "      <th>0</th>\n",
<<<<<<< HEAD
       "      <td>-0.410939</td>\n",
       "      <td>0.610110</td>\n",
       "      <td>-0.984306</td>\n",
       "      <td>-0.914349</td>\n",
       "    </tr>\n",
       "    <tr>\n",
       "      <th>1</th>\n",
       "      <td>-0.410939</td>\n",
       "      <td>-0.634041</td>\n",
       "      <td>0.544886</td>\n",
       "      <td>0.938861</td>\n",
       "    </tr>\n",
       "    <tr>\n",
       "      <th>2</th>\n",
       "      <td>-1.553757</td>\n",
       "      <td>1.404985</td>\n",
       "      <td>-1.435362</td>\n",
       "      <td>-0.914349</td>\n",
       "    </tr>\n",
       "    <tr>\n",
       "      <th>3</th>\n",
       "      <td>0.731878</td>\n",
       "      <td>0.264513</td>\n",
       "      <td>-0.126198</td>\n",
       "      <td>-0.914349</td>\n",
       "    </tr>\n",
       "    <tr>\n",
       "      <th>4</th>\n",
       "      <td>-0.410939</td>\n",
       "      <td>-0.461242</td>\n",
       "      <td>-0.434237</td>\n",
       "      <td>-0.914349</td>\n",
=======
       "      <td>-0.376570</td>\n",
       "      <td>0.585987</td>\n",
       "      <td>-1.073706</td>\n",
       "      <td>-0.888867</td>\n",
       "    </tr>\n",
       "    <tr>\n",
       "      <th>1</th>\n",
       "      <td>-0.376570</td>\n",
       "      <td>-0.659368</td>\n",
       "      <td>0.802630</td>\n",
       "      <td>0.973418</td>\n",
       "    </tr>\n",
       "    <tr>\n",
       "      <th>2</th>\n",
       "      <td>-1.541966</td>\n",
       "      <td>1.381631</td>\n",
       "      <td>-1.627158</td>\n",
       "      <td>-0.888867</td>\n",
       "    </tr>\n",
       "    <tr>\n",
       "      <th>3</th>\n",
       "      <td>0.788826</td>\n",
       "      <td>0.240055</td>\n",
       "      <td>-0.020798</td>\n",
       "      <td>-0.888867</td>\n",
       "    </tr>\n",
       "    <tr>\n",
       "      <th>4</th>\n",
       "      <td>-0.376570</td>\n",
       "      <td>-0.486402</td>\n",
       "      <td>-0.398765</td>\n",
       "      <td>-0.888867</td>\n",
>>>>>>> 72e094058c14e8d81f7edd8019d5d325d54cb26e
       "    </tr>\n",
       "    <tr>\n",
       "      <th>...</th>\n",
       "      <td>...</td>\n",
       "      <td>...</td>\n",
       "      <td>...</td>\n",
       "      <td>...</td>\n",
       "    </tr>\n",
       "    <tr>\n",
<<<<<<< HEAD
       "      <th>21467</th>\n",
       "      <td>-0.410939</td>\n",
       "      <td>-1.256116</td>\n",
       "      <td>-0.599257</td>\n",
       "      <td>2.792071</td>\n",
       "    </tr>\n",
       "    <tr>\n",
       "      <th>21468</th>\n",
       "      <td>0.731878</td>\n",
       "      <td>-1.394356</td>\n",
       "      <td>0.258850</td>\n",
       "      <td>0.938861</td>\n",
       "    </tr>\n",
       "    <tr>\n",
       "      <th>21469</th>\n",
       "      <td>-1.553757</td>\n",
       "      <td>-1.256116</td>\n",
       "      <td>-1.160328</td>\n",
       "      <td>0.938861</td>\n",
       "    </tr>\n",
       "    <tr>\n",
       "      <th>21470</th>\n",
       "      <td>-0.410939</td>\n",
       "      <td>-1.048758</td>\n",
       "      <td>-0.522248</td>\n",
       "      <td>0.938861</td>\n",
       "    </tr>\n",
       "    <tr>\n",
       "      <th>21471</th>\n",
       "      <td>-1.553757</td>\n",
       "      <td>-1.221557</td>\n",
       "      <td>-1.160328</td>\n",
       "      <td>0.938861</td>\n",
       "    </tr>\n",
       "  </tbody>\n",
       "</table>\n",
       "<p>21472 rows × 4 columns</p>\n",
=======
       "      <th>20699</th>\n",
       "      <td>-0.376570</td>\n",
       "      <td>-1.282045</td>\n",
       "      <td>-0.601247</td>\n",
       "      <td>2.835703</td>\n",
       "    </tr>\n",
       "    <tr>\n",
       "      <th>20700</th>\n",
       "      <td>0.788826</td>\n",
       "      <td>-1.420418</td>\n",
       "      <td>0.451660</td>\n",
       "      <td>0.973418</td>\n",
       "    </tr>\n",
       "    <tr>\n",
       "      <th>20701</th>\n",
       "      <td>-1.541966</td>\n",
       "      <td>-1.282045</td>\n",
       "      <td>-1.289687</td>\n",
       "      <td>0.973418</td>\n",
       "    </tr>\n",
       "    <tr>\n",
       "      <th>20702</th>\n",
       "      <td>-0.376570</td>\n",
       "      <td>-1.074486</td>\n",
       "      <td>-0.506756</td>\n",
       "      <td>0.973418</td>\n",
       "    </tr>\n",
       "    <tr>\n",
       "      <th>20703</th>\n",
       "      <td>-1.541966</td>\n",
       "      <td>-1.247452</td>\n",
       "      <td>-1.289687</td>\n",
       "      <td>0.973418</td>\n",
       "    </tr>\n",
       "  </tbody>\n",
       "</table>\n",
       "<p>20704 rows × 4 columns</p>\n",
>>>>>>> 72e094058c14e8d81f7edd8019d5d325d54cb26e
       "</div>"
      ],
      "text/plain": [
       "       bedrooms       age  sqft_living    floors\n",
<<<<<<< HEAD
       "0     -0.410939  0.610110    -0.984306 -0.914349\n",
       "1     -0.410939 -0.634041     0.544886  0.938861\n",
       "2     -1.553757  1.404985    -1.435362 -0.914349\n",
       "3      0.731878  0.264513    -0.126198 -0.914349\n",
       "4     -0.410939 -0.461242    -0.434237 -0.914349\n",
       "...         ...       ...          ...       ...\n",
       "21467 -0.410939 -1.256116    -0.599257  2.792071\n",
       "21468  0.731878 -1.394356     0.258850  0.938861\n",
       "21469 -1.553757 -1.256116    -1.160328  0.938861\n",
       "21470 -0.410939 -1.048758    -0.522248  0.938861\n",
       "21471 -1.553757 -1.221557    -1.160328  0.938861\n",
       "\n",
       "[21472 rows x 4 columns]"
      ]
     },
     "execution_count": 242,
=======
       "0     -0.376570  0.585987    -1.073706 -0.888867\n",
       "1     -0.376570 -0.659368     0.802630  0.973418\n",
       "2     -1.541966  1.381631    -1.627158 -0.888867\n",
       "3      0.788826  0.240055    -0.020798 -0.888867\n",
       "4     -0.376570 -0.486402    -0.398765 -0.888867\n",
       "...         ...       ...          ...       ...\n",
       "20699 -0.376570 -1.282045    -0.601247  2.835703\n",
       "20700  0.788826 -1.420418     0.451660  0.973418\n",
       "20701 -1.541966 -1.282045    -1.289687  0.973418\n",
       "20702 -0.376570 -1.074486    -0.506756  0.973418\n",
       "20703 -1.541966 -1.247452    -1.289687  0.973418\n",
       "\n",
       "[20704 rows x 4 columns]"
      ]
     },
     "execution_count": 227,
>>>>>>> 72e094058c14e8d81f7edd8019d5d325d54cb26e
     "metadata": {},
     "output_type": "execute_result"
    }
   ],
   "source": [
    "df_scaled_new = pd.DataFrame(df_scaled_new, columns=df_scale.columns)\n",
    "df_scaled_new"
   ]
  },
  {
   "cell_type": "code",
<<<<<<< HEAD
   "execution_count": 243,
=======
   "execution_count": 228,
>>>>>>> 72e094058c14e8d81f7edd8019d5d325d54cb26e
   "metadata": {},
   "outputs": [],
   "source": [
    "new_df = pd.concat([df_price, df_scaled_new], axis=1)"
   ]
  },
  {
   "cell_type": "code",
<<<<<<< HEAD
   "execution_count": 244,
=======
   "execution_count": 229,
>>>>>>> 72e094058c14e8d81f7edd8019d5d325d54cb26e
   "metadata": {},
   "outputs": [
    {
     "data": {
      "text/html": [
       "<div>\n",
       "<style scoped>\n",
       "    .dataframe tbody tr th:only-of-type {\n",
       "        vertical-align: middle;\n",
       "    }\n",
       "\n",
       "    .dataframe tbody tr th {\n",
       "        vertical-align: top;\n",
       "    }\n",
       "\n",
       "    .dataframe thead th {\n",
       "        text-align: right;\n",
       "    }\n",
       "</style>\n",
       "<table border=\"1\" class=\"dataframe\">\n",
       "  <thead>\n",
       "    <tr style=\"text-align: right;\">\n",
       "      <th></th>\n",
       "      <th>price</th>\n",
       "      <th>bedrooms</th>\n",
       "      <th>age</th>\n",
       "      <th>sqft_living</th>\n",
       "      <th>floors</th>\n",
       "    </tr>\n",
       "  </thead>\n",
       "  <tbody>\n",
       "    <tr>\n",
       "      <th>0</th>\n",
       "      <td>221900.0</td>\n",
<<<<<<< HEAD
       "      <td>-0.410939</td>\n",
       "      <td>0.610110</td>\n",
       "      <td>-0.984306</td>\n",
       "      <td>-0.914349</td>\n",
=======
       "      <td>-0.376570</td>\n",
       "      <td>0.585987</td>\n",
       "      <td>-1.073706</td>\n",
       "      <td>-0.888867</td>\n",
>>>>>>> 72e094058c14e8d81f7edd8019d5d325d54cb26e
       "    </tr>\n",
       "    <tr>\n",
       "      <th>1</th>\n",
       "      <td>538000.0</td>\n",
<<<<<<< HEAD
       "      <td>-0.410939</td>\n",
       "      <td>-0.634041</td>\n",
       "      <td>0.544886</td>\n",
       "      <td>0.938861</td>\n",
=======
       "      <td>-0.376570</td>\n",
       "      <td>-0.659368</td>\n",
       "      <td>0.802630</td>\n",
       "      <td>0.973418</td>\n",
>>>>>>> 72e094058c14e8d81f7edd8019d5d325d54cb26e
       "    </tr>\n",
       "    <tr>\n",
       "      <th>2</th>\n",
       "      <td>180000.0</td>\n",
<<<<<<< HEAD
       "      <td>-1.553757</td>\n",
       "      <td>1.404985</td>\n",
       "      <td>-1.435362</td>\n",
       "      <td>-0.914349</td>\n",
=======
       "      <td>-1.541966</td>\n",
       "      <td>1.381631</td>\n",
       "      <td>-1.627158</td>\n",
       "      <td>-0.888867</td>\n",
>>>>>>> 72e094058c14e8d81f7edd8019d5d325d54cb26e
       "    </tr>\n",
       "    <tr>\n",
       "      <th>3</th>\n",
       "      <td>604000.0</td>\n",
<<<<<<< HEAD
       "      <td>0.731878</td>\n",
       "      <td>0.264513</td>\n",
       "      <td>-0.126198</td>\n",
       "      <td>-0.914349</td>\n",
=======
       "      <td>0.788826</td>\n",
       "      <td>0.240055</td>\n",
       "      <td>-0.020798</td>\n",
       "      <td>-0.888867</td>\n",
>>>>>>> 72e094058c14e8d81f7edd8019d5d325d54cb26e
       "    </tr>\n",
       "    <tr>\n",
       "      <th>4</th>\n",
       "      <td>510000.0</td>\n",
<<<<<<< HEAD
       "      <td>-0.410939</td>\n",
       "      <td>-0.461242</td>\n",
       "      <td>-0.434237</td>\n",
       "      <td>-0.914349</td>\n",
=======
       "      <td>-0.376570</td>\n",
       "      <td>-0.486402</td>\n",
       "      <td>-0.398765</td>\n",
       "      <td>-0.888867</td>\n",
>>>>>>> 72e094058c14e8d81f7edd8019d5d325d54cb26e
       "    </tr>\n",
       "    <tr>\n",
       "      <th>...</th>\n",
       "      <td>...</td>\n",
       "      <td>...</td>\n",
       "      <td>...</td>\n",
       "      <td>...</td>\n",
       "      <td>...</td>\n",
       "    </tr>\n",
       "    <tr>\n",
<<<<<<< HEAD
       "      <th>21467</th>\n",
       "      <td>360000.0</td>\n",
       "      <td>-0.410939</td>\n",
       "      <td>-1.256116</td>\n",
       "      <td>-0.599257</td>\n",
       "      <td>2.792071</td>\n",
       "    </tr>\n",
       "    <tr>\n",
       "      <th>21468</th>\n",
       "      <td>400000.0</td>\n",
       "      <td>0.731878</td>\n",
       "      <td>-1.394356</td>\n",
       "      <td>0.258850</td>\n",
       "      <td>0.938861</td>\n",
       "    </tr>\n",
       "    <tr>\n",
       "      <th>21469</th>\n",
       "      <td>402101.0</td>\n",
       "      <td>-1.553757</td>\n",
       "      <td>-1.256116</td>\n",
       "      <td>-1.160328</td>\n",
       "      <td>0.938861</td>\n",
       "    </tr>\n",
       "    <tr>\n",
       "      <th>21470</th>\n",
       "      <td>400000.0</td>\n",
       "      <td>-0.410939</td>\n",
       "      <td>-1.048758</td>\n",
       "      <td>-0.522248</td>\n",
       "      <td>0.938861</td>\n",
       "    </tr>\n",
       "    <tr>\n",
       "      <th>21471</th>\n",
       "      <td>325000.0</td>\n",
       "      <td>-1.553757</td>\n",
       "      <td>-1.221557</td>\n",
       "      <td>-1.160328</td>\n",
       "      <td>0.938861</td>\n",
       "    </tr>\n",
       "  </tbody>\n",
       "</table>\n",
       "<p>21472 rows × 5 columns</p>\n",
=======
       "      <th>20699</th>\n",
       "      <td>360000.0</td>\n",
       "      <td>-0.376570</td>\n",
       "      <td>-1.282045</td>\n",
       "      <td>-0.601247</td>\n",
       "      <td>2.835703</td>\n",
       "    </tr>\n",
       "    <tr>\n",
       "      <th>20700</th>\n",
       "      <td>400000.0</td>\n",
       "      <td>0.788826</td>\n",
       "      <td>-1.420418</td>\n",
       "      <td>0.451660</td>\n",
       "      <td>0.973418</td>\n",
       "    </tr>\n",
       "    <tr>\n",
       "      <th>20701</th>\n",
       "      <td>402101.0</td>\n",
       "      <td>-1.541966</td>\n",
       "      <td>-1.282045</td>\n",
       "      <td>-1.289687</td>\n",
       "      <td>0.973418</td>\n",
       "    </tr>\n",
       "    <tr>\n",
       "      <th>20702</th>\n",
       "      <td>400000.0</td>\n",
       "      <td>-0.376570</td>\n",
       "      <td>-1.074486</td>\n",
       "      <td>-0.506756</td>\n",
       "      <td>0.973418</td>\n",
       "    </tr>\n",
       "    <tr>\n",
       "      <th>20703</th>\n",
       "      <td>325000.0</td>\n",
       "      <td>-1.541966</td>\n",
       "      <td>-1.247452</td>\n",
       "      <td>-1.289687</td>\n",
       "      <td>0.973418</td>\n",
       "    </tr>\n",
       "  </tbody>\n",
       "</table>\n",
       "<p>20704 rows × 5 columns</p>\n",
>>>>>>> 72e094058c14e8d81f7edd8019d5d325d54cb26e
       "</div>"
      ],
      "text/plain": [
       "          price  bedrooms       age  sqft_living    floors\n",
<<<<<<< HEAD
       "0      221900.0 -0.410939  0.610110    -0.984306 -0.914349\n",
       "1      538000.0 -0.410939 -0.634041     0.544886  0.938861\n",
       "2      180000.0 -1.553757  1.404985    -1.435362 -0.914349\n",
       "3      604000.0  0.731878  0.264513    -0.126198 -0.914349\n",
       "4      510000.0 -0.410939 -0.461242    -0.434237 -0.914349\n",
       "...         ...       ...       ...          ...       ...\n",
       "21467  360000.0 -0.410939 -1.256116    -0.599257  2.792071\n",
       "21468  400000.0  0.731878 -1.394356     0.258850  0.938861\n",
       "21469  402101.0 -1.553757 -1.256116    -1.160328  0.938861\n",
       "21470  400000.0 -0.410939 -1.048758    -0.522248  0.938861\n",
       "21471  325000.0 -1.553757 -1.221557    -1.160328  0.938861\n",
       "\n",
       "[21472 rows x 5 columns]"
      ]
     },
     "execution_count": 244,
=======
       "0      221900.0 -0.376570  0.585987    -1.073706 -0.888867\n",
       "1      538000.0 -0.376570 -0.659368     0.802630  0.973418\n",
       "2      180000.0 -1.541966  1.381631    -1.627158 -0.888867\n",
       "3      604000.0  0.788826  0.240055    -0.020798 -0.888867\n",
       "4      510000.0 -0.376570 -0.486402    -0.398765 -0.888867\n",
       "...         ...       ...       ...          ...       ...\n",
       "20699  360000.0 -0.376570 -1.282045    -0.601247  2.835703\n",
       "20700  400000.0  0.788826 -1.420418     0.451660  0.973418\n",
       "20701  402101.0 -1.541966 -1.282045    -1.289687  0.973418\n",
       "20702  400000.0 -0.376570 -1.074486    -0.506756  0.973418\n",
       "20703  325000.0 -1.541966 -1.247452    -1.289687  0.973418\n",
       "\n",
       "[20704 rows x 5 columns]"
      ]
     },
     "execution_count": 229,
>>>>>>> 72e094058c14e8d81f7edd8019d5d325d54cb26e
     "metadata": {},
     "output_type": "execute_result"
    }
   ],
   "source": [
    "new_df"
   ]
  },
  {
   "cell_type": "code",
   "execution_count": null,
   "metadata": {},
   "outputs": [],
   "source": []
  },
  {
   "cell_type": "code",
   "execution_count": null,
   "metadata": {},
   "outputs": [],
   "source": []
  },
  {
   "cell_type": "code",
<<<<<<< HEAD
   "execution_count": 245,
=======
   "execution_count": 230,
>>>>>>> 72e094058c14e8d81f7edd8019d5d325d54cb26e
   "metadata": {},
   "outputs": [],
   "source": [
    "df_cat = df[['view','condition','grade']]"
   ]
  },
  {
   "cell_type": "code",
<<<<<<< HEAD
   "execution_count": 246,
=======
   "execution_count": 231,
>>>>>>> 72e094058c14e8d81f7edd8019d5d325d54cb26e
   "metadata": {
    "scrolled": true
   },
   "outputs": [
    {
     "data": {
      "text/html": [
       "<div>\n",
       "<style scoped>\n",
       "    .dataframe tbody tr th:only-of-type {\n",
       "        vertical-align: middle;\n",
       "    }\n",
       "\n",
       "    .dataframe tbody tr th {\n",
       "        vertical-align: top;\n",
       "    }\n",
       "\n",
       "    .dataframe thead th {\n",
       "        text-align: right;\n",
       "    }\n",
       "</style>\n",
       "<table border=\"1\" class=\"dataframe\">\n",
       "  <thead>\n",
       "    <tr style=\"text-align: right;\">\n",
       "      <th></th>\n",
       "      <th>view_AVERAGE</th>\n",
       "      <th>view_EXCELLENT</th>\n",
       "      <th>view_FAIR</th>\n",
       "      <th>view_GOOD</th>\n",
       "      <th>view_NONE</th>\n",
       "      <th>condition_Average</th>\n",
       "      <th>condition_Fair</th>\n",
       "      <th>condition_Good</th>\n",
       "      <th>condition_Poor</th>\n",
       "      <th>condition_Very Good</th>\n",
<<<<<<< HEAD
       "      <th>...</th>\n",
       "      <th>grade_11 Excellent</th>\n",
       "      <th>grade_12 Luxury</th>\n",
       "      <th>grade_13 Mansion</th>\n",
=======
       "      <th>grade_10 Very Good</th>\n",
       "      <th>grade_11 Excellent</th>\n",
       "      <th>grade_12 Luxury</th>\n",
>>>>>>> 72e094058c14e8d81f7edd8019d5d325d54cb26e
       "      <th>grade_3 Poor</th>\n",
       "      <th>grade_4 Low</th>\n",
       "      <th>grade_5 Fair</th>\n",
       "      <th>grade_6 Low Average</th>\n",
       "      <th>grade_7 Average</th>\n",
       "      <th>grade_8 Good</th>\n",
       "      <th>grade_9 Better</th>\n",
       "    </tr>\n",
       "  </thead>\n",
       "  <tbody>\n",
       "    <tr>\n",
       "      <th>0</th>\n",
       "      <td>0</td>\n",
       "      <td>0</td>\n",
       "      <td>0</td>\n",
       "      <td>0</td>\n",
       "      <td>1</td>\n",
       "      <td>1</td>\n",
       "      <td>0</td>\n",
       "      <td>0</td>\n",
       "      <td>0</td>\n",
       "      <td>0</td>\n",
<<<<<<< HEAD
       "      <td>...</td>\n",
=======
>>>>>>> 72e094058c14e8d81f7edd8019d5d325d54cb26e
       "      <td>0</td>\n",
       "      <td>0</td>\n",
       "      <td>0</td>\n",
       "      <td>0</td>\n",
       "      <td>0</td>\n",
       "      <td>0</td>\n",
       "      <td>0</td>\n",
       "      <td>1</td>\n",
       "      <td>0</td>\n",
       "      <td>0</td>\n",
       "    </tr>\n",
       "    <tr>\n",
       "      <th>1</th>\n",
       "      <td>0</td>\n",
       "      <td>0</td>\n",
       "      <td>0</td>\n",
       "      <td>0</td>\n",
       "      <td>1</td>\n",
       "      <td>1</td>\n",
       "      <td>0</td>\n",
       "      <td>0</td>\n",
       "      <td>0</td>\n",
       "      <td>0</td>\n",
<<<<<<< HEAD
       "      <td>...</td>\n",
=======
>>>>>>> 72e094058c14e8d81f7edd8019d5d325d54cb26e
       "      <td>0</td>\n",
       "      <td>0</td>\n",
       "      <td>0</td>\n",
       "      <td>0</td>\n",
       "      <td>0</td>\n",
       "      <td>0</td>\n",
       "      <td>0</td>\n",
       "      <td>1</td>\n",
       "      <td>0</td>\n",
       "      <td>0</td>\n",
       "    </tr>\n",
       "    <tr>\n",
       "      <th>2</th>\n",
       "      <td>0</td>\n",
       "      <td>0</td>\n",
       "      <td>0</td>\n",
       "      <td>0</td>\n",
       "      <td>1</td>\n",
       "      <td>1</td>\n",
       "      <td>0</td>\n",
       "      <td>0</td>\n",
       "      <td>0</td>\n",
       "      <td>0</td>\n",
<<<<<<< HEAD
       "      <td>...</td>\n",
=======
>>>>>>> 72e094058c14e8d81f7edd8019d5d325d54cb26e
       "      <td>0</td>\n",
       "      <td>0</td>\n",
       "      <td>0</td>\n",
       "      <td>0</td>\n",
       "      <td>0</td>\n",
       "      <td>0</td>\n",
       "      <td>1</td>\n",
       "      <td>0</td>\n",
       "      <td>0</td>\n",
       "      <td>0</td>\n",
       "    </tr>\n",
       "    <tr>\n",
       "      <th>3</th>\n",
       "      <td>0</td>\n",
       "      <td>0</td>\n",
       "      <td>0</td>\n",
       "      <td>0</td>\n",
       "      <td>1</td>\n",
       "      <td>0</td>\n",
       "      <td>0</td>\n",
       "      <td>0</td>\n",
       "      <td>0</td>\n",
       "      <td>1</td>\n",
<<<<<<< HEAD
       "      <td>...</td>\n",
=======
>>>>>>> 72e094058c14e8d81f7edd8019d5d325d54cb26e
       "      <td>0</td>\n",
       "      <td>0</td>\n",
       "      <td>0</td>\n",
       "      <td>0</td>\n",
       "      <td>0</td>\n",
       "      <td>0</td>\n",
       "      <td>0</td>\n",
       "      <td>1</td>\n",
       "      <td>0</td>\n",
       "      <td>0</td>\n",
       "    </tr>\n",
       "    <tr>\n",
       "      <th>4</th>\n",
       "      <td>0</td>\n",
       "      <td>0</td>\n",
       "      <td>0</td>\n",
       "      <td>0</td>\n",
       "      <td>1</td>\n",
       "      <td>1</td>\n",
       "      <td>0</td>\n",
       "      <td>0</td>\n",
       "      <td>0</td>\n",
       "      <td>0</td>\n",
<<<<<<< HEAD
       "      <td>...</td>\n",
=======
>>>>>>> 72e094058c14e8d81f7edd8019d5d325d54cb26e
       "      <td>0</td>\n",
       "      <td>0</td>\n",
       "      <td>0</td>\n",
       "      <td>0</td>\n",
       "      <td>0</td>\n",
       "      <td>0</td>\n",
       "      <td>0</td>\n",
       "      <td>0</td>\n",
       "      <td>1</td>\n",
       "      <td>0</td>\n",
       "    </tr>\n",
       "    <tr>\n",
       "      <th>...</th>\n",
       "      <td>...</td>\n",
       "      <td>...</td>\n",
       "      <td>...</td>\n",
       "      <td>...</td>\n",
       "      <td>...</td>\n",
       "      <td>...</td>\n",
       "      <td>...</td>\n",
       "      <td>...</td>\n",
       "      <td>...</td>\n",
       "      <td>...</td>\n",
       "      <td>...</td>\n",
       "      <td>...</td>\n",
       "      <td>...</td>\n",
       "      <td>...</td>\n",
       "      <td>...</td>\n",
       "      <td>...</td>\n",
       "      <td>...</td>\n",
       "      <td>...</td>\n",
       "      <td>...</td>\n",
       "      <td>...</td>\n",
<<<<<<< HEAD
       "      <td>...</td>\n",
=======
>>>>>>> 72e094058c14e8d81f7edd8019d5d325d54cb26e
       "    </tr>\n",
       "    <tr>\n",
       "      <th>21592</th>\n",
       "      <td>0</td>\n",
       "      <td>0</td>\n",
       "      <td>0</td>\n",
       "      <td>0</td>\n",
       "      <td>1</td>\n",
       "      <td>1</td>\n",
       "      <td>0</td>\n",
       "      <td>0</td>\n",
       "      <td>0</td>\n",
       "      <td>0</td>\n",
<<<<<<< HEAD
       "      <td>...</td>\n",
=======
>>>>>>> 72e094058c14e8d81f7edd8019d5d325d54cb26e
       "      <td>0</td>\n",
       "      <td>0</td>\n",
       "      <td>0</td>\n",
       "      <td>0</td>\n",
       "      <td>0</td>\n",
       "      <td>0</td>\n",
       "      <td>0</td>\n",
       "      <td>0</td>\n",
       "      <td>1</td>\n",
       "      <td>0</td>\n",
       "    </tr>\n",
       "    <tr>\n",
       "      <th>21593</th>\n",
       "      <td>0</td>\n",
       "      <td>0</td>\n",
       "      <td>0</td>\n",
       "      <td>0</td>\n",
       "      <td>1</td>\n",
       "      <td>1</td>\n",
       "      <td>0</td>\n",
       "      <td>0</td>\n",
       "      <td>0</td>\n",
       "      <td>0</td>\n",
<<<<<<< HEAD
       "      <td>...</td>\n",
=======
>>>>>>> 72e094058c14e8d81f7edd8019d5d325d54cb26e
       "      <td>0</td>\n",
       "      <td>0</td>\n",
       "      <td>0</td>\n",
       "      <td>0</td>\n",
       "      <td>0</td>\n",
       "      <td>0</td>\n",
       "      <td>0</td>\n",
       "      <td>0</td>\n",
       "      <td>1</td>\n",
       "      <td>0</td>\n",
       "    </tr>\n",
       "    <tr>\n",
       "      <th>21594</th>\n",
       "      <td>0</td>\n",
       "      <td>0</td>\n",
       "      <td>0</td>\n",
       "      <td>0</td>\n",
       "      <td>1</td>\n",
       "      <td>1</td>\n",
       "      <td>0</td>\n",
       "      <td>0</td>\n",
       "      <td>0</td>\n",
       "      <td>0</td>\n",
<<<<<<< HEAD
       "      <td>...</td>\n",
=======
>>>>>>> 72e094058c14e8d81f7edd8019d5d325d54cb26e
       "      <td>0</td>\n",
       "      <td>0</td>\n",
       "      <td>0</td>\n",
       "      <td>0</td>\n",
       "      <td>0</td>\n",
       "      <td>0</td>\n",
       "      <td>0</td>\n",
       "      <td>1</td>\n",
       "      <td>0</td>\n",
       "      <td>0</td>\n",
       "    </tr>\n",
       "    <tr>\n",
       "      <th>21595</th>\n",
       "      <td>0</td>\n",
       "      <td>0</td>\n",
       "      <td>0</td>\n",
       "      <td>0</td>\n",
       "      <td>1</td>\n",
       "      <td>1</td>\n",
       "      <td>0</td>\n",
       "      <td>0</td>\n",
       "      <td>0</td>\n",
       "      <td>0</td>\n",
<<<<<<< HEAD
       "      <td>...</td>\n",
=======
>>>>>>> 72e094058c14e8d81f7edd8019d5d325d54cb26e
       "      <td>0</td>\n",
       "      <td>0</td>\n",
       "      <td>0</td>\n",
       "      <td>0</td>\n",
       "      <td>0</td>\n",
       "      <td>0</td>\n",
       "      <td>0</td>\n",
       "      <td>0</td>\n",
       "      <td>1</td>\n",
       "      <td>0</td>\n",
       "    </tr>\n",
       "    <tr>\n",
       "      <th>21596</th>\n",
       "      <td>0</td>\n",
       "      <td>0</td>\n",
       "      <td>0</td>\n",
       "      <td>0</td>\n",
       "      <td>1</td>\n",
       "      <td>1</td>\n",
       "      <td>0</td>\n",
       "      <td>0</td>\n",
       "      <td>0</td>\n",
       "      <td>0</td>\n",
<<<<<<< HEAD
       "      <td>...</td>\n",
=======
>>>>>>> 72e094058c14e8d81f7edd8019d5d325d54cb26e
       "      <td>0</td>\n",
       "      <td>0</td>\n",
       "      <td>0</td>\n",
       "      <td>0</td>\n",
       "      <td>0</td>\n",
       "      <td>0</td>\n",
       "      <td>0</td>\n",
       "      <td>1</td>\n",
       "      <td>0</td>\n",
       "      <td>0</td>\n",
       "    </tr>\n",
       "  </tbody>\n",
       "</table>\n",
<<<<<<< HEAD
       "<p>21472 rows × 21 columns</p>\n",
=======
       "<p>20704 rows × 20 columns</p>\n",
>>>>>>> 72e094058c14e8d81f7edd8019d5d325d54cb26e
       "</div>"
      ],
      "text/plain": [
       "       view_AVERAGE  view_EXCELLENT  view_FAIR  view_GOOD  view_NONE  \\\n",
       "0                 0               0          0          0          1   \n",
       "1                 0               0          0          0          1   \n",
       "2                 0               0          0          0          1   \n",
       "3                 0               0          0          0          1   \n",
       "4                 0               0          0          0          1   \n",
       "...             ...             ...        ...        ...        ...   \n",
       "21592             0               0          0          0          1   \n",
       "21593             0               0          0          0          1   \n",
       "21594             0               0          0          0          1   \n",
       "21595             0               0          0          0          1   \n",
       "21596             0               0          0          0          1   \n",
       "\n",
       "       condition_Average  condition_Fair  condition_Good  condition_Poor  \\\n",
       "0                      1               0               0               0   \n",
       "1                      1               0               0               0   \n",
       "2                      1               0               0               0   \n",
       "3                      0               0               0               0   \n",
       "4                      1               0               0               0   \n",
       "...                  ...             ...             ...             ...   \n",
       "21592                  1               0               0               0   \n",
       "21593                  1               0               0               0   \n",
       "21594                  1               0               0               0   \n",
       "21595                  1               0               0               0   \n",
       "21596                  1               0               0               0   \n",
       "\n",
<<<<<<< HEAD
       "       condition_Very Good  ...  grade_11 Excellent  grade_12 Luxury  \\\n",
       "0                        0  ...                   0                0   \n",
       "1                        0  ...                   0                0   \n",
       "2                        0  ...                   0                0   \n",
       "3                        1  ...                   0                0   \n",
       "4                        0  ...                   0                0   \n",
       "...                    ...  ...                 ...              ...   \n",
       "21592                    0  ...                   0                0   \n",
       "21593                    0  ...                   0                0   \n",
       "21594                    0  ...                   0                0   \n",
       "21595                    0  ...                   0                0   \n",
       "21596                    0  ...                   0                0   \n",
       "\n",
       "       grade_13 Mansion  grade_3 Poor  grade_4 Low  grade_5 Fair  \\\n",
       "0                     0             0            0             0   \n",
       "1                     0             0            0             0   \n",
       "2                     0             0            0             0   \n",
       "3                     0             0            0             0   \n",
       "4                     0             0            0             0   \n",
       "...                 ...           ...          ...           ...   \n",
       "21592                 0             0            0             0   \n",
       "21593                 0             0            0             0   \n",
       "21594                 0             0            0             0   \n",
       "21595                 0             0            0             0   \n",
       "21596                 0             0            0             0   \n",
=======
       "       condition_Very Good  grade_10 Very Good  grade_11 Excellent  \\\n",
       "0                        0                   0                   0   \n",
       "1                        0                   0                   0   \n",
       "2                        0                   0                   0   \n",
       "3                        1                   0                   0   \n",
       "4                        0                   0                   0   \n",
       "...                    ...                 ...                 ...   \n",
       "21592                    0                   0                   0   \n",
       "21593                    0                   0                   0   \n",
       "21594                    0                   0                   0   \n",
       "21595                    0                   0                   0   \n",
       "21596                    0                   0                   0   \n",
       "\n",
       "       grade_12 Luxury  grade_3 Poor  grade_4 Low  grade_5 Fair  \\\n",
       "0                    0             0            0             0   \n",
       "1                    0             0            0             0   \n",
       "2                    0             0            0             0   \n",
       "3                    0             0            0             0   \n",
       "4                    0             0            0             0   \n",
       "...                ...           ...          ...           ...   \n",
       "21592                0             0            0             0   \n",
       "21593                0             0            0             0   \n",
       "21594                0             0            0             0   \n",
       "21595                0             0            0             0   \n",
       "21596                0             0            0             0   \n",
>>>>>>> 72e094058c14e8d81f7edd8019d5d325d54cb26e
       "\n",
       "       grade_6 Low Average  grade_7 Average  grade_8 Good  grade_9 Better  \n",
       "0                        0                1             0               0  \n",
       "1                        0                1             0               0  \n",
       "2                        1                0             0               0  \n",
       "3                        0                1             0               0  \n",
       "4                        0                0             1               0  \n",
       "...                    ...              ...           ...             ...  \n",
       "21592                    0                0             1               0  \n",
       "21593                    0                0             1               0  \n",
       "21594                    0                1             0               0  \n",
       "21595                    0                0             1               0  \n",
       "21596                    0                1             0               0  \n",
       "\n",
<<<<<<< HEAD
       "[21472 rows x 21 columns]"
      ]
     },
     "execution_count": 246,
=======
       "[20704 rows x 20 columns]"
      ]
     },
     "execution_count": 231,
>>>>>>> 72e094058c14e8d81f7edd8019d5d325d54cb26e
     "metadata": {},
     "output_type": "execute_result"
    }
   ],
   "source": [
    "df_cats = pd.get_dummies(df_cat)\n",
    "df_cats"
   ]
  },
  {
   "cell_type": "code",
<<<<<<< HEAD
   "execution_count": 247,
=======
   "execution_count": 232,
>>>>>>> 72e094058c14e8d81f7edd8019d5d325d54cb26e
   "metadata": {
    "scrolled": true
   },
   "outputs": [
    {
     "data": {
      "text/plain": [
       "Index(['view_AVERAGE', 'view_EXCELLENT', 'view_FAIR', 'view_GOOD', 'view_NONE',\n",
       "       'condition_Average', 'condition_Fair', 'condition_Good',\n",
       "       'condition_Poor', 'condition_Very Good', 'grade_10 Very Good',\n",
<<<<<<< HEAD
       "       'grade_11 Excellent', 'grade_12 Luxury', 'grade_13 Mansion',\n",
       "       'grade_3 Poor', 'grade_4 Low', 'grade_5 Fair', 'grade_6 Low Average',\n",
       "       'grade_7 Average', 'grade_8 Good', 'grade_9 Better'],\n",
       "      dtype='object')"
      ]
     },
     "execution_count": 247,
=======
       "       'grade_11 Excellent', 'grade_12 Luxury', 'grade_3 Poor', 'grade_4 Low',\n",
       "       'grade_5 Fair', 'grade_6 Low Average', 'grade_7 Average',\n",
       "       'grade_8 Good', 'grade_9 Better'],\n",
       "      dtype='object')"
      ]
     },
     "execution_count": 232,
>>>>>>> 72e094058c14e8d81f7edd8019d5d325d54cb26e
     "metadata": {},
     "output_type": "execute_result"
    }
   ],
   "source": [
    "df_cats.columns"
   ]
  },
  {
   "cell_type": "code",
<<<<<<< HEAD
   "execution_count": 248,
=======
   "execution_count": 233,
>>>>>>> 72e094058c14e8d81f7edd8019d5d325d54cb26e
   "metadata": {},
   "outputs": [
    {
     "data": {
      "text/html": [
       "<div>\n",
       "<style scoped>\n",
       "    .dataframe tbody tr th:only-of-type {\n",
       "        vertical-align: middle;\n",
       "    }\n",
       "\n",
       "    .dataframe tbody tr th {\n",
       "        vertical-align: top;\n",
       "    }\n",
       "\n",
       "    .dataframe thead th {\n",
       "        text-align: right;\n",
       "    }\n",
       "</style>\n",
       "<table border=\"1\" class=\"dataframe\">\n",
       "  <thead>\n",
       "    <tr style=\"text-align: right;\">\n",
       "      <th></th>\n",
       "      <th>view_AVERAGE</th>\n",
       "      <th>view_EXCELLENT</th>\n",
       "      <th>view_FAIR</th>\n",
       "      <th>view_GOOD</th>\n",
       "      <th>view_NONE</th>\n",
       "      <th>condition_Average</th>\n",
       "      <th>condition_Fair</th>\n",
       "      <th>condition_Good</th>\n",
       "      <th>condition_Poor</th>\n",
       "      <th>condition_Very Good</th>\n",
<<<<<<< HEAD
       "      <th>...</th>\n",
       "      <th>grade_11 Excellent</th>\n",
       "      <th>grade_12 Luxury</th>\n",
       "      <th>grade_13 Mansion</th>\n",
=======
       "      <th>grade_10 Very Good</th>\n",
       "      <th>grade_11 Excellent</th>\n",
       "      <th>grade_12 Luxury</th>\n",
>>>>>>> 72e094058c14e8d81f7edd8019d5d325d54cb26e
       "      <th>grade_3 Poor</th>\n",
       "      <th>grade_4 Low</th>\n",
       "      <th>grade_5 Fair</th>\n",
       "      <th>grade_6 Low Average</th>\n",
       "      <th>grade_7 Average</th>\n",
       "      <th>grade_8 Good</th>\n",
       "      <th>grade_9 Better</th>\n",
       "    </tr>\n",
       "  </thead>\n",
       "  <tbody>\n",
       "    <tr>\n",
       "      <th>0</th>\n",
       "      <td>0</td>\n",
       "      <td>0</td>\n",
       "      <td>0</td>\n",
       "      <td>0</td>\n",
       "      <td>1</td>\n",
       "      <td>1</td>\n",
       "      <td>0</td>\n",
       "      <td>0</td>\n",
       "      <td>0</td>\n",
       "      <td>0</td>\n",
<<<<<<< HEAD
       "      <td>...</td>\n",
=======
>>>>>>> 72e094058c14e8d81f7edd8019d5d325d54cb26e
       "      <td>0</td>\n",
       "      <td>0</td>\n",
       "      <td>0</td>\n",
       "      <td>0</td>\n",
       "      <td>0</td>\n",
       "      <td>0</td>\n",
       "      <td>0</td>\n",
       "      <td>1</td>\n",
       "      <td>0</td>\n",
       "      <td>0</td>\n",
       "    </tr>\n",
       "    <tr>\n",
       "      <th>1</th>\n",
       "      <td>0</td>\n",
       "      <td>0</td>\n",
       "      <td>0</td>\n",
       "      <td>0</td>\n",
       "      <td>1</td>\n",
       "      <td>1</td>\n",
       "      <td>0</td>\n",
       "      <td>0</td>\n",
       "      <td>0</td>\n",
       "      <td>0</td>\n",
<<<<<<< HEAD
       "      <td>...</td>\n",
=======
>>>>>>> 72e094058c14e8d81f7edd8019d5d325d54cb26e
       "      <td>0</td>\n",
       "      <td>0</td>\n",
       "      <td>0</td>\n",
       "      <td>0</td>\n",
       "      <td>0</td>\n",
       "      <td>0</td>\n",
       "      <td>0</td>\n",
       "      <td>1</td>\n",
       "      <td>0</td>\n",
       "      <td>0</td>\n",
       "    </tr>\n",
       "    <tr>\n",
       "      <th>2</th>\n",
       "      <td>0</td>\n",
       "      <td>0</td>\n",
       "      <td>0</td>\n",
       "      <td>0</td>\n",
       "      <td>1</td>\n",
       "      <td>1</td>\n",
       "      <td>0</td>\n",
       "      <td>0</td>\n",
       "      <td>0</td>\n",
       "      <td>0</td>\n",
<<<<<<< HEAD
       "      <td>...</td>\n",
=======
>>>>>>> 72e094058c14e8d81f7edd8019d5d325d54cb26e
       "      <td>0</td>\n",
       "      <td>0</td>\n",
       "      <td>0</td>\n",
       "      <td>0</td>\n",
       "      <td>0</td>\n",
       "      <td>0</td>\n",
       "      <td>1</td>\n",
       "      <td>0</td>\n",
       "      <td>0</td>\n",
       "      <td>0</td>\n",
       "    </tr>\n",
       "    <tr>\n",
       "      <th>3</th>\n",
       "      <td>0</td>\n",
       "      <td>0</td>\n",
       "      <td>0</td>\n",
       "      <td>0</td>\n",
       "      <td>1</td>\n",
       "      <td>0</td>\n",
       "      <td>0</td>\n",
       "      <td>0</td>\n",
       "      <td>0</td>\n",
       "      <td>1</td>\n",
<<<<<<< HEAD
       "      <td>...</td>\n",
=======
>>>>>>> 72e094058c14e8d81f7edd8019d5d325d54cb26e
       "      <td>0</td>\n",
       "      <td>0</td>\n",
       "      <td>0</td>\n",
       "      <td>0</td>\n",
       "      <td>0</td>\n",
       "      <td>0</td>\n",
       "      <td>0</td>\n",
       "      <td>1</td>\n",
       "      <td>0</td>\n",
       "      <td>0</td>\n",
       "    </tr>\n",
       "    <tr>\n",
       "      <th>4</th>\n",
       "      <td>0</td>\n",
       "      <td>0</td>\n",
       "      <td>0</td>\n",
       "      <td>0</td>\n",
       "      <td>1</td>\n",
       "      <td>1</td>\n",
       "      <td>0</td>\n",
       "      <td>0</td>\n",
       "      <td>0</td>\n",
       "      <td>0</td>\n",
<<<<<<< HEAD
       "      <td>...</td>\n",
=======
>>>>>>> 72e094058c14e8d81f7edd8019d5d325d54cb26e
       "      <td>0</td>\n",
       "      <td>0</td>\n",
       "      <td>0</td>\n",
       "      <td>0</td>\n",
       "      <td>0</td>\n",
       "      <td>0</td>\n",
       "      <td>0</td>\n",
       "      <td>0</td>\n",
       "      <td>1</td>\n",
       "      <td>0</td>\n",
       "    </tr>\n",
       "    <tr>\n",
       "      <th>...</th>\n",
       "      <td>...</td>\n",
       "      <td>...</td>\n",
       "      <td>...</td>\n",
       "      <td>...</td>\n",
       "      <td>...</td>\n",
       "      <td>...</td>\n",
       "      <td>...</td>\n",
       "      <td>...</td>\n",
       "      <td>...</td>\n",
       "      <td>...</td>\n",
       "      <td>...</td>\n",
       "      <td>...</td>\n",
       "      <td>...</td>\n",
       "      <td>...</td>\n",
       "      <td>...</td>\n",
       "      <td>...</td>\n",
       "      <td>...</td>\n",
       "      <td>...</td>\n",
       "      <td>...</td>\n",
       "      <td>...</td>\n",
<<<<<<< HEAD
       "      <td>...</td>\n",
=======
>>>>>>> 72e094058c14e8d81f7edd8019d5d325d54cb26e
       "    </tr>\n",
       "    <tr>\n",
       "      <th>21592</th>\n",
       "      <td>0</td>\n",
       "      <td>0</td>\n",
       "      <td>0</td>\n",
       "      <td>0</td>\n",
       "      <td>1</td>\n",
       "      <td>1</td>\n",
       "      <td>0</td>\n",
       "      <td>0</td>\n",
       "      <td>0</td>\n",
       "      <td>0</td>\n",
<<<<<<< HEAD
       "      <td>...</td>\n",
=======
>>>>>>> 72e094058c14e8d81f7edd8019d5d325d54cb26e
       "      <td>0</td>\n",
       "      <td>0</td>\n",
       "      <td>0</td>\n",
       "      <td>0</td>\n",
       "      <td>0</td>\n",
       "      <td>0</td>\n",
       "      <td>0</td>\n",
       "      <td>0</td>\n",
       "      <td>1</td>\n",
       "      <td>0</td>\n",
       "    </tr>\n",
       "    <tr>\n",
       "      <th>21593</th>\n",
       "      <td>0</td>\n",
       "      <td>0</td>\n",
       "      <td>0</td>\n",
       "      <td>0</td>\n",
       "      <td>1</td>\n",
       "      <td>1</td>\n",
       "      <td>0</td>\n",
       "      <td>0</td>\n",
       "      <td>0</td>\n",
       "      <td>0</td>\n",
<<<<<<< HEAD
       "      <td>...</td>\n",
=======
>>>>>>> 72e094058c14e8d81f7edd8019d5d325d54cb26e
       "      <td>0</td>\n",
       "      <td>0</td>\n",
       "      <td>0</td>\n",
       "      <td>0</td>\n",
       "      <td>0</td>\n",
       "      <td>0</td>\n",
       "      <td>0</td>\n",
       "      <td>0</td>\n",
       "      <td>1</td>\n",
       "      <td>0</td>\n",
       "    </tr>\n",
       "    <tr>\n",
       "      <th>21594</th>\n",
       "      <td>0</td>\n",
       "      <td>0</td>\n",
       "      <td>0</td>\n",
       "      <td>0</td>\n",
       "      <td>1</td>\n",
       "      <td>1</td>\n",
       "      <td>0</td>\n",
       "      <td>0</td>\n",
       "      <td>0</td>\n",
       "      <td>0</td>\n",
<<<<<<< HEAD
       "      <td>...</td>\n",
=======
>>>>>>> 72e094058c14e8d81f7edd8019d5d325d54cb26e
       "      <td>0</td>\n",
       "      <td>0</td>\n",
       "      <td>0</td>\n",
       "      <td>0</td>\n",
       "      <td>0</td>\n",
       "      <td>0</td>\n",
       "      <td>0</td>\n",
       "      <td>1</td>\n",
       "      <td>0</td>\n",
       "      <td>0</td>\n",
       "    </tr>\n",
       "    <tr>\n",
       "      <th>21595</th>\n",
       "      <td>0</td>\n",
       "      <td>0</td>\n",
       "      <td>0</td>\n",
       "      <td>0</td>\n",
       "      <td>1</td>\n",
       "      <td>1</td>\n",
       "      <td>0</td>\n",
       "      <td>0</td>\n",
       "      <td>0</td>\n",
       "      <td>0</td>\n",
<<<<<<< HEAD
       "      <td>...</td>\n",
=======
>>>>>>> 72e094058c14e8d81f7edd8019d5d325d54cb26e
       "      <td>0</td>\n",
       "      <td>0</td>\n",
       "      <td>0</td>\n",
       "      <td>0</td>\n",
       "      <td>0</td>\n",
       "      <td>0</td>\n",
       "      <td>0</td>\n",
       "      <td>0</td>\n",
       "      <td>1</td>\n",
       "      <td>0</td>\n",
       "    </tr>\n",
       "    <tr>\n",
       "      <th>21596</th>\n",
       "      <td>0</td>\n",
       "      <td>0</td>\n",
       "      <td>0</td>\n",
       "      <td>0</td>\n",
       "      <td>1</td>\n",
       "      <td>1</td>\n",
       "      <td>0</td>\n",
       "      <td>0</td>\n",
       "      <td>0</td>\n",
       "      <td>0</td>\n",
<<<<<<< HEAD
       "      <td>...</td>\n",
=======
>>>>>>> 72e094058c14e8d81f7edd8019d5d325d54cb26e
       "      <td>0</td>\n",
       "      <td>0</td>\n",
       "      <td>0</td>\n",
       "      <td>0</td>\n",
       "      <td>0</td>\n",
       "      <td>0</td>\n",
       "      <td>0</td>\n",
       "      <td>1</td>\n",
       "      <td>0</td>\n",
       "      <td>0</td>\n",
       "    </tr>\n",
       "  </tbody>\n",
       "</table>\n",
<<<<<<< HEAD
       "<p>21472 rows × 21 columns</p>\n",
=======
       "<p>20704 rows × 20 columns</p>\n",
>>>>>>> 72e094058c14e8d81f7edd8019d5d325d54cb26e
       "</div>"
      ],
      "text/plain": [
       "       view_AVERAGE  view_EXCELLENT  view_FAIR  view_GOOD  view_NONE  \\\n",
       "0                 0               0          0          0          1   \n",
       "1                 0               0          0          0          1   \n",
       "2                 0               0          0          0          1   \n",
       "3                 0               0          0          0          1   \n",
       "4                 0               0          0          0          1   \n",
       "...             ...             ...        ...        ...        ...   \n",
       "21592             0               0          0          0          1   \n",
       "21593             0               0          0          0          1   \n",
       "21594             0               0          0          0          1   \n",
       "21595             0               0          0          0          1   \n",
       "21596             0               0          0          0          1   \n",
       "\n",
       "       condition_Average  condition_Fair  condition_Good  condition_Poor  \\\n",
       "0                      1               0               0               0   \n",
       "1                      1               0               0               0   \n",
       "2                      1               0               0               0   \n",
       "3                      0               0               0               0   \n",
       "4                      1               0               0               0   \n",
       "...                  ...             ...             ...             ...   \n",
       "21592                  1               0               0               0   \n",
       "21593                  1               0               0               0   \n",
       "21594                  1               0               0               0   \n",
       "21595                  1               0               0               0   \n",
       "21596                  1               0               0               0   \n",
       "\n",
<<<<<<< HEAD
       "       condition_Very Good  ...  grade_11 Excellent  grade_12 Luxury  \\\n",
       "0                        0  ...                   0                0   \n",
       "1                        0  ...                   0                0   \n",
       "2                        0  ...                   0                0   \n",
       "3                        1  ...                   0                0   \n",
       "4                        0  ...                   0                0   \n",
       "...                    ...  ...                 ...              ...   \n",
       "21592                    0  ...                   0                0   \n",
       "21593                    0  ...                   0                0   \n",
       "21594                    0  ...                   0                0   \n",
       "21595                    0  ...                   0                0   \n",
       "21596                    0  ...                   0                0   \n",
       "\n",
       "       grade_13 Mansion  grade_3 Poor  grade_4 Low  grade_5 Fair  \\\n",
       "0                     0             0            0             0   \n",
       "1                     0             0            0             0   \n",
       "2                     0             0            0             0   \n",
       "3                     0             0            0             0   \n",
       "4                     0             0            0             0   \n",
       "...                 ...           ...          ...           ...   \n",
       "21592                 0             0            0             0   \n",
       "21593                 0             0            0             0   \n",
       "21594                 0             0            0             0   \n",
       "21595                 0             0            0             0   \n",
       "21596                 0             0            0             0   \n",
=======
       "       condition_Very Good  grade_10 Very Good  grade_11 Excellent  \\\n",
       "0                        0                   0                   0   \n",
       "1                        0                   0                   0   \n",
       "2                        0                   0                   0   \n",
       "3                        1                   0                   0   \n",
       "4                        0                   0                   0   \n",
       "...                    ...                 ...                 ...   \n",
       "21592                    0                   0                   0   \n",
       "21593                    0                   0                   0   \n",
       "21594                    0                   0                   0   \n",
       "21595                    0                   0                   0   \n",
       "21596                    0                   0                   0   \n",
       "\n",
       "       grade_12 Luxury  grade_3 Poor  grade_4 Low  grade_5 Fair  \\\n",
       "0                    0             0            0             0   \n",
       "1                    0             0            0             0   \n",
       "2                    0             0            0             0   \n",
       "3                    0             0            0             0   \n",
       "4                    0             0            0             0   \n",
       "...                ...           ...          ...           ...   \n",
       "21592                0             0            0             0   \n",
       "21593                0             0            0             0   \n",
       "21594                0             0            0             0   \n",
       "21595                0             0            0             0   \n",
       "21596                0             0            0             0   \n",
>>>>>>> 72e094058c14e8d81f7edd8019d5d325d54cb26e
       "\n",
       "       grade_6 Low Average  grade_7 Average  grade_8 Good  grade_9 Better  \n",
       "0                        0                1             0               0  \n",
       "1                        0                1             0               0  \n",
       "2                        1                0             0               0  \n",
       "3                        0                1             0               0  \n",
       "4                        0                0             1               0  \n",
       "...                    ...              ...           ...             ...  \n",
       "21592                    0                0             1               0  \n",
       "21593                    0                0             1               0  \n",
       "21594                    0                1             0               0  \n",
       "21595                    0                0             1               0  \n",
       "21596                    0                1             0               0  \n",
       "\n",
<<<<<<< HEAD
       "[21472 rows x 21 columns]"
      ]
     },
     "execution_count": 248,
=======
       "[20704 rows x 20 columns]"
      ]
     },
     "execution_count": 233,
>>>>>>> 72e094058c14e8d81f7edd8019d5d325d54cb26e
     "metadata": {},
     "output_type": "execute_result"
    }
   ],
   "source": [
    "df_cats"
   ]
  },
  {
   "cell_type": "code",
<<<<<<< HEAD
   "execution_count": 249,
=======
   "execution_count": 234,
>>>>>>> 72e094058c14e8d81f7edd8019d5d325d54cb26e
   "metadata": {},
   "outputs": [
    {
     "data": {
      "text/plain": [
<<<<<<< HEAD
       "NONE         19371\n",
       "AVERAGE        952\n",
       "GOOD           507\n",
       "FAIR           327\n",
       "EXCELLENT      315\n",
       "Name: view, dtype: int64"
      ]
     },
     "execution_count": 249,
=======
       "NONE         18901\n",
       "AVERAGE        846\n",
       "GOOD           416\n",
       "FAIR           299\n",
       "EXCELLENT      242\n",
       "Name: view, dtype: int64"
      ]
     },
     "execution_count": 234,
>>>>>>> 72e094058c14e8d81f7edd8019d5d325d54cb26e
     "metadata": {},
     "output_type": "execute_result"
    }
   ],
   "source": [
    "#figuring out which ones to drop!!\n",
    "df['view'].value_counts()"
   ]
  },
  {
   "cell_type": "code",
<<<<<<< HEAD
   "execution_count": 250,
=======
   "execution_count": 235,
>>>>>>> 72e094058c14e8d81f7edd8019d5d325d54cb26e
   "metadata": {},
   "outputs": [
    {
     "data": {
      "text/plain": [
<<<<<<< HEAD
       "7 Average        8923\n",
       "8 Good           6036\n",
       "9 Better         2598\n",
       "6 Low Average    2030\n",
       "10 Very Good     1124\n",
       "11 Excellent      392\n",
       "5 Fair            242\n",
       "12 Luxury          86\n",
       "4 Low              27\n",
       "13 Mansion         13\n",
=======
       "7 Average        8916\n",
       "8 Good           5997\n",
       "9 Better         2472\n",
       "6 Low Average    2030\n",
       "10 Very Good      873\n",
       "5 Fair            242\n",
       "11 Excellent      140\n",
       "4 Low              27\n",
       "12 Luxury           6\n",
>>>>>>> 72e094058c14e8d81f7edd8019d5d325d54cb26e
       "3 Poor              1\n",
       "Name: grade, dtype: int64"
      ]
     },
<<<<<<< HEAD
     "execution_count": 250,
=======
     "execution_count": 235,
>>>>>>> 72e094058c14e8d81f7edd8019d5d325d54cb26e
     "metadata": {},
     "output_type": "execute_result"
    }
   ],
   "source": [
    "#figuring out which ones to drop!!\n",
    "df['grade'].value_counts()"
   ]
  },
  {
   "cell_type": "code",
<<<<<<< HEAD
   "execution_count": 251,
=======
   "execution_count": 236,
>>>>>>> 72e094058c14e8d81f7edd8019d5d325d54cb26e
   "metadata": {},
   "outputs": [
    {
     "data": {
      "text/plain": [
<<<<<<< HEAD
       "Average      13940\n",
       "Good          5643\n",
       "Very Good     1690\n",
       "Fair           170\n",
=======
       "Average      13339\n",
       "Good          5527\n",
       "Very Good     1641\n",
       "Fair           168\n",
>>>>>>> 72e094058c14e8d81f7edd8019d5d325d54cb26e
       "Poor            29\n",
       "Name: condition, dtype: int64"
      ]
     },
<<<<<<< HEAD
     "execution_count": 251,
=======
     "execution_count": 236,
>>>>>>> 72e094058c14e8d81f7edd8019d5d325d54cb26e
     "metadata": {},
     "output_type": "execute_result"
    }
   ],
   "source": [
    "#figuring out which ones to drop!!\n",
    "df['condition'].value_counts()"
   ]
  },
  {
   "cell_type": "code",
<<<<<<< HEAD
   "execution_count": 252,
=======
   "execution_count": 237,
>>>>>>> 72e094058c14e8d81f7edd8019d5d325d54cb26e
   "metadata": {},
   "outputs": [],
   "source": [
    "df_cats = df_cats.drop(['condition_Average', 'view_NONE','grade_7 Average'], axis=1)"
   ]
  },
  {
   "cell_type": "code",
<<<<<<< HEAD
   "execution_count": 253,
=======
   "execution_count": 238,
>>>>>>> 72e094058c14e8d81f7edd8019d5d325d54cb26e
   "metadata": {},
   "outputs": [],
   "source": [
    "df_cats.reset_index(inplace=True, drop=True)"
   ]
  },
  {
   "cell_type": "code",
<<<<<<< HEAD
   "execution_count": 254,
=======
   "execution_count": 239,
>>>>>>> 72e094058c14e8d81f7edd8019d5d325d54cb26e
   "metadata": {},
   "outputs": [],
   "source": [
    "#concating dummies\n",
    "\n",
    "new_set = pd.concat([new_df, df_cats], axis=1)"
   ]
  },
  {
   "cell_type": "code",
<<<<<<< HEAD
   "execution_count": 255,
=======
   "execution_count": 240,
>>>>>>> 72e094058c14e8d81f7edd8019d5d325d54cb26e
   "metadata": {},
   "outputs": [
    {
     "data": {
      "text/plain": [
<<<<<<< HEAD
       "(21472, 5)"
      ]
     },
     "execution_count": 255,
=======
       "(20704, 5)"
      ]
     },
     "execution_count": 240,
>>>>>>> 72e094058c14e8d81f7edd8019d5d325d54cb26e
     "metadata": {},
     "output_type": "execute_result"
    }
   ],
   "source": [
    "new_df.shape"
   ]
  },
  {
   "cell_type": "code",
<<<<<<< HEAD
   "execution_count": 256,
=======
   "execution_count": 241,
>>>>>>> 72e094058c14e8d81f7edd8019d5d325d54cb26e
   "metadata": {
    "scrolled": true
   },
   "outputs": [
    {
     "data": {
      "text/html": [
       "<div>\n",
       "<style scoped>\n",
       "    .dataframe tbody tr th:only-of-type {\n",
       "        vertical-align: middle;\n",
       "    }\n",
       "\n",
       "    .dataframe tbody tr th {\n",
       "        vertical-align: top;\n",
       "    }\n",
       "\n",
       "    .dataframe thead th {\n",
       "        text-align: right;\n",
       "    }\n",
       "</style>\n",
       "<table border=\"1\" class=\"dataframe\">\n",
       "  <thead>\n",
       "    <tr style=\"text-align: right;\">\n",
       "      <th></th>\n",
       "      <th>price</th>\n",
       "      <th>bedrooms</th>\n",
       "      <th>age</th>\n",
       "      <th>sqft_living</th>\n",
       "      <th>floors</th>\n",
       "      <th>view_AVERAGE</th>\n",
       "      <th>view_EXCELLENT</th>\n",
       "      <th>view_FAIR</th>\n",
       "      <th>view_GOOD</th>\n",
       "      <th>condition_Fair</th>\n",
       "      <th>...</th>\n",
<<<<<<< HEAD
       "      <th>grade_10 Very Good</th>\n",
       "      <th>grade_11 Excellent</th>\n",
       "      <th>grade_12 Luxury</th>\n",
       "      <th>grade_13 Mansion</th>\n",
=======
       "      <th>condition_Very Good</th>\n",
       "      <th>grade_10 Very Good</th>\n",
       "      <th>grade_11 Excellent</th>\n",
       "      <th>grade_12 Luxury</th>\n",
>>>>>>> 72e094058c14e8d81f7edd8019d5d325d54cb26e
       "      <th>grade_3 Poor</th>\n",
       "      <th>grade_4 Low</th>\n",
       "      <th>grade_5 Fair</th>\n",
       "      <th>grade_6 Low Average</th>\n",
       "      <th>grade_8 Good</th>\n",
       "      <th>grade_9 Better</th>\n",
       "    </tr>\n",
       "  </thead>\n",
       "  <tbody>\n",
       "    <tr>\n",
       "      <th>0</th>\n",
       "      <td>221900.0</td>\n",
<<<<<<< HEAD
       "      <td>-0.410939</td>\n",
       "      <td>0.610110</td>\n",
       "      <td>-0.984306</td>\n",
       "      <td>-0.914349</td>\n",
=======
       "      <td>-0.376570</td>\n",
       "      <td>0.585987</td>\n",
       "      <td>-1.073706</td>\n",
       "      <td>-0.888867</td>\n",
>>>>>>> 72e094058c14e8d81f7edd8019d5d325d54cb26e
       "      <td>0</td>\n",
       "      <td>0</td>\n",
       "      <td>0</td>\n",
       "      <td>0</td>\n",
       "      <td>0</td>\n",
       "      <td>...</td>\n",
       "      <td>0</td>\n",
       "      <td>0</td>\n",
       "      <td>0</td>\n",
       "      <td>0</td>\n",
       "      <td>0</td>\n",
       "      <td>0</td>\n",
       "      <td>0</td>\n",
       "      <td>0</td>\n",
       "      <td>0</td>\n",
       "      <td>0</td>\n",
       "    </tr>\n",
       "    <tr>\n",
       "      <th>1</th>\n",
       "      <td>538000.0</td>\n",
<<<<<<< HEAD
       "      <td>-0.410939</td>\n",
       "      <td>-0.634041</td>\n",
       "      <td>0.544886</td>\n",
       "      <td>0.938861</td>\n",
=======
       "      <td>-0.376570</td>\n",
       "      <td>-0.659368</td>\n",
       "      <td>0.802630</td>\n",
       "      <td>0.973418</td>\n",
>>>>>>> 72e094058c14e8d81f7edd8019d5d325d54cb26e
       "      <td>0</td>\n",
       "      <td>0</td>\n",
       "      <td>0</td>\n",
       "      <td>0</td>\n",
       "      <td>0</td>\n",
       "      <td>...</td>\n",
       "      <td>0</td>\n",
       "      <td>0</td>\n",
       "      <td>0</td>\n",
       "      <td>0</td>\n",
       "      <td>0</td>\n",
       "      <td>0</td>\n",
       "      <td>0</td>\n",
       "      <td>0</td>\n",
       "      <td>0</td>\n",
       "      <td>0</td>\n",
       "    </tr>\n",
       "    <tr>\n",
       "      <th>2</th>\n",
       "      <td>180000.0</td>\n",
<<<<<<< HEAD
       "      <td>-1.553757</td>\n",
       "      <td>1.404985</td>\n",
       "      <td>-1.435362</td>\n",
       "      <td>-0.914349</td>\n",
=======
       "      <td>-1.541966</td>\n",
       "      <td>1.381631</td>\n",
       "      <td>-1.627158</td>\n",
       "      <td>-0.888867</td>\n",
>>>>>>> 72e094058c14e8d81f7edd8019d5d325d54cb26e
       "      <td>0</td>\n",
       "      <td>0</td>\n",
       "      <td>0</td>\n",
       "      <td>0</td>\n",
       "      <td>0</td>\n",
       "      <td>...</td>\n",
       "      <td>0</td>\n",
       "      <td>0</td>\n",
       "      <td>0</td>\n",
       "      <td>0</td>\n",
       "      <td>0</td>\n",
       "      <td>0</td>\n",
       "      <td>0</td>\n",
       "      <td>1</td>\n",
       "      <td>0</td>\n",
       "      <td>0</td>\n",
       "    </tr>\n",
       "    <tr>\n",
       "      <th>3</th>\n",
       "      <td>604000.0</td>\n",
<<<<<<< HEAD
       "      <td>0.731878</td>\n",
       "      <td>0.264513</td>\n",
       "      <td>-0.126198</td>\n",
       "      <td>-0.914349</td>\n",
=======
       "      <td>0.788826</td>\n",
       "      <td>0.240055</td>\n",
       "      <td>-0.020798</td>\n",
       "      <td>-0.888867</td>\n",
>>>>>>> 72e094058c14e8d81f7edd8019d5d325d54cb26e
       "      <td>0</td>\n",
       "      <td>0</td>\n",
       "      <td>0</td>\n",
       "      <td>0</td>\n",
       "      <td>0</td>\n",
       "      <td>...</td>\n",
<<<<<<< HEAD
       "      <td>0</td>\n",
=======
       "      <td>1</td>\n",
>>>>>>> 72e094058c14e8d81f7edd8019d5d325d54cb26e
       "      <td>0</td>\n",
       "      <td>0</td>\n",
       "      <td>0</td>\n",
       "      <td>0</td>\n",
       "      <td>0</td>\n",
       "      <td>0</td>\n",
       "      <td>0</td>\n",
       "      <td>0</td>\n",
       "      <td>0</td>\n",
       "    </tr>\n",
       "    <tr>\n",
       "      <th>4</th>\n",
       "      <td>510000.0</td>\n",
<<<<<<< HEAD
       "      <td>-0.410939</td>\n",
       "      <td>-0.461242</td>\n",
       "      <td>-0.434237</td>\n",
       "      <td>-0.914349</td>\n",
=======
       "      <td>-0.376570</td>\n",
       "      <td>-0.486402</td>\n",
       "      <td>-0.398765</td>\n",
       "      <td>-0.888867</td>\n",
>>>>>>> 72e094058c14e8d81f7edd8019d5d325d54cb26e
       "      <td>0</td>\n",
       "      <td>0</td>\n",
       "      <td>0</td>\n",
       "      <td>0</td>\n",
       "      <td>0</td>\n",
       "      <td>...</td>\n",
       "      <td>0</td>\n",
       "      <td>0</td>\n",
       "      <td>0</td>\n",
       "      <td>0</td>\n",
       "      <td>0</td>\n",
       "      <td>0</td>\n",
       "      <td>0</td>\n",
       "      <td>0</td>\n",
       "      <td>1</td>\n",
       "      <td>0</td>\n",
       "    </tr>\n",
       "    <tr>\n",
       "      <th>...</th>\n",
       "      <td>...</td>\n",
       "      <td>...</td>\n",
       "      <td>...</td>\n",
       "      <td>...</td>\n",
       "      <td>...</td>\n",
       "      <td>...</td>\n",
       "      <td>...</td>\n",
       "      <td>...</td>\n",
       "      <td>...</td>\n",
       "      <td>...</td>\n",
       "      <td>...</td>\n",
       "      <td>...</td>\n",
       "      <td>...</td>\n",
       "      <td>...</td>\n",
       "      <td>...</td>\n",
       "      <td>...</td>\n",
       "      <td>...</td>\n",
       "      <td>...</td>\n",
       "      <td>...</td>\n",
       "      <td>...</td>\n",
       "      <td>...</td>\n",
       "    </tr>\n",
       "    <tr>\n",
<<<<<<< HEAD
       "      <th>21467</th>\n",
       "      <td>360000.0</td>\n",
       "      <td>-0.410939</td>\n",
       "      <td>-1.256116</td>\n",
       "      <td>-0.599257</td>\n",
       "      <td>2.792071</td>\n",
=======
       "      <th>20699</th>\n",
       "      <td>360000.0</td>\n",
       "      <td>-0.376570</td>\n",
       "      <td>-1.282045</td>\n",
       "      <td>-0.601247</td>\n",
       "      <td>2.835703</td>\n",
>>>>>>> 72e094058c14e8d81f7edd8019d5d325d54cb26e
       "      <td>0</td>\n",
       "      <td>0</td>\n",
       "      <td>0</td>\n",
       "      <td>0</td>\n",
       "      <td>0</td>\n",
       "      <td>...</td>\n",
       "      <td>0</td>\n",
       "      <td>0</td>\n",
       "      <td>0</td>\n",
       "      <td>0</td>\n",
       "      <td>0</td>\n",
       "      <td>0</td>\n",
       "      <td>0</td>\n",
       "      <td>0</td>\n",
       "      <td>1</td>\n",
       "      <td>0</td>\n",
       "    </tr>\n",
       "    <tr>\n",
<<<<<<< HEAD
       "      <th>21468</th>\n",
       "      <td>400000.0</td>\n",
       "      <td>0.731878</td>\n",
       "      <td>-1.394356</td>\n",
       "      <td>0.258850</td>\n",
       "      <td>0.938861</td>\n",
=======
       "      <th>20700</th>\n",
       "      <td>400000.0</td>\n",
       "      <td>0.788826</td>\n",
       "      <td>-1.420418</td>\n",
       "      <td>0.451660</td>\n",
       "      <td>0.973418</td>\n",
>>>>>>> 72e094058c14e8d81f7edd8019d5d325d54cb26e
       "      <td>0</td>\n",
       "      <td>0</td>\n",
       "      <td>0</td>\n",
       "      <td>0</td>\n",
       "      <td>0</td>\n",
       "      <td>...</td>\n",
       "      <td>0</td>\n",
       "      <td>0</td>\n",
       "      <td>0</td>\n",
       "      <td>0</td>\n",
       "      <td>0</td>\n",
       "      <td>0</td>\n",
       "      <td>0</td>\n",
       "      <td>0</td>\n",
       "      <td>1</td>\n",
       "      <td>0</td>\n",
       "    </tr>\n",
       "    <tr>\n",
<<<<<<< HEAD
       "      <th>21469</th>\n",
       "      <td>402101.0</td>\n",
       "      <td>-1.553757</td>\n",
       "      <td>-1.256116</td>\n",
       "      <td>-1.160328</td>\n",
       "      <td>0.938861</td>\n",
=======
       "      <th>20701</th>\n",
       "      <td>402101.0</td>\n",
       "      <td>-1.541966</td>\n",
       "      <td>-1.282045</td>\n",
       "      <td>-1.289687</td>\n",
       "      <td>0.973418</td>\n",
>>>>>>> 72e094058c14e8d81f7edd8019d5d325d54cb26e
       "      <td>0</td>\n",
       "      <td>0</td>\n",
       "      <td>0</td>\n",
       "      <td>0</td>\n",
       "      <td>0</td>\n",
       "      <td>...</td>\n",
       "      <td>0</td>\n",
       "      <td>0</td>\n",
       "      <td>0</td>\n",
       "      <td>0</td>\n",
       "      <td>0</td>\n",
       "      <td>0</td>\n",
       "      <td>0</td>\n",
       "      <td>0</td>\n",
       "      <td>0</td>\n",
       "      <td>0</td>\n",
       "    </tr>\n",
       "    <tr>\n",
<<<<<<< HEAD
       "      <th>21470</th>\n",
       "      <td>400000.0</td>\n",
       "      <td>-0.410939</td>\n",
       "      <td>-1.048758</td>\n",
       "      <td>-0.522248</td>\n",
       "      <td>0.938861</td>\n",
=======
       "      <th>20702</th>\n",
       "      <td>400000.0</td>\n",
       "      <td>-0.376570</td>\n",
       "      <td>-1.074486</td>\n",
       "      <td>-0.506756</td>\n",
       "      <td>0.973418</td>\n",
>>>>>>> 72e094058c14e8d81f7edd8019d5d325d54cb26e
       "      <td>0</td>\n",
       "      <td>0</td>\n",
       "      <td>0</td>\n",
       "      <td>0</td>\n",
       "      <td>0</td>\n",
       "      <td>...</td>\n",
       "      <td>0</td>\n",
       "      <td>0</td>\n",
       "      <td>0</td>\n",
       "      <td>0</td>\n",
       "      <td>0</td>\n",
       "      <td>0</td>\n",
       "      <td>0</td>\n",
       "      <td>0</td>\n",
       "      <td>1</td>\n",
       "      <td>0</td>\n",
       "    </tr>\n",
       "    <tr>\n",
<<<<<<< HEAD
       "      <th>21471</th>\n",
       "      <td>325000.0</td>\n",
       "      <td>-1.553757</td>\n",
       "      <td>-1.221557</td>\n",
       "      <td>-1.160328</td>\n",
       "      <td>0.938861</td>\n",
=======
       "      <th>20703</th>\n",
       "      <td>325000.0</td>\n",
       "      <td>-1.541966</td>\n",
       "      <td>-1.247452</td>\n",
       "      <td>-1.289687</td>\n",
       "      <td>0.973418</td>\n",
>>>>>>> 72e094058c14e8d81f7edd8019d5d325d54cb26e
       "      <td>0</td>\n",
       "      <td>0</td>\n",
       "      <td>0</td>\n",
       "      <td>0</td>\n",
       "      <td>0</td>\n",
       "      <td>...</td>\n",
       "      <td>0</td>\n",
       "      <td>0</td>\n",
       "      <td>0</td>\n",
       "      <td>0</td>\n",
       "      <td>0</td>\n",
       "      <td>0</td>\n",
       "      <td>0</td>\n",
       "      <td>0</td>\n",
       "      <td>0</td>\n",
       "      <td>0</td>\n",
       "    </tr>\n",
       "  </tbody>\n",
       "</table>\n",
<<<<<<< HEAD
       "<p>21472 rows × 23 columns</p>\n",
=======
       "<p>20704 rows × 22 columns</p>\n",
>>>>>>> 72e094058c14e8d81f7edd8019d5d325d54cb26e
       "</div>"
      ],
      "text/plain": [
       "          price  bedrooms       age  sqft_living    floors  view_AVERAGE  \\\n",
<<<<<<< HEAD
       "0      221900.0 -0.410939  0.610110    -0.984306 -0.914349             0   \n",
       "1      538000.0 -0.410939 -0.634041     0.544886  0.938861             0   \n",
       "2      180000.0 -1.553757  1.404985    -1.435362 -0.914349             0   \n",
       "3      604000.0  0.731878  0.264513    -0.126198 -0.914349             0   \n",
       "4      510000.0 -0.410939 -0.461242    -0.434237 -0.914349             0   \n",
       "...         ...       ...       ...          ...       ...           ...   \n",
       "21467  360000.0 -0.410939 -1.256116    -0.599257  2.792071             0   \n",
       "21468  400000.0  0.731878 -1.394356     0.258850  0.938861             0   \n",
       "21469  402101.0 -1.553757 -1.256116    -1.160328  0.938861             0   \n",
       "21470  400000.0 -0.410939 -1.048758    -0.522248  0.938861             0   \n",
       "21471  325000.0 -1.553757 -1.221557    -1.160328  0.938861             0   \n",
=======
       "0      221900.0 -0.376570  0.585987    -1.073706 -0.888867             0   \n",
       "1      538000.0 -0.376570 -0.659368     0.802630  0.973418             0   \n",
       "2      180000.0 -1.541966  1.381631    -1.627158 -0.888867             0   \n",
       "3      604000.0  0.788826  0.240055    -0.020798 -0.888867             0   \n",
       "4      510000.0 -0.376570 -0.486402    -0.398765 -0.888867             0   \n",
       "...         ...       ...       ...          ...       ...           ...   \n",
       "20699  360000.0 -0.376570 -1.282045    -0.601247  2.835703             0   \n",
       "20700  400000.0  0.788826 -1.420418     0.451660  0.973418             0   \n",
       "20701  402101.0 -1.541966 -1.282045    -1.289687  0.973418             0   \n",
       "20702  400000.0 -0.376570 -1.074486    -0.506756  0.973418             0   \n",
       "20703  325000.0 -1.541966 -1.247452    -1.289687  0.973418             0   \n",
>>>>>>> 72e094058c14e8d81f7edd8019d5d325d54cb26e
       "\n",
       "       view_EXCELLENT  view_FAIR  view_GOOD  condition_Fair  ...  \\\n",
       "0                   0          0          0               0  ...   \n",
       "1                   0          0          0               0  ...   \n",
       "2                   0          0          0               0  ...   \n",
       "3                   0          0          0               0  ...   \n",
       "4                   0          0          0               0  ...   \n",
       "...               ...        ...        ...             ...  ...   \n",
<<<<<<< HEAD
       "21467               0          0          0               0  ...   \n",
       "21468               0          0          0               0  ...   \n",
       "21469               0          0          0               0  ...   \n",
       "21470               0          0          0               0  ...   \n",
       "21471               0          0          0               0  ...   \n",
       "\n",
       "       grade_10 Very Good  grade_11 Excellent  grade_12 Luxury  \\\n",
       "0                       0                   0                0   \n",
       "1                       0                   0                0   \n",
       "2                       0                   0                0   \n",
       "3                       0                   0                0   \n",
       "4                       0                   0                0   \n",
       "...                   ...                 ...              ...   \n",
       "21467                   0                   0                0   \n",
       "21468                   0                   0                0   \n",
       "21469                   0                   0                0   \n",
       "21470                   0                   0                0   \n",
       "21471                   0                   0                0   \n",
       "\n",
       "       grade_13 Mansion  grade_3 Poor  grade_4 Low  grade_5 Fair  \\\n",
       "0                     0             0            0             0   \n",
       "1                     0             0            0             0   \n",
       "2                     0             0            0             0   \n",
       "3                     0             0            0             0   \n",
       "4                     0             0            0             0   \n",
       "...                 ...           ...          ...           ...   \n",
       "21467                 0             0            0             0   \n",
       "21468                 0             0            0             0   \n",
       "21469                 0             0            0             0   \n",
       "21470                 0             0            0             0   \n",
       "21471                 0             0            0             0   \n",
=======
       "20699               0          0          0               0  ...   \n",
       "20700               0          0          0               0  ...   \n",
       "20701               0          0          0               0  ...   \n",
       "20702               0          0          0               0  ...   \n",
       "20703               0          0          0               0  ...   \n",
       "\n",
       "       condition_Very Good  grade_10 Very Good  grade_11 Excellent  \\\n",
       "0                        0                   0                   0   \n",
       "1                        0                   0                   0   \n",
       "2                        0                   0                   0   \n",
       "3                        1                   0                   0   \n",
       "4                        0                   0                   0   \n",
       "...                    ...                 ...                 ...   \n",
       "20699                    0                   0                   0   \n",
       "20700                    0                   0                   0   \n",
       "20701                    0                   0                   0   \n",
       "20702                    0                   0                   0   \n",
       "20703                    0                   0                   0   \n",
       "\n",
       "       grade_12 Luxury  grade_3 Poor  grade_4 Low  grade_5 Fair  \\\n",
       "0                    0             0            0             0   \n",
       "1                    0             0            0             0   \n",
       "2                    0             0            0             0   \n",
       "3                    0             0            0             0   \n",
       "4                    0             0            0             0   \n",
       "...                ...           ...          ...           ...   \n",
       "20699                0             0            0             0   \n",
       "20700                0             0            0             0   \n",
       "20701                0             0            0             0   \n",
       "20702                0             0            0             0   \n",
       "20703                0             0            0             0   \n",
>>>>>>> 72e094058c14e8d81f7edd8019d5d325d54cb26e
       "\n",
       "       grade_6 Low Average  grade_8 Good  grade_9 Better  \n",
       "0                        0             0               0  \n",
       "1                        0             0               0  \n",
       "2                        1             0               0  \n",
       "3                        0             0               0  \n",
       "4                        0             1               0  \n",
       "...                    ...           ...             ...  \n",
<<<<<<< HEAD
       "21467                    0             1               0  \n",
       "21468                    0             1               0  \n",
       "21469                    0             0               0  \n",
       "21470                    0             1               0  \n",
       "21471                    0             0               0  \n",
       "\n",
       "[21472 rows x 23 columns]"
      ]
     },
     "execution_count": 256,
=======
       "20699                    0             1               0  \n",
       "20700                    0             1               0  \n",
       "20701                    0             0               0  \n",
       "20702                    0             1               0  \n",
       "20703                    0             0               0  \n",
       "\n",
       "[20704 rows x 22 columns]"
      ]
     },
     "execution_count": 241,
>>>>>>> 72e094058c14e8d81f7edd8019d5d325d54cb26e
     "metadata": {},
     "output_type": "execute_result"
    }
   ],
   "source": [
    "new_set"
   ]
  },
  {
   "cell_type": "code",
   "execution_count": null,
   "metadata": {},
   "outputs": [],
   "source": []
  },
  {
   "cell_type": "code",
<<<<<<< HEAD
   "execution_count": 257,
=======
   "execution_count": 242,
>>>>>>> 72e094058c14e8d81f7edd8019d5d325d54cb26e
   "metadata": {},
   "outputs": [
    {
     "data": {
      "text/html": [
       "<table class=\"simpletable\">\n",
       "<caption>OLS Regression Results</caption>\n",
       "<tr>\n",
<<<<<<< HEAD
       "  <th>Dep. Variable:</th>          <td>price</td>      <th>  R-squared:         </th>  <td>   0.655</td>  \n",
       "</tr>\n",
       "<tr>\n",
       "  <th>Model:</th>                   <td>OLS</td>       <th>  Adj. R-squared:    </th>  <td>   0.655</td>  \n",
       "</tr>\n",
       "<tr>\n",
       "  <th>Method:</th>             <td>Least Squares</td>  <th>  F-statistic:       </th>  <td>   1854.</td>  \n",
=======
       "  <th>Dep. Variable:</th>          <td>price</td>      <th>  R-squared:         </th>  <td>   0.577</td>  \n",
       "</tr>\n",
       "<tr>\n",
       "  <th>Model:</th>                   <td>OLS</td>       <th>  Adj. R-squared:    </th>  <td>   0.577</td>  \n",
       "</tr>\n",
       "<tr>\n",
       "  <th>Method:</th>             <td>Least Squares</td>  <th>  F-statistic:       </th>  <td>   1343.</td>  \n",
>>>>>>> 72e094058c14e8d81f7edd8019d5d325d54cb26e
       "</tr>\n",
       "<tr>\n",
       "  <th>Date:</th>             <td>Tue, 25 Oct 2022</td> <th>  Prob (F-statistic):</th>   <td>  0.00</td>   \n",
       "</tr>\n",
       "<tr>\n",
<<<<<<< HEAD
       "  <th>Time:</th>                 <td>13:03:55</td>     <th>  Log-Likelihood:    </th> <td>-2.9397e+05</td>\n",
       "</tr>\n",
       "<tr>\n",
       "  <th>No. Observations:</th>      <td> 21472</td>      <th>  AIC:               </th>  <td>5.880e+05</td> \n",
       "</tr>\n",
       "<tr>\n",
       "  <th>Df Residuals:</th>          <td> 21449</td>      <th>  BIC:               </th>  <td>5.882e+05</td> \n",
       "</tr>\n",
       "<tr>\n",
       "  <th>Df Model:</th>              <td>    22</td>      <th>                     </th>      <td> </td>     \n",
=======
       "  <th>Time:</th>                 <td>17:46:24</td>     <th>  Log-Likelihood:    </th> <td>-2.7959e+05</td>\n",
       "</tr>\n",
       "<tr>\n",
       "  <th>No. Observations:</th>      <td> 20704</td>      <th>  AIC:               </th>  <td>5.592e+05</td> \n",
       "</tr>\n",
       "<tr>\n",
       "  <th>Df Residuals:</th>          <td> 20682</td>      <th>  BIC:               </th>  <td>5.594e+05</td> \n",
       "</tr>\n",
       "<tr>\n",
       "  <th>Df Model:</th>              <td>    21</td>      <th>                     </th>      <td> </td>     \n",
>>>>>>> 72e094058c14e8d81f7edd8019d5d325d54cb26e
       "</tr>\n",
       "<tr>\n",
       "  <th>Covariance Type:</th>      <td>nonrobust</td>    <th>                     </th>      <td> </td>     \n",
       "</tr>\n",
       "</table>\n",
       "<table class=\"simpletable\">\n",
       "<tr>\n",
       "           <td></td>              <th>coef</th>     <th>std err</th>      <th>t</th>      <th>P>|t|</th>  <th>[0.025</th>    <th>0.975]</th>  \n",
       "</tr>\n",
       "<tr>\n",
<<<<<<< HEAD
       "  <th>const</th>               <td> 4.342e+05</td> <td> 2879.989</td> <td>  150.780</td> <td> 0.000</td> <td> 4.29e+05</td> <td>  4.4e+05</td>\n",
       "</tr>\n",
       "<tr>\n",
       "  <th>bedrooms</th>            <td> -2.19e+04</td> <td> 1898.711</td> <td>  -11.536</td> <td> 0.000</td> <td>-2.56e+04</td> <td>-1.82e+04</td>\n",
       "</tr>\n",
       "<tr>\n",
       "  <th>age</th>                 <td> 7.406e+04</td> <td> 1936.802</td> <td>   38.238</td> <td> 0.000</td> <td> 7.03e+04</td> <td> 7.79e+04</td>\n",
       "</tr>\n",
       "<tr>\n",
       "  <th>sqft_living</th>         <td> 1.483e+05</td> <td> 2800.467</td> <td>   52.944</td> <td> 0.000</td> <td> 1.43e+05</td> <td> 1.54e+05</td>\n",
       "</tr>\n",
       "<tr>\n",
       "  <th>floors</th>              <td> 2.177e+04</td> <td> 1810.173</td> <td>   12.027</td> <td> 0.000</td> <td> 1.82e+04</td> <td> 2.53e+04</td>\n",
       "</tr>\n",
       "<tr>\n",
       "  <th>view_AVERAGE</th>        <td> 7.156e+04</td> <td> 7247.214</td> <td>    9.874</td> <td> 0.000</td> <td> 5.74e+04</td> <td> 8.58e+04</td>\n",
       "</tr>\n",
       "<tr>\n",
       "  <th>view_EXCELLENT</th>      <td> 4.957e+05</td> <td> 1.25e+04</td> <td>   39.713</td> <td> 0.000</td> <td> 4.71e+05</td> <td>  5.2e+05</td>\n",
       "</tr>\n",
       "<tr>\n",
       "  <th>view_FAIR</th>           <td> 1.407e+05</td> <td>  1.2e+04</td> <td>   11.717</td> <td> 0.000</td> <td> 1.17e+05</td> <td> 1.64e+05</td>\n",
       "</tr>\n",
       "<tr>\n",
       "  <th>view_GOOD</th>           <td> 1.481e+05</td> <td> 9834.526</td> <td>   15.059</td> <td> 0.000</td> <td> 1.29e+05</td> <td> 1.67e+05</td>\n",
       "</tr>\n",
       "<tr>\n",
       "  <th>condition_Fair</th>      <td>-3.364e+04</td> <td> 1.67e+04</td> <td>   -2.017</td> <td> 0.044</td> <td>-6.63e+04</td> <td> -950.337</td>\n",
       "</tr>\n",
       "<tr>\n",
       "  <th>condition_Good</th>      <td> 1.502e+04</td> <td> 3663.715</td> <td>    4.099</td> <td> 0.000</td> <td> 7837.743</td> <td> 2.22e+04</td>\n",
       "</tr>\n",
       "<tr>\n",
       "  <th>condition_Poor</th>      <td>-3.567e+04</td> <td> 4.01e+04</td> <td>   -0.890</td> <td> 0.373</td> <td>-1.14e+05</td> <td> 4.29e+04</td>\n",
       "</tr>\n",
       "<tr>\n",
       "  <th>condition_Very Good</th> <td> 6.706e+04</td> <td> 5881.718</td> <td>   11.402</td> <td> 0.000</td> <td> 5.55e+04</td> <td> 7.86e+04</td>\n",
       "</tr>\n",
       "<tr>\n",
       "  <th>grade_10 Very Good</th>  <td> 3.914e+05</td> <td> 8608.328</td> <td>   45.465</td> <td> 0.000</td> <td> 3.75e+05</td> <td> 4.08e+05</td>\n",
       "</tr>\n",
       "<tr>\n",
       "  <th>grade_11 Excellent</th>  <td> 6.554e+05</td> <td> 1.34e+04</td> <td>   48.752</td> <td> 0.000</td> <td> 6.29e+05</td> <td> 6.82e+05</td>\n",
       "</tr>\n",
       "<tr>\n",
       "  <th>grade_12 Luxury</th>     <td> 1.094e+06</td> <td> 2.55e+04</td> <td>   42.977</td> <td> 0.000</td> <td> 1.04e+06</td> <td> 1.14e+06</td>\n",
       "</tr>\n",
       "<tr>\n",
       "  <th>grade_13 Mansion</th>    <td> 2.295e+06</td> <td> 6.15e+04</td> <td>   37.315</td> <td> 0.000</td> <td> 2.17e+06</td> <td> 2.42e+06</td>\n",
       "</tr>\n",
       "<tr>\n",
       "  <th>grade_3 Poor</th>        <td>-1.622e+05</td> <td> 2.14e+05</td> <td>   -0.758</td> <td> 0.448</td> <td>-5.81e+05</td> <td> 2.57e+05</td>\n",
       "</tr>\n",
       "<tr>\n",
       "  <th>grade_4 Low</th>         <td>-1.218e+05</td> <td> 4.14e+04</td> <td>   -2.939</td> <td> 0.003</td> <td>-2.03e+05</td> <td>-4.06e+04</td>\n",
       "</tr>\n",
       "<tr>\n",
       "  <th>grade_5 Fair</th>        <td> -1.32e+05</td> <td> 1.43e+04</td> <td>   -9.265</td> <td> 0.000</td> <td> -1.6e+05</td> <td>-1.04e+05</td>\n",
       "</tr>\n",
       "<tr>\n",
       "  <th>grade_6 Low Average</th> <td>-8.141e+04</td> <td> 5566.768</td> <td>  -14.624</td> <td> 0.000</td> <td>-9.23e+04</td> <td>-7.05e+04</td>\n",
       "</tr>\n",
       "<tr>\n",
       "  <th>grade_8 Good</th>        <td> 8.754e+04</td> <td> 4016.745</td> <td>   21.794</td> <td> 0.000</td> <td> 7.97e+04</td> <td> 9.54e+04</td>\n",
       "</tr>\n",
       "<tr>\n",
       "  <th>grade_9 Better</th>      <td> 2.159e+05</td> <td> 6010.454</td> <td>   35.916</td> <td> 0.000</td> <td> 2.04e+05</td> <td> 2.28e+05</td>\n",
=======
       "  <th>const</th>               <td> 4.119e+05</td> <td> 2350.354</td> <td>  175.231</td> <td> 0.000</td> <td> 4.07e+05</td> <td> 4.16e+05</td>\n",
       "</tr>\n",
       "<tr>\n",
       "  <th>bedrooms</th>            <td>-1.349e+04</td> <td> 1601.027</td> <td>   -8.426</td> <td> 0.000</td> <td>-1.66e+04</td> <td>-1.04e+04</td>\n",
       "</tr>\n",
       "<tr>\n",
       "  <th>age</th>                 <td> 7.305e+04</td> <td> 1628.408</td> <td>   44.859</td> <td> 0.000</td> <td> 6.99e+04</td> <td> 7.62e+04</td>\n",
       "</tr>\n",
       "<tr>\n",
       "  <th>sqft_living</th>         <td> 9.334e+04</td> <td> 2158.614</td> <td>   43.240</td> <td> 0.000</td> <td> 8.91e+04</td> <td> 9.76e+04</td>\n",
       "</tr>\n",
       "<tr>\n",
       "  <th>floors</th>              <td> 2.112e+04</td> <td> 1522.491</td> <td>   13.874</td> <td> 0.000</td> <td> 1.81e+04</td> <td> 2.41e+04</td>\n",
       "</tr>\n",
       "<tr>\n",
       "  <th>view_AVERAGE</th>        <td> 7.468e+04</td> <td> 6338.259</td> <td>   11.783</td> <td> 0.000</td> <td> 6.23e+04</td> <td> 8.71e+04</td>\n",
       "</tr>\n",
       "<tr>\n",
       "  <th>view_EXCELLENT</th>      <td> 4.164e+05</td> <td> 1.16e+04</td> <td>   35.765</td> <td> 0.000</td> <td> 3.94e+05</td> <td> 4.39e+05</td>\n",
       "</tr>\n",
       "<tr>\n",
       "  <th>view_FAIR</th>           <td> 1.127e+05</td> <td> 1.04e+04</td> <td>   10.830</td> <td> 0.000</td> <td> 9.23e+04</td> <td> 1.33e+05</td>\n",
       "</tr>\n",
       "<tr>\n",
       "  <th>view_GOOD</th>           <td> 1.468e+05</td> <td> 8928.530</td> <td>   16.437</td> <td> 0.000</td> <td> 1.29e+05</td> <td> 1.64e+05</td>\n",
       "</tr>\n",
       "<tr>\n",
       "  <th>condition_Fair</th>      <td>-4.261e+04</td> <td> 1.39e+04</td> <td>   -3.060</td> <td> 0.002</td> <td>-6.99e+04</td> <td>-1.53e+04</td>\n",
       "</tr>\n",
       "<tr>\n",
       "  <th>condition_Good</th>      <td> 1.295e+04</td> <td> 3076.216</td> <td>    4.211</td> <td> 0.000</td> <td> 6924.157</td> <td>  1.9e+04</td>\n",
       "</tr>\n",
       "<tr>\n",
       "  <th>condition_Poor</th>      <td> -3.08e+04</td> <td> 3.32e+04</td> <td>   -0.926</td> <td> 0.354</td> <td> -9.6e+04</td> <td> 3.44e+04</td>\n",
       "</tr>\n",
       "<tr>\n",
       "  <th>condition_Very Good</th> <td>  6.16e+04</td> <td> 4945.987</td> <td>   12.455</td> <td> 0.000</td> <td> 5.19e+04</td> <td> 7.13e+04</td>\n",
       "</tr>\n",
       "<tr>\n",
       "  <th>grade_10 Very Good</th>  <td> 4.097e+05</td> <td> 7612.998</td> <td>   53.813</td> <td> 0.000</td> <td> 3.95e+05</td> <td> 4.25e+05</td>\n",
       "</tr>\n",
       "<tr>\n",
       "  <th>grade_11 Excellent</th>  <td> 5.706e+05</td> <td> 1.59e+04</td> <td>   35.813</td> <td> 0.000</td> <td> 5.39e+05</td> <td> 6.02e+05</td>\n",
       "</tr>\n",
       "<tr>\n",
       "  <th>grade_12 Luxury</th>     <td> 1.279e+06</td> <td> 7.28e+04</td> <td>   17.575</td> <td> 0.000</td> <td> 1.14e+06</td> <td> 1.42e+06</td>\n",
       "</tr>\n",
       "<tr>\n",
       "  <th>grade_3 Poor</th>        <td>-1.796e+05</td> <td> 1.77e+05</td> <td>   -1.012</td> <td> 0.311</td> <td>-5.27e+05</td> <td> 1.68e+05</td>\n",
       "</tr>\n",
       "<tr>\n",
       "  <th>grade_4 Low</th>         <td>-1.409e+05</td> <td> 3.44e+04</td> <td>   -4.097</td> <td> 0.000</td> <td>-2.08e+05</td> <td>-7.35e+04</td>\n",
       "</tr>\n",
       "<tr>\n",
       "  <th>grade_5 Fair</th>        <td>-1.478e+05</td> <td> 1.18e+04</td> <td>  -12.477</td> <td> 0.000</td> <td>-1.71e+05</td> <td>-1.25e+05</td>\n",
       "</tr>\n",
       "<tr>\n",
       "  <th>grade_6 Low Average</th> <td>-9.354e+04</td> <td> 4645.288</td> <td>  -20.136</td> <td> 0.000</td> <td>-1.03e+05</td> <td>-8.44e+04</td>\n",
       "</tr>\n",
       "<tr>\n",
       "  <th>grade_8 Good</th>        <td> 1.038e+05</td> <td> 3386.936</td> <td>   30.641</td> <td> 0.000</td> <td> 9.71e+04</td> <td>  1.1e+05</td>\n",
       "</tr>\n",
       "<tr>\n",
       "  <th>grade_9 Better</th>      <td> 2.522e+05</td> <td> 5150.958</td> <td>   48.966</td> <td> 0.000</td> <td> 2.42e+05</td> <td> 2.62e+05</td>\n",
>>>>>>> 72e094058c14e8d81f7edd8019d5d325d54cb26e
       "</tr>\n",
       "</table>\n",
       "<table class=\"simpletable\">\n",
       "<tr>\n",
<<<<<<< HEAD
       "  <th>Omnibus:</th>       <td>13601.157</td> <th>  Durbin-Watson:     </th>  <td>   1.982</td> \n",
       "</tr>\n",
       "<tr>\n",
       "  <th>Prob(Omnibus):</th>  <td> 0.000</td>   <th>  Jarque-Bera (JB):  </th> <td>637009.566</td>\n",
       "</tr>\n",
       "<tr>\n",
       "  <th>Skew:</th>           <td> 2.419</td>   <th>  Prob(JB):          </th>  <td>    0.00</td> \n",
       "</tr>\n",
       "<tr>\n",
       "  <th>Kurtosis:</th>       <td>29.241</td>   <th>  Cond. No.          </th>  <td>    214.</td> \n",
=======
       "  <th>Omnibus:</th>       <td>7660.107</td> <th>  Durbin-Watson:     </th> <td>   1.958</td> \n",
       "</tr>\n",
       "<tr>\n",
       "  <th>Prob(Omnibus):</th>  <td> 0.000</td>  <th>  Jarque-Bera (JB):  </th> <td>65054.444</td>\n",
       "</tr>\n",
       "<tr>\n",
       "  <th>Skew:</th>           <td> 1.545</td>  <th>  Prob(JB):          </th> <td>    0.00</td> \n",
       "</tr>\n",
       "<tr>\n",
       "  <th>Kurtosis:</th>       <td>11.116</td>  <th>  Cond. No.          </th> <td>    210.</td> \n",
>>>>>>> 72e094058c14e8d81f7edd8019d5d325d54cb26e
       "</tr>\n",
       "</table><br/><br/>Notes:<br/>[1] Standard Errors assume that the covariance matrix of the errors is correctly specified."
      ],
      "text/plain": [
       "<class 'statsmodels.iolib.summary.Summary'>\n",
       "\"\"\"\n",
       "                            OLS Regression Results                            \n",
       "==============================================================================\n",
<<<<<<< HEAD
       "Dep. Variable:                  price   R-squared:                       0.655\n",
       "Model:                            OLS   Adj. R-squared:                  0.655\n",
       "Method:                 Least Squares   F-statistic:                     1854.\n",
       "Date:                Tue, 25 Oct 2022   Prob (F-statistic):               0.00\n",
       "Time:                        13:03:55   Log-Likelihood:            -2.9397e+05\n",
       "No. Observations:               21472   AIC:                         5.880e+05\n",
       "Df Residuals:                   21449   BIC:                         5.882e+05\n",
       "Df Model:                          22                                         \n",
=======
       "Dep. Variable:                  price   R-squared:                       0.577\n",
       "Model:                            OLS   Adj. R-squared:                  0.577\n",
       "Method:                 Least Squares   F-statistic:                     1343.\n",
       "Date:                Tue, 25 Oct 2022   Prob (F-statistic):               0.00\n",
       "Time:                        17:46:24   Log-Likelihood:            -2.7959e+05\n",
       "No. Observations:               20704   AIC:                         5.592e+05\n",
       "Df Residuals:                   20682   BIC:                         5.594e+05\n",
       "Df Model:                          21                                         \n",
>>>>>>> 72e094058c14e8d81f7edd8019d5d325d54cb26e
       "Covariance Type:            nonrobust                                         \n",
       "=======================================================================================\n",
       "                          coef    std err          t      P>|t|      [0.025      0.975]\n",
       "---------------------------------------------------------------------------------------\n",
<<<<<<< HEAD
       "const                4.342e+05   2879.989    150.780      0.000    4.29e+05     4.4e+05\n",
       "bedrooms             -2.19e+04   1898.711    -11.536      0.000   -2.56e+04   -1.82e+04\n",
       "age                  7.406e+04   1936.802     38.238      0.000    7.03e+04    7.79e+04\n",
       "sqft_living          1.483e+05   2800.467     52.944      0.000    1.43e+05    1.54e+05\n",
       "floors               2.177e+04   1810.173     12.027      0.000    1.82e+04    2.53e+04\n",
       "view_AVERAGE         7.156e+04   7247.214      9.874      0.000    5.74e+04    8.58e+04\n",
       "view_EXCELLENT       4.957e+05   1.25e+04     39.713      0.000    4.71e+05     5.2e+05\n",
       "view_FAIR            1.407e+05    1.2e+04     11.717      0.000    1.17e+05    1.64e+05\n",
       "view_GOOD            1.481e+05   9834.526     15.059      0.000    1.29e+05    1.67e+05\n",
       "condition_Fair      -3.364e+04   1.67e+04     -2.017      0.044   -6.63e+04    -950.337\n",
       "condition_Good       1.502e+04   3663.715      4.099      0.000    7837.743    2.22e+04\n",
       "condition_Poor      -3.567e+04   4.01e+04     -0.890      0.373   -1.14e+05    4.29e+04\n",
       "condition_Very Good  6.706e+04   5881.718     11.402      0.000    5.55e+04    7.86e+04\n",
       "grade_10 Very Good   3.914e+05   8608.328     45.465      0.000    3.75e+05    4.08e+05\n",
       "grade_11 Excellent   6.554e+05   1.34e+04     48.752      0.000    6.29e+05    6.82e+05\n",
       "grade_12 Luxury      1.094e+06   2.55e+04     42.977      0.000    1.04e+06    1.14e+06\n",
       "grade_13 Mansion     2.295e+06   6.15e+04     37.315      0.000    2.17e+06    2.42e+06\n",
       "grade_3 Poor        -1.622e+05   2.14e+05     -0.758      0.448   -5.81e+05    2.57e+05\n",
       "grade_4 Low         -1.218e+05   4.14e+04     -2.939      0.003   -2.03e+05   -4.06e+04\n",
       "grade_5 Fair         -1.32e+05   1.43e+04     -9.265      0.000    -1.6e+05   -1.04e+05\n",
       "grade_6 Low Average -8.141e+04   5566.768    -14.624      0.000   -9.23e+04   -7.05e+04\n",
       "grade_8 Good         8.754e+04   4016.745     21.794      0.000    7.97e+04    9.54e+04\n",
       "grade_9 Better       2.159e+05   6010.454     35.916      0.000    2.04e+05    2.28e+05\n",
       "==============================================================================\n",
       "Omnibus:                    13601.157   Durbin-Watson:                   1.982\n",
       "Prob(Omnibus):                  0.000   Jarque-Bera (JB):           637009.566\n",
       "Skew:                           2.419   Prob(JB):                         0.00\n",
       "Kurtosis:                      29.241   Cond. No.                         214.\n",
=======
       "const                4.119e+05   2350.354    175.231      0.000    4.07e+05    4.16e+05\n",
       "bedrooms            -1.349e+04   1601.027     -8.426      0.000   -1.66e+04   -1.04e+04\n",
       "age                  7.305e+04   1628.408     44.859      0.000    6.99e+04    7.62e+04\n",
       "sqft_living          9.334e+04   2158.614     43.240      0.000    8.91e+04    9.76e+04\n",
       "floors               2.112e+04   1522.491     13.874      0.000    1.81e+04    2.41e+04\n",
       "view_AVERAGE         7.468e+04   6338.259     11.783      0.000    6.23e+04    8.71e+04\n",
       "view_EXCELLENT       4.164e+05   1.16e+04     35.765      0.000    3.94e+05    4.39e+05\n",
       "view_FAIR            1.127e+05   1.04e+04     10.830      0.000    9.23e+04    1.33e+05\n",
       "view_GOOD            1.468e+05   8928.530     16.437      0.000    1.29e+05    1.64e+05\n",
       "condition_Fair      -4.261e+04   1.39e+04     -3.060      0.002   -6.99e+04   -1.53e+04\n",
       "condition_Good       1.295e+04   3076.216      4.211      0.000    6924.157     1.9e+04\n",
       "condition_Poor       -3.08e+04   3.32e+04     -0.926      0.354    -9.6e+04    3.44e+04\n",
       "condition_Very Good   6.16e+04   4945.987     12.455      0.000    5.19e+04    7.13e+04\n",
       "grade_10 Very Good   4.097e+05   7612.998     53.813      0.000    3.95e+05    4.25e+05\n",
       "grade_11 Excellent   5.706e+05   1.59e+04     35.813      0.000    5.39e+05    6.02e+05\n",
       "grade_12 Luxury      1.279e+06   7.28e+04     17.575      0.000    1.14e+06    1.42e+06\n",
       "grade_3 Poor        -1.796e+05   1.77e+05     -1.012      0.311   -5.27e+05    1.68e+05\n",
       "grade_4 Low         -1.409e+05   3.44e+04     -4.097      0.000   -2.08e+05   -7.35e+04\n",
       "grade_5 Fair        -1.478e+05   1.18e+04    -12.477      0.000   -1.71e+05   -1.25e+05\n",
       "grade_6 Low Average -9.354e+04   4645.288    -20.136      0.000   -1.03e+05   -8.44e+04\n",
       "grade_8 Good         1.038e+05   3386.936     30.641      0.000    9.71e+04     1.1e+05\n",
       "grade_9 Better       2.522e+05   5150.958     48.966      0.000    2.42e+05    2.62e+05\n",
       "==============================================================================\n",
       "Omnibus:                     7660.107   Durbin-Watson:                   1.958\n",
       "Prob(Omnibus):                  0.000   Jarque-Bera (JB):            65054.444\n",
       "Skew:                           1.545   Prob(JB):                         0.00\n",
       "Kurtosis:                      11.116   Cond. No.                         210.\n",
>>>>>>> 72e094058c14e8d81f7edd8019d5d325d54cb26e
       "==============================================================================\n",
       "\n",
       "Notes:\n",
       "[1] Standard Errors assume that the covariance matrix of the errors is correctly specified.\n",
       "\"\"\""
      ]
     },
<<<<<<< HEAD
     "execution_count": 257,
=======
     "execution_count": 242,
>>>>>>> 72e094058c14e8d81f7edd8019d5d325d54cb26e
     "metadata": {},
     "output_type": "execute_result"
    }
   ],
   "source": [
    "#testing model\n",
    "y = new_set['price']\n",
    "\n",
    "x = sm.add_constant(new_set.drop('price', axis=1))\n",
    "\n",
    "model = sm.OLS(y,x)\n",
    "model.fit().summary()"
   ]
  },
  {
   "cell_type": "code",
<<<<<<< HEAD
   "execution_count": 283,
=======
   "execution_count": 243,
>>>>>>> 72e094058c14e8d81f7edd8019d5d325d54cb26e
   "metadata": {
    "scrolled": true
   },
   "outputs": [
    {
     "data": {
<<<<<<< HEAD
      "image/png": "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\n",
=======
      "image/png": "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\n",
>>>>>>> 72e094058c14e8d81f7edd8019d5d325d54cb26e
      "text/plain": [
       "<Figure size 432x288 with 1 Axes>"
      ]
     },
     "metadata": {
      "needs_background": "light"
     },
     "output_type": "display_data"
    }
   ],
   "source": [
    "linearity_test(y,x)"
   ]
  },
  {
   "cell_type": "code",
<<<<<<< HEAD
   "execution_count": 284,
=======
   "execution_count": 244,
>>>>>>> 72e094058c14e8d81f7edd8019d5d325d54cb26e
   "metadata": {},
   "outputs": [
    {
     "data": {
      "text/plain": [
<<<<<<< HEAD
       "1.9823705239056595"
      ]
     },
     "execution_count": 284,
=======
       "1.9583266976442786"
      ]
     },
     "execution_count": 244,
>>>>>>> 72e094058c14e8d81f7edd8019d5d325d54cb26e
     "metadata": {},
     "output_type": "execute_result"
    }
   ],
   "source": [
    "independence_test_DW(y,x)"
   ]
  },
  {
   "cell_type": "code",
<<<<<<< HEAD
   "execution_count": 285,
=======
   "execution_count": 245,
>>>>>>> 72e094058c14e8d81f7edd8019d5d325d54cb26e
   "metadata": {},
   "outputs": [
    {
     "data": {
<<<<<<< HEAD
      "text/html": [
       "<table class=\"simpletable\">\n",
       "<tr>\n",
       "  <th>Omnibus:</th>       <td>13601.157</td> <th>  Durbin-Watson:     </th>  <td>   1.982</td> \n",
       "</tr>\n",
       "<tr>\n",
       "  <th>Prob(Omnibus):</th>  <td> 0.000</td>   <th>  Jarque-Bera (JB):  </th> <td>637009.566</td>\n",
       "</tr>\n",
       "<tr>\n",
       "  <th>Skew:</th>           <td> 2.419</td>   <th>  Prob(JB):          </th>  <td>    0.00</td> \n",
       "</tr>\n",
       "<tr>\n",
       "  <th>Kurtosis:</th>       <td>29.241</td>   <th>  Cond. No.          </th>  <td>    214.</td> \n",
       "</tr>\n",
       "</table>"
      ],
      "text/plain": [
       "<class 'statsmodels.iolib.table.SimpleTable'>"
      ]
     },
     "execution_count": 285,
     "metadata": {},
     "output_type": "execute_result"
=======
      "image/png": "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\n",
      "text/plain": [
       "<Figure size 432x288 with 1 Axes>"
      ]
     },
     "metadata": {
      "needs_background": "light"
     },
     "output_type": "display_data"
>>>>>>> 72e094058c14e8d81f7edd8019d5d325d54cb26e
    }
   ],
   "source": [
    "normality_test(y,x)"
   ]
  },
  {
   "cell_type": "code",
<<<<<<< HEAD
   "execution_count": 286,
=======
   "execution_count": 246,
>>>>>>> 72e094058c14e8d81f7edd8019d5d325d54cb26e
   "metadata": {},
   "outputs": [
    {
     "data": {
<<<<<<< HEAD
      "image/png": "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\n",
=======
      "image/png": "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\n",
>>>>>>> 72e094058c14e8d81f7edd8019d5d325d54cb26e
      "text/plain": [
       "<Figure size 432x288 with 1 Axes>"
      ]
     },
     "metadata": {
      "needs_background": "light"
     },
     "output_type": "display_data"
    }
   ],
   "source": [
    "homoskedasticity_test(y,x)"
   ]
  },
  {
   "cell_type": "code",
<<<<<<< HEAD
   "execution_count": 289,
=======
   "execution_count": 247,
>>>>>>> 72e094058c14e8d81f7edd8019d5d325d54cb26e
   "metadata": {
    "scrolled": true
   },
   "outputs": [
    {
     "data": {
      "text/html": [
       "<div>\n",
       "<style scoped>\n",
       "    .dataframe tbody tr th:only-of-type {\n",
       "        vertical-align: middle;\n",
       "    }\n",
       "\n",
       "    .dataframe tbody tr th {\n",
       "        vertical-align: top;\n",
       "    }\n",
       "\n",
       "    .dataframe thead th {\n",
       "        text-align: right;\n",
       "    }\n",
       "</style>\n",
       "<table border=\"1\" class=\"dataframe\">\n",
       "  <thead>\n",
       "    <tr style=\"text-align: right;\">\n",
       "      <th></th>\n",
       "      <th>price</th>\n",
       "      <th>bedrooms</th>\n",
       "      <th>age</th>\n",
       "      <th>sqft_living</th>\n",
       "      <th>floors</th>\n",
       "      <th>view_AVERAGE</th>\n",
       "      <th>view_EXCELLENT</th>\n",
       "      <th>view_FAIR</th>\n",
       "      <th>view_GOOD</th>\n",
       "      <th>condition_Fair</th>\n",
       "      <th>...</th>\n",
<<<<<<< HEAD
       "      <th>grade_10 Very Good</th>\n",
       "      <th>grade_11 Excellent</th>\n",
       "      <th>grade_12 Luxury</th>\n",
       "      <th>grade_13 Mansion</th>\n",
=======
       "      <th>condition_Very Good</th>\n",
       "      <th>grade_10 Very Good</th>\n",
       "      <th>grade_11 Excellent</th>\n",
       "      <th>grade_12 Luxury</th>\n",
>>>>>>> 72e094058c14e8d81f7edd8019d5d325d54cb26e
       "      <th>grade_3 Poor</th>\n",
       "      <th>grade_4 Low</th>\n",
       "      <th>grade_5 Fair</th>\n",
       "      <th>grade_6 Low Average</th>\n",
       "      <th>grade_8 Good</th>\n",
       "      <th>grade_9 Better</th>\n",
       "    </tr>\n",
       "  </thead>\n",
       "  <tbody>\n",
       "    <tr>\n",
       "      <th>price</th>\n",
       "      <td>1.000000</td>\n",
<<<<<<< HEAD
       "      <td>0.312755</td>\n",
       "      <td>-0.100427</td>\n",
       "      <td>0.701082</td>\n",
       "      <td>0.254739</td>\n",
       "      <td>0.147009</td>\n",
       "      <td>0.305767</td>\n",
       "      <td>0.092909</td>\n",
       "      <td>0.184827</td>\n",
       "      <td>-0.051720</td>\n",
       "      <td>...</td>\n",
       "      <td>0.342355</td>\n",
       "      <td>0.356850</td>\n",
       "      <td>0.281280</td>\n",
       "      <td>0.214556</td>\n",
       "      <td>-0.005192</td>\n",
       "      <td>-0.031872</td>\n",
       "      <td>-0.085185</td>\n",
       "      <td>-0.210542</td>\n",
       "      <td>0.006222</td>\n",
       "      <td>0.239193</td>\n",
       "    </tr>\n",
       "    <tr>\n",
       "      <th>bedrooms</th>\n",
       "      <td>0.312755</td>\n",
       "      <td>1.000000</td>\n",
       "      <td>-0.180561</td>\n",
       "      <td>0.593033</td>\n",
       "      <td>0.182579</td>\n",
       "      <td>0.045941</td>\n",
       "      <td>0.033968</td>\n",
       "      <td>0.020607</td>\n",
       "      <td>0.053873</td>\n",
       "      <td>-0.051124</td>\n",
       "      <td>...</td>\n",
       "      <td>0.141903</td>\n",
       "      <td>0.118091</td>\n",
       "      <td>0.059051</td>\n",
       "      <td>0.041815</td>\n",
       "      <td>-0.018403</td>\n",
       "      <td>-0.071652</td>\n",
       "      <td>-0.118494</td>\n",
       "      <td>-0.249756</td>\n",
       "      <td>0.080100</td>\n",
       "      <td>0.171819</td>\n",
       "    </tr>\n",
       "    <tr>\n",
       "      <th>age</th>\n",
       "      <td>-0.100427</td>\n",
       "      <td>-0.180561</td>\n",
       "      <td>1.000000</td>\n",
       "      <td>-0.344838</td>\n",
       "      <td>-0.503504</td>\n",
       "      <td>0.038528</td>\n",
       "      <td>0.001753</td>\n",
       "      <td>0.028807</td>\n",
       "      <td>0.001160</td>\n",
       "      <td>0.072737</td>\n",
       "      <td>...</td>\n",
       "      <td>-0.152061</td>\n",
       "      <td>-0.099879</td>\n",
       "      <td>-0.046578</td>\n",
       "      <td>-0.012727</td>\n",
       "      <td>0.012654</td>\n",
       "      <td>0.042541</td>\n",
       "      <td>0.134742</td>\n",
       "      <td>0.319050</td>\n",
       "      <td>-0.208363</td>\n",
       "      <td>-0.228302</td>\n",
       "    </tr>\n",
       "    <tr>\n",
       "      <th>sqft_living</th>\n",
       "      <td>0.701082</td>\n",
       "      <td>0.593033</td>\n",
       "      <td>-0.344838</td>\n",
       "      <td>1.000000</td>\n",
       "      <td>0.352287</td>\n",
       "      <td>0.133381</td>\n",
       "      <td>0.164523</td>\n",
       "      <td>0.066106</td>\n",
       "      <td>0.160702</td>\n",
       "      <td>-0.064264</td>\n",
       "      <td>...</td>\n",
       "      <td>0.371083</td>\n",
       "      <td>0.345719</td>\n",
       "      <td>0.227599</td>\n",
       "      <td>0.146447</td>\n",
       "      <td>-0.011673</td>\n",
       "      <td>-0.054415</td>\n",
       "      <td>-0.128191</td>\n",
       "      <td>-0.314150</td>\n",
       "      <td>0.073516</td>\n",
       "      <td>0.323465</td>\n",
       "    </tr>\n",
       "    <tr>\n",
       "      <th>floors</th>\n",
       "      <td>0.254739</td>\n",
       "      <td>0.182579</td>\n",
       "      <td>-0.503504</td>\n",
       "      <td>0.352287</td>\n",
       "      <td>1.000000</td>\n",
       "      <td>0.007671</td>\n",
       "      <td>0.024108</td>\n",
       "      <td>-0.024552</td>\n",
       "      <td>0.020380</td>\n",
       "      <td>-0.055388</td>\n",
       "      <td>...</td>\n",
       "      <td>0.173771</td>\n",
       "      <td>0.117714</td>\n",
       "      <td>0.049971</td>\n",
       "      <td>0.021354</td>\n",
       "      <td>-0.006240</td>\n",
       "      <td>-0.030008</td>\n",
       "      <td>-0.080452</td>\n",
       "      <td>-0.230409</td>\n",
       "      <td>0.202248</td>\n",
       "      <td>0.245247</td>\n",
       "    </tr>\n",
       "    <tr>\n",
       "      <th>view_AVERAGE</th>\n",
       "      <td>0.147009</td>\n",
       "      <td>0.045941</td>\n",
       "      <td>0.038528</td>\n",
       "      <td>0.133381</td>\n",
       "      <td>0.007671</td>\n",
       "      <td>1.000000</td>\n",
       "      <td>-0.026282</td>\n",
       "      <td>-0.026786</td>\n",
       "      <td>-0.033495</td>\n",
       "      <td>-0.011583</td>\n",
       "      <td>...</td>\n",
       "      <td>0.050960</td>\n",
       "      <td>0.063578</td>\n",
       "      <td>0.032910</td>\n",
       "      <td>0.022292</td>\n",
       "      <td>-0.001470</td>\n",
       "      <td>-0.001258</td>\n",
       "      <td>-0.010137</td>\n",
       "      <td>-0.037121</td>\n",
       "      <td>0.028881</td>\n",
       "      <td>0.049821</td>\n",
       "    </tr>\n",
       "    <tr>\n",
       "      <th>view_EXCELLENT</th>\n",
       "      <td>0.305767</td>\n",
       "      <td>0.033968</td>\n",
       "      <td>0.001753</td>\n",
       "      <td>0.164523</td>\n",
       "      <td>0.024108</td>\n",
       "      <td>-0.026282</td>\n",
       "      <td>1.000000</td>\n",
       "      <td>-0.015174</td>\n",
       "      <td>-0.018975</td>\n",
       "      <td>-0.010900</td>\n",
       "      <td>...</td>\n",
       "      <td>0.084369</td>\n",
       "      <td>0.081737</td>\n",
       "      <td>0.114923</td>\n",
       "      <td>0.044239</td>\n",
       "      <td>-0.000833</td>\n",
       "      <td>-0.004330</td>\n",
       "      <td>0.001651</td>\n",
       "      <td>-0.023541</td>\n",
       "      <td>-0.012537</td>\n",
       "      <td>0.040250</td>\n",
       "    </tr>\n",
       "    <tr>\n",
       "      <th>view_FAIR</th>\n",
       "      <td>0.092909</td>\n",
       "      <td>0.020607</td>\n",
       "      <td>0.028807</td>\n",
       "      <td>0.066106</td>\n",
       "      <td>-0.024552</td>\n",
       "      <td>-0.026786</td>\n",
       "      <td>-0.015174</td>\n",
       "      <td>1.000000</td>\n",
       "      <td>-0.019339</td>\n",
       "      <td>-0.006818</td>\n",
       "      <td>...</td>\n",
       "      <td>0.015166</td>\n",
       "      <td>0.031333</td>\n",
       "      <td>0.004156</td>\n",
       "      <td>-0.003061</td>\n",
       "      <td>-0.000849</td>\n",
       "      <td>0.017050</td>\n",
       "      <td>-0.006072</td>\n",
       "      <td>-0.020686</td>\n",
       "      <td>0.012755</td>\n",
       "      <td>0.026162</td>\n",
       "    </tr>\n",
       "    <tr>\n",
       "      <th>view_GOOD</th>\n",
       "      <td>0.184827</td>\n",
       "      <td>0.053873</td>\n",
       "      <td>0.001160</td>\n",
       "      <td>0.160702</td>\n",
       "      <td>0.020380</td>\n",
       "      <td>-0.033495</td>\n",
       "      <td>-0.018975</td>\n",
       "      <td>-0.019339</td>\n",
       "      <td>1.000000</td>\n",
       "      <td>-0.006970</td>\n",
       "      <td>...</td>\n",
       "      <td>0.076376</td>\n",
       "      <td>0.081893</td>\n",
       "      <td>0.038702</td>\n",
       "      <td>0.021111</td>\n",
       "      <td>-0.001061</td>\n",
       "      <td>-0.005518</td>\n",
       "      <td>-0.013697</td>\n",
       "      <td>-0.035573</td>\n",
       "      <td>0.002372</td>\n",
       "      <td>0.063632</td>\n",
       "    </tr>\n",
       "    <tr>\n",
       "      <th>condition_Fair</th>\n",
       "      <td>-0.051720</td>\n",
       "      <td>-0.051124</td>\n",
       "      <td>0.072737</td>\n",
       "      <td>-0.064264</td>\n",
       "      <td>-0.055388</td>\n",
       "      <td>-0.011583</td>\n",
       "      <td>-0.010900</td>\n",
       "      <td>-0.006818</td>\n",
       "      <td>-0.006970</td>\n",
       "      <td>1.000000</td>\n",
       "      <td>...</td>\n",
       "      <td>-0.016277</td>\n",
       "      <td>-0.012182</td>\n",
       "      <td>-0.005665</td>\n",
       "      <td>-0.002199</td>\n",
       "      <td>-0.000610</td>\n",
       "      <td>0.056144</td>\n",
       "      <td>0.065132</td>\n",
       "      <td>0.077101</td>\n",
       "      <td>-0.040666</td>\n",
       "      <td>-0.029921</td>\n",
       "    </tr>\n",
       "    <tr>\n",
       "      <th>condition_Good</th>\n",
       "      <td>-0.031507</td>\n",
       "      <td>-0.008723</td>\n",
       "      <td>0.282550</td>\n",
       "      <td>-0.083677</td>\n",
       "      <td>-0.258083</td>\n",
       "      <td>0.008125</td>\n",
       "      <td>0.013391</td>\n",
       "      <td>0.015606</td>\n",
       "      <td>0.013767</td>\n",
       "      <td>-0.053339</td>\n",
       "      <td>...</td>\n",
       "      <td>-0.066696</td>\n",
       "      <td>-0.037952</td>\n",
       "      <td>-0.017760</td>\n",
       "      <td>-0.006093</td>\n",
       "      <td>-0.004075</td>\n",
       "      <td>0.008671</td>\n",
       "      <td>0.020448</td>\n",
       "      <td>0.053703</td>\n",
       "      <td>-0.047381</td>\n",
       "      <td>-0.078442</td>\n",
       "    </tr>\n",
       "    <tr>\n",
       "      <th>condition_Poor</th>\n",
       "      <td>-0.019989</td>\n",
       "      <td>-0.033952</td>\n",
       "      <td>0.050529</td>\n",
       "      <td>-0.033450</td>\n",
       "      <td>-0.023050</td>\n",
       "      <td>-0.007921</td>\n",
       "      <td>0.016608</td>\n",
       "      <td>0.005782</td>\n",
       "      <td>-0.005719</td>\n",
       "      <td>-0.003285</td>\n",
       "      <td>...</td>\n",
       "      <td>-0.008643</td>\n",
       "      <td>-0.005015</td>\n",
       "      <td>-0.002332</td>\n",
       "      <td>-0.000905</td>\n",
       "      <td>-0.000251</td>\n",
       "      <td>0.034479</td>\n",
       "      <td>0.104190</td>\n",
       "      <td>0.035793</td>\n",
       "      <td>-0.017355</td>\n",
       "      <td>-0.013644</td>\n",
       "    </tr>\n",
       "    <tr>\n",
       "      <th>condition_Very Good</th>\n",
       "      <td>0.055548</td>\n",
       "      <td>0.023185</td>\n",
       "      <td>0.257864</td>\n",
       "      <td>-0.020209</td>\n",
       "      <td>-0.121899</td>\n",
       "      <td>0.023585</td>\n",
       "      <td>0.026191</td>\n",
       "      <td>0.011669</td>\n",
       "      <td>0.004665</td>\n",
       "      <td>-0.026111</td>\n",
       "      <td>...</td>\n",
       "      <td>-0.028317</td>\n",
       "      <td>-0.026939</td>\n",
       "      <td>-0.013058</td>\n",
       "      <td>-0.007194</td>\n",
       "      <td>0.023349</td>\n",
       "      <td>-0.010371</td>\n",
       "      <td>0.024498</td>\n",
       "      <td>0.052151</td>\n",
       "      <td>-0.033116</td>\n",
       "      <td>-0.041621</td>\n",
       "    </tr>\n",
       "    <tr>\n",
       "      <th>grade_10 Very Good</th>\n",
       "      <td>0.342355</td>\n",
       "      <td>0.141903</td>\n",
       "      <td>-0.152061</td>\n",
       "      <td>0.371083</td>\n",
       "      <td>0.173771</td>\n",
       "      <td>0.050960</td>\n",
       "      <td>0.084369</td>\n",
       "      <td>0.015166</td>\n",
       "      <td>0.076376</td>\n",
       "      <td>-0.016277</td>\n",
       "      <td>...</td>\n",
       "      <td>1.000000</td>\n",
       "      <td>-0.032050</td>\n",
       "      <td>-0.014904</td>\n",
       "      <td>-0.005785</td>\n",
       "      <td>-0.001604</td>\n",
       "      <td>-0.008340</td>\n",
       "      <td>-0.025093</td>\n",
       "      <td>-0.075945</td>\n",
       "      <td>-0.146970</td>\n",
       "      <td>-0.087199</td>\n",
       "    </tr>\n",
       "    <tr>\n",
       "      <th>grade_11 Excellent</th>\n",
       "      <td>0.356850</td>\n",
       "      <td>0.118091</td>\n",
       "      <td>-0.099879</td>\n",
       "      <td>0.345719</td>\n",
       "      <td>0.117714</td>\n",
       "      <td>0.063578</td>\n",
       "      <td>0.081737</td>\n",
       "      <td>0.031333</td>\n",
       "      <td>0.081893</td>\n",
       "      <td>-0.012182</td>\n",
       "      <td>...</td>\n",
       "      <td>-0.032050</td>\n",
       "      <td>1.000000</td>\n",
       "      <td>-0.008648</td>\n",
       "      <td>-0.003356</td>\n",
       "      <td>-0.000931</td>\n",
       "      <td>-0.004839</td>\n",
       "      <td>-0.014559</td>\n",
       "      <td>-0.044064</td>\n",
       "      <td>-0.085274</td>\n",
       "      <td>-0.050594</td>\n",
       "    </tr>\n",
       "    <tr>\n",
       "      <th>grade_12 Luxury</th>\n",
       "      <td>0.281280</td>\n",
       "      <td>0.059051</td>\n",
       "      <td>-0.046578</td>\n",
       "      <td>0.227599</td>\n",
       "      <td>0.049971</td>\n",
       "      <td>0.032910</td>\n",
       "      <td>0.114923</td>\n",
       "      <td>0.004156</td>\n",
       "      <td>0.038702</td>\n",
       "      <td>-0.005665</td>\n",
       "      <td>...</td>\n",
       "      <td>-0.014904</td>\n",
       "      <td>-0.008648</td>\n",
       "      <td>1.000000</td>\n",
       "      <td>-0.001561</td>\n",
       "      <td>-0.000433</td>\n",
       "      <td>-0.002250</td>\n",
       "      <td>-0.006770</td>\n",
       "      <td>-0.020491</td>\n",
       "      <td>-0.039654</td>\n",
       "      <td>-0.023527</td>\n",
       "    </tr>\n",
       "    <tr>\n",
       "      <th>grade_13 Mansion</th>\n",
       "      <td>0.214556</td>\n",
       "      <td>0.041815</td>\n",
       "      <td>-0.012727</td>\n",
       "      <td>0.146447</td>\n",
       "      <td>0.021354</td>\n",
       "      <td>0.022292</td>\n",
       "      <td>0.044239</td>\n",
       "      <td>-0.003061</td>\n",
       "      <td>0.021111</td>\n",
       "      <td>-0.002199</td>\n",
       "      <td>...</td>\n",
       "      <td>-0.005785</td>\n",
       "      <td>-0.003356</td>\n",
       "      <td>-0.001561</td>\n",
       "      <td>1.000000</td>\n",
       "      <td>-0.000168</td>\n",
       "      <td>-0.000873</td>\n",
       "      <td>-0.002628</td>\n",
       "      <td>-0.007953</td>\n",
       "      <td>-0.015391</td>\n",
       "      <td>-0.009132</td>\n",
       "    </tr>\n",
       "    <tr>\n",
       "      <th>grade_3 Poor</th>\n",
       "      <td>-0.005192</td>\n",
       "      <td>-0.018403</td>\n",
       "      <td>0.012654</td>\n",
       "      <td>-0.011673</td>\n",
       "      <td>-0.006240</td>\n",
       "      <td>-0.001470</td>\n",
       "      <td>-0.000833</td>\n",
       "      <td>-0.000849</td>\n",
       "      <td>-0.001061</td>\n",
       "      <td>-0.000610</td>\n",
       "      <td>...</td>\n",
       "      <td>-0.001604</td>\n",
       "      <td>-0.000931</td>\n",
       "      <td>-0.000433</td>\n",
       "      <td>-0.000168</td>\n",
       "      <td>1.000000</td>\n",
       "      <td>-0.000242</td>\n",
       "      <td>-0.000729</td>\n",
       "      <td>-0.002205</td>\n",
       "      <td>-0.004268</td>\n",
       "      <td>-0.002532</td>\n",
       "    </tr>\n",
       "    <tr>\n",
       "      <th>grade_4 Low</th>\n",
       "      <td>-0.031872</td>\n",
       "      <td>-0.071652</td>\n",
       "      <td>0.042541</td>\n",
       "      <td>-0.054415</td>\n",
       "      <td>-0.030008</td>\n",
       "      <td>-0.001258</td>\n",
       "      <td>-0.004330</td>\n",
       "      <td>0.017050</td>\n",
       "      <td>-0.005518</td>\n",
       "      <td>0.056144</td>\n",
       "      <td>...</td>\n",
       "      <td>-0.008340</td>\n",
       "      <td>-0.004839</td>\n",
       "      <td>-0.002250</td>\n",
       "      <td>-0.000873</td>\n",
       "      <td>-0.000242</td>\n",
       "      <td>1.000000</td>\n",
       "      <td>-0.003788</td>\n",
       "      <td>-0.011466</td>\n",
       "      <td>-0.022188</td>\n",
       "      <td>-0.013165</td>\n",
       "    </tr>\n",
       "    <tr>\n",
       "      <th>grade_5 Fair</th>\n",
       "      <td>-0.085185</td>\n",
       "      <td>-0.118494</td>\n",
       "      <td>0.134742</td>\n",
       "      <td>-0.128191</td>\n",
       "      <td>-0.080452</td>\n",
       "      <td>-0.010137</td>\n",
       "      <td>0.001651</td>\n",
       "      <td>-0.006072</td>\n",
       "      <td>-0.013697</td>\n",
       "      <td>0.065132</td>\n",
       "      <td>...</td>\n",
       "      <td>-0.025093</td>\n",
       "      <td>-0.014559</td>\n",
       "      <td>-0.006770</td>\n",
       "      <td>-0.002628</td>\n",
       "      <td>-0.000729</td>\n",
       "      <td>-0.003788</td>\n",
       "      <td>1.000000</td>\n",
       "      <td>-0.034499</td>\n",
       "      <td>-0.066764</td>\n",
       "      <td>-0.039611</td>\n",
       "    </tr>\n",
       "    <tr>\n",
       "      <th>grade_6 Low Average</th>\n",
       "      <td>-0.210542</td>\n",
       "      <td>-0.249756</td>\n",
       "      <td>0.319050</td>\n",
       "      <td>-0.314150</td>\n",
       "      <td>-0.230409</td>\n",
       "      <td>-0.037121</td>\n",
       "      <td>-0.023541</td>\n",
       "      <td>-0.020686</td>\n",
       "      <td>-0.035573</td>\n",
       "      <td>0.077101</td>\n",
       "      <td>...</td>\n",
       "      <td>-0.075945</td>\n",
       "      <td>-0.044064</td>\n",
       "      <td>-0.020491</td>\n",
       "      <td>-0.007953</td>\n",
       "      <td>-0.002205</td>\n",
       "      <td>-0.011466</td>\n",
       "      <td>-0.034499</td>\n",
       "      <td>1.000000</td>\n",
       "      <td>-0.202062</td>\n",
       "      <td>-0.119885</td>\n",
       "    </tr>\n",
       "    <tr>\n",
       "      <th>grade_8 Good</th>\n",
       "      <td>0.006222</td>\n",
       "      <td>0.080100</td>\n",
       "      <td>-0.208363</td>\n",
       "      <td>0.073516</td>\n",
       "      <td>0.202248</td>\n",
       "      <td>0.028881</td>\n",
       "      <td>-0.012537</td>\n",
       "      <td>0.012755</td>\n",
       "      <td>0.002372</td>\n",
       "      <td>-0.040666</td>\n",
       "      <td>...</td>\n",
       "      <td>-0.146970</td>\n",
       "      <td>-0.085274</td>\n",
       "      <td>-0.039654</td>\n",
       "      <td>-0.015391</td>\n",
       "      <td>-0.004268</td>\n",
       "      <td>-0.022188</td>\n",
       "      <td>-0.066764</td>\n",
       "      <td>-0.202062</td>\n",
       "      <td>1.000000</td>\n",
       "      <td>-0.232004</td>\n",
       "    </tr>\n",
       "    <tr>\n",
       "      <th>grade_9 Better</th>\n",
       "      <td>0.239193</td>\n",
       "      <td>0.171819</td>\n",
       "      <td>-0.228302</td>\n",
       "      <td>0.323465</td>\n",
       "      <td>0.245247</td>\n",
       "      <td>0.049821</td>\n",
       "      <td>0.040250</td>\n",
       "      <td>0.026162</td>\n",
       "      <td>0.063632</td>\n",
       "      <td>-0.029921</td>\n",
       "      <td>...</td>\n",
       "      <td>-0.087199</td>\n",
       "      <td>-0.050594</td>\n",
       "      <td>-0.023527</td>\n",
       "      <td>-0.009132</td>\n",
       "      <td>-0.002532</td>\n",
       "      <td>-0.013165</td>\n",
       "      <td>-0.039611</td>\n",
       "      <td>-0.119885</td>\n",
       "      <td>-0.232004</td>\n",
=======
       "      <td>0.276728</td>\n",
       "      <td>-0.057297</td>\n",
       "      <td>0.613095</td>\n",
       "      <td>0.245031</td>\n",
       "      <td>0.142975</td>\n",
       "      <td>0.256103</td>\n",
       "      <td>0.091051</td>\n",
       "      <td>0.169194</td>\n",
       "      <td>-0.063422</td>\n",
       "      <td>...</td>\n",
       "      <td>0.073771</td>\n",
       "      <td>0.367731</td>\n",
       "      <td>0.208819</td>\n",
       "      <td>0.095716</td>\n",
       "      <td>-0.006143</td>\n",
       "      <td>-0.038570</td>\n",
       "      <td>-0.101502</td>\n",
       "      <td>-0.243327</td>\n",
       "      <td>0.087289</td>\n",
       "      <td>0.345602</td>\n",
       "    </tr>\n",
       "    <tr>\n",
       "      <th>bedrooms</th>\n",
       "      <td>0.276728</td>\n",
       "      <td>1.000000</td>\n",
       "      <td>-0.162830</td>\n",
       "      <td>0.599596</td>\n",
       "      <td>0.158744</td>\n",
       "      <td>0.031172</td>\n",
       "      <td>0.009848</td>\n",
       "      <td>0.012921</td>\n",
       "      <td>0.028313</td>\n",
       "      <td>-0.050373</td>\n",
       "      <td>...</td>\n",
       "      <td>0.026827</td>\n",
       "      <td>0.104168</td>\n",
       "      <td>0.045168</td>\n",
       "      <td>-0.003104</td>\n",
       "      <td>-0.018816</td>\n",
       "      <td>-0.072877</td>\n",
       "      <td>-0.118462</td>\n",
       "      <td>-0.245866</td>\n",
       "      <td>0.106746</td>\n",
       "      <td>0.175890</td>\n",
       "    </tr>\n",
       "    <tr>\n",
       "      <th>age</th>\n",
       "      <td>-0.057297</td>\n",
       "      <td>-0.162830</td>\n",
       "      <td>1.000000</td>\n",
       "      <td>-0.346446</td>\n",
       "      <td>-0.502628</td>\n",
       "      <td>0.048949</td>\n",
       "      <td>0.014121</td>\n",
       "      <td>0.034255</td>\n",
       "      <td>0.017787</td>\n",
       "      <td>0.071365</td>\n",
       "      <td>...</td>\n",
       "      <td>0.253137</td>\n",
       "      <td>-0.138868</td>\n",
       "      <td>-0.056953</td>\n",
       "      <td>-0.003275</td>\n",
       "      <td>0.012728</td>\n",
       "      <td>0.042472</td>\n",
       "      <td>0.134693</td>\n",
       "      <td>0.317712</td>\n",
       "      <td>-0.229890</td>\n",
       "      <td>-0.236748</td>\n",
       "    </tr>\n",
       "    <tr>\n",
       "      <th>sqft_living</th>\n",
       "      <td>0.613095</td>\n",
       "      <td>0.599596</td>\n",
       "      <td>-0.346446</td>\n",
       "      <td>1.000000</td>\n",
       "      <td>0.340155</td>\n",
       "      <td>0.108321</td>\n",
       "      <td>0.105772</td>\n",
       "      <td>0.060913</td>\n",
       "      <td>0.119879</td>\n",
       "      <td>-0.073451</td>\n",
       "      <td>...</td>\n",
       "      <td>-0.016388</td>\n",
       "      <td>0.349267</td>\n",
       "      <td>0.165528</td>\n",
       "      <td>0.043582</td>\n",
       "      <td>-0.013654</td>\n",
       "      <td>-0.063153</td>\n",
       "      <td>-0.145639</td>\n",
       "      <td>-0.349115</td>\n",
       "      <td>0.168385</td>\n",
       "      <td>0.403149</td>\n",
       "    </tr>\n",
       "    <tr>\n",
       "      <th>floors</th>\n",
       "      <td>0.245031</td>\n",
       "      <td>0.158744</td>\n",
       "      <td>-0.502628</td>\n",
       "      <td>0.340155</td>\n",
       "      <td>1.000000</td>\n",
       "      <td>-0.007404</td>\n",
       "      <td>0.008782</td>\n",
       "      <td>-0.029187</td>\n",
       "      <td>0.004772</td>\n",
       "      <td>-0.054328</td>\n",
       "      <td>...</td>\n",
       "      <td>-0.123612</td>\n",
       "      <td>0.158584</td>\n",
       "      <td>0.073183</td>\n",
       "      <td>0.016573</td>\n",
       "      <td>-0.006178</td>\n",
       "      <td>-0.029628</td>\n",
       "      <td>-0.079091</td>\n",
       "      <td>-0.226372</td>\n",
       "      <td>0.223707</td>\n",
       "      <td>0.256626</td>\n",
       "    </tr>\n",
       "    <tr>\n",
       "      <th>view_AVERAGE</th>\n",
       "      <td>0.142975</td>\n",
       "      <td>0.031172</td>\n",
       "      <td>0.048949</td>\n",
       "      <td>0.108321</td>\n",
       "      <td>-0.007404</td>\n",
       "      <td>1.000000</td>\n",
       "      <td>-0.022447</td>\n",
       "      <td>-0.024985</td>\n",
       "      <td>-0.029556</td>\n",
       "      <td>-0.013230</td>\n",
       "      <td>...</td>\n",
       "      <td>0.027045</td>\n",
       "      <td>0.036818</td>\n",
       "      <td>0.030602</td>\n",
       "      <td>0.025153</td>\n",
       "      <td>-0.001435</td>\n",
       "      <td>-0.000698</td>\n",
       "      <td>-0.008827</td>\n",
       "      <td>-0.033595</td>\n",
       "      <td>0.039776</td>\n",
       "      <td>0.054919</td>\n",
       "    </tr>\n",
       "    <tr>\n",
       "      <th>view_EXCELLENT</th>\n",
       "      <td>0.256103</td>\n",
       "      <td>0.009848</td>\n",
       "      <td>0.014121</td>\n",
       "      <td>0.105772</td>\n",
       "      <td>0.008782</td>\n",
       "      <td>-0.022447</td>\n",
       "      <td>1.000000</td>\n",
       "      <td>-0.013164</td>\n",
       "      <td>-0.015573</td>\n",
       "      <td>-0.009836</td>\n",
       "      <td>...</td>\n",
       "      <td>0.022988</td>\n",
       "      <td>0.080044</td>\n",
       "      <td>0.051345</td>\n",
       "      <td>0.024550</td>\n",
       "      <td>-0.000756</td>\n",
       "      <td>-0.003930</td>\n",
       "      <td>0.004898</td>\n",
       "      <td>-0.017722</td>\n",
       "      <td>-0.002077</td>\n",
       "      <td>0.055583</td>\n",
       "    </tr>\n",
       "    <tr>\n",
       "      <th>view_FAIR</th>\n",
       "      <td>0.091051</td>\n",
       "      <td>0.012921</td>\n",
       "      <td>0.034255</td>\n",
       "      <td>0.060913</td>\n",
       "      <td>-0.029187</td>\n",
       "      <td>-0.024985</td>\n",
       "      <td>-0.013164</td>\n",
       "      <td>1.000000</td>\n",
       "      <td>-0.017334</td>\n",
       "      <td>-0.006436</td>\n",
       "      <td>...</td>\n",
       "      <td>0.009443</td>\n",
       "      <td>0.014892</td>\n",
       "      <td>0.009772</td>\n",
       "      <td>-0.002061</td>\n",
       "      <td>-0.000841</td>\n",
       "      <td>0.018062</td>\n",
       "      <td>-0.005631</td>\n",
       "      <td>-0.019490</td>\n",
       "      <td>0.018202</td>\n",
       "      <td>0.024097</td>\n",
       "    </tr>\n",
       "    <tr>\n",
       "      <th>view_GOOD</th>\n",
       "      <td>0.169194</td>\n",
       "      <td>0.028313</td>\n",
       "      <td>0.017787</td>\n",
       "      <td>0.119879</td>\n",
       "      <td>0.004772</td>\n",
       "      <td>-0.029556</td>\n",
       "      <td>-0.015573</td>\n",
       "      <td>-0.017334</td>\n",
       "      <td>1.000000</td>\n",
       "      <td>-0.005278</td>\n",
       "      <td>...</td>\n",
       "      <td>0.002584</td>\n",
       "      <td>0.057309</td>\n",
       "      <td>0.051188</td>\n",
       "      <td>-0.002438</td>\n",
       "      <td>-0.000995</td>\n",
       "      <td>-0.005174</td>\n",
       "      <td>-0.012370</td>\n",
       "      <td>-0.031007</td>\n",
       "      <td>0.017836</td>\n",
       "      <td>0.067230</td>\n",
       "    </tr>\n",
       "    <tr>\n",
       "      <th>condition_Fair</th>\n",
       "      <td>-0.063422</td>\n",
       "      <td>-0.050373</td>\n",
       "      <td>0.071365</td>\n",
       "      <td>-0.073451</td>\n",
       "      <td>-0.054328</td>\n",
       "      <td>-0.013230</td>\n",
       "      <td>-0.009836</td>\n",
       "      <td>-0.006436</td>\n",
       "      <td>-0.005278</td>\n",
       "      <td>1.000000</td>\n",
       "      <td>...</td>\n",
       "      <td>-0.026537</td>\n",
       "      <td>-0.016298</td>\n",
       "      <td>-0.007463</td>\n",
       "      <td>-0.001540</td>\n",
       "      <td>-0.000629</td>\n",
       "      <td>0.056404</td>\n",
       "      <td>0.065300</td>\n",
       "      <td>0.076992</td>\n",
       "      <td>-0.042327</td>\n",
       "      <td>-0.031644</td>\n",
       "    </tr>\n",
       "    <tr>\n",
       "      <th>condition_Good</th>\n",
       "      <td>-0.015930</td>\n",
       "      <td>0.000392</td>\n",
       "      <td>0.277526</td>\n",
       "      <td>-0.072666</td>\n",
       "      <td>-0.256715</td>\n",
       "      <td>0.010014</td>\n",
       "      <td>0.019705</td>\n",
       "      <td>0.018469</td>\n",
       "      <td>0.021747</td>\n",
       "      <td>-0.054582</td>\n",
       "      <td>...</td>\n",
       "      <td>-0.177056</td>\n",
       "      <td>-0.059247</td>\n",
       "      <td>-0.024479</td>\n",
       "      <td>-0.003860</td>\n",
       "      <td>-0.004194</td>\n",
       "      <td>0.008448</td>\n",
       "      <td>0.019705</td>\n",
       "      <td>0.051433</td>\n",
       "      <td>-0.054621</td>\n",
       "      <td>-0.081793</td>\n",
       "    </tr>\n",
       "    <tr>\n",
       "      <th>condition_Poor</th>\n",
       "      <td>-0.022238</td>\n",
       "      <td>-0.033669</td>\n",
       "      <td>0.050583</td>\n",
       "      <td>-0.036778</td>\n",
       "      <td>-0.022467</td>\n",
       "      <td>-0.007730</td>\n",
       "      <td>0.019959</td>\n",
       "      <td>0.006291</td>\n",
       "      <td>-0.005363</td>\n",
       "      <td>-0.003387</td>\n",
       "      <td>...</td>\n",
       "      <td>-0.010988</td>\n",
       "      <td>-0.007858</td>\n",
       "      <td>-0.003090</td>\n",
       "      <td>-0.000638</td>\n",
       "      <td>-0.000260</td>\n",
       "      <td>0.034432</td>\n",
       "      <td>0.104069</td>\n",
       "      <td>0.035422</td>\n",
       "      <td>-0.018221</td>\n",
       "      <td>-0.013791</td>\n",
       "    </tr>\n",
       "    <tr>\n",
       "      <th>condition_Very Good</th>\n",
       "      <td>0.073771</td>\n",
       "      <td>0.026827</td>\n",
       "      <td>0.253137</td>\n",
       "      <td>-0.016388</td>\n",
       "      <td>-0.123612</td>\n",
       "      <td>0.027045</td>\n",
       "      <td>0.022988</td>\n",
       "      <td>0.009443</td>\n",
       "      <td>0.002584</td>\n",
       "      <td>-0.026537</td>\n",
       "      <td>...</td>\n",
       "      <td>1.000000</td>\n",
       "      <td>-0.033980</td>\n",
       "      <td>-0.024209</td>\n",
       "      <td>-0.004995</td>\n",
       "      <td>0.023688</td>\n",
       "      <td>-0.010602</td>\n",
       "      <td>0.024652</td>\n",
       "      <td>0.052368</td>\n",
       "      <td>-0.035602</td>\n",
       "      <td>-0.045176</td>\n",
       "    </tr>\n",
       "    <tr>\n",
       "      <th>grade_10 Very Good</th>\n",
       "      <td>0.367731</td>\n",
       "      <td>0.104168</td>\n",
       "      <td>-0.138868</td>\n",
       "      <td>0.349267</td>\n",
       "      <td>0.158584</td>\n",
       "      <td>0.036818</td>\n",
       "      <td>0.080044</td>\n",
       "      <td>0.014892</td>\n",
       "      <td>0.057309</td>\n",
       "      <td>-0.016298</td>\n",
       "      <td>...</td>\n",
       "      <td>-0.033980</td>\n",
       "      <td>1.000000</td>\n",
       "      <td>-0.017312</td>\n",
       "      <td>-0.003572</td>\n",
       "      <td>-0.001458</td>\n",
       "      <td>-0.007582</td>\n",
       "      <td>-0.022818</td>\n",
       "      <td>-0.069177</td>\n",
       "      <td>-0.133980</td>\n",
       "      <td>-0.077258</td>\n",
       "    </tr>\n",
       "    <tr>\n",
       "      <th>grade_11 Excellent</th>\n",
       "      <td>0.208819</td>\n",
       "      <td>0.045168</td>\n",
       "      <td>-0.056953</td>\n",
       "      <td>0.165528</td>\n",
       "      <td>0.073183</td>\n",
       "      <td>0.030602</td>\n",
       "      <td>0.051345</td>\n",
       "      <td>0.009772</td>\n",
       "      <td>0.051188</td>\n",
       "      <td>-0.007463</td>\n",
       "      <td>...</td>\n",
       "      <td>-0.024209</td>\n",
       "      <td>-0.017312</td>\n",
       "      <td>1.000000</td>\n",
       "      <td>-0.001405</td>\n",
       "      <td>-0.000573</td>\n",
       "      <td>-0.002982</td>\n",
       "      <td>-0.008973</td>\n",
       "      <td>-0.027204</td>\n",
       "      <td>-0.052688</td>\n",
       "      <td>-0.030382</td>\n",
       "    </tr>\n",
       "    <tr>\n",
       "      <th>grade_12 Luxury</th>\n",
       "      <td>0.095716</td>\n",
       "      <td>-0.003104</td>\n",
       "      <td>-0.003275</td>\n",
       "      <td>0.043582</td>\n",
       "      <td>0.016573</td>\n",
       "      <td>0.025153</td>\n",
       "      <td>0.024550</td>\n",
       "      <td>-0.002061</td>\n",
       "      <td>-0.002438</td>\n",
       "      <td>-0.001540</td>\n",
       "      <td>...</td>\n",
       "      <td>-0.004995</td>\n",
       "      <td>-0.003572</td>\n",
       "      <td>-0.001405</td>\n",
       "      <td>1.000000</td>\n",
       "      <td>-0.000118</td>\n",
       "      <td>-0.000615</td>\n",
       "      <td>-0.001852</td>\n",
       "      <td>-0.005614</td>\n",
       "      <td>-0.010872</td>\n",
       "      <td>-0.006269</td>\n",
       "    </tr>\n",
       "    <tr>\n",
       "      <th>grade_3 Poor</th>\n",
       "      <td>-0.006143</td>\n",
       "      <td>-0.018816</td>\n",
       "      <td>0.012728</td>\n",
       "      <td>-0.013654</td>\n",
       "      <td>-0.006178</td>\n",
       "      <td>-0.001435</td>\n",
       "      <td>-0.000756</td>\n",
       "      <td>-0.000841</td>\n",
       "      <td>-0.000995</td>\n",
       "      <td>-0.000629</td>\n",
       "      <td>...</td>\n",
       "      <td>0.023688</td>\n",
       "      <td>-0.001458</td>\n",
       "      <td>-0.000573</td>\n",
       "      <td>-0.000118</td>\n",
       "      <td>1.000000</td>\n",
       "      <td>-0.000251</td>\n",
       "      <td>-0.000756</td>\n",
       "      <td>-0.002291</td>\n",
       "      <td>-0.004438</td>\n",
       "      <td>-0.002559</td>\n",
       "    </tr>\n",
       "    <tr>\n",
       "      <th>grade_4 Low</th>\n",
       "      <td>-0.038570</td>\n",
       "      <td>-0.072877</td>\n",
       "      <td>0.042472</td>\n",
       "      <td>-0.063153</td>\n",
       "      <td>-0.029628</td>\n",
       "      <td>-0.000698</td>\n",
       "      <td>-0.003930</td>\n",
       "      <td>0.018062</td>\n",
       "      <td>-0.005174</td>\n",
       "      <td>0.056404</td>\n",
       "      <td>...</td>\n",
       "      <td>-0.010602</td>\n",
       "      <td>-0.007582</td>\n",
       "      <td>-0.002982</td>\n",
       "      <td>-0.000615</td>\n",
       "      <td>-0.000251</td>\n",
       "      <td>1.000000</td>\n",
       "      <td>-0.003930</td>\n",
       "      <td>-0.011914</td>\n",
       "      <td>-0.023075</td>\n",
       "      <td>-0.013306</td>\n",
       "    </tr>\n",
       "    <tr>\n",
       "      <th>grade_5 Fair</th>\n",
       "      <td>-0.101502</td>\n",
       "      <td>-0.118462</td>\n",
       "      <td>0.134693</td>\n",
       "      <td>-0.145639</td>\n",
       "      <td>-0.079091</td>\n",
       "      <td>-0.008827</td>\n",
       "      <td>0.004898</td>\n",
       "      <td>-0.005631</td>\n",
       "      <td>-0.012370</td>\n",
       "      <td>0.065300</td>\n",
       "      <td>...</td>\n",
       "      <td>0.024652</td>\n",
       "      <td>-0.022818</td>\n",
       "      <td>-0.008973</td>\n",
       "      <td>-0.001852</td>\n",
       "      <td>-0.000756</td>\n",
       "      <td>-0.003930</td>\n",
       "      <td>1.000000</td>\n",
       "      <td>-0.035856</td>\n",
       "      <td>-0.069445</td>\n",
       "      <td>-0.040044</td>\n",
       "    </tr>\n",
       "    <tr>\n",
       "      <th>grade_6 Low Average</th>\n",
       "      <td>-0.243327</td>\n",
       "      <td>-0.245866</td>\n",
       "      <td>0.317712</td>\n",
       "      <td>-0.349115</td>\n",
       "      <td>-0.226372</td>\n",
       "      <td>-0.033595</td>\n",
       "      <td>-0.017722</td>\n",
       "      <td>-0.019490</td>\n",
       "      <td>-0.031007</td>\n",
       "      <td>0.076992</td>\n",
       "      <td>...</td>\n",
       "      <td>0.052368</td>\n",
       "      <td>-0.069177</td>\n",
       "      <td>-0.027204</td>\n",
       "      <td>-0.005614</td>\n",
       "      <td>-0.002291</td>\n",
       "      <td>-0.011914</td>\n",
       "      <td>-0.035856</td>\n",
       "      <td>1.000000</td>\n",
       "      <td>-0.210540</td>\n",
       "      <td>-0.121405</td>\n",
       "    </tr>\n",
       "    <tr>\n",
       "      <th>grade_8 Good</th>\n",
       "      <td>0.087289</td>\n",
       "      <td>0.106746</td>\n",
       "      <td>-0.229890</td>\n",
       "      <td>0.168385</td>\n",
       "      <td>0.223707</td>\n",
       "      <td>0.039776</td>\n",
       "      <td>-0.002077</td>\n",
       "      <td>0.018202</td>\n",
       "      <td>0.017836</td>\n",
       "      <td>-0.042327</td>\n",
       "      <td>...</td>\n",
       "      <td>-0.035602</td>\n",
       "      <td>-0.133980</td>\n",
       "      <td>-0.052688</td>\n",
       "      <td>-0.010872</td>\n",
       "      <td>-0.004438</td>\n",
       "      <td>-0.023075</td>\n",
       "      <td>-0.069445</td>\n",
       "      <td>-0.210540</td>\n",
       "      <td>1.000000</td>\n",
       "      <td>-0.235132</td>\n",
       "    </tr>\n",
       "    <tr>\n",
       "      <th>grade_9 Better</th>\n",
       "      <td>0.345602</td>\n",
       "      <td>0.175890</td>\n",
       "      <td>-0.236748</td>\n",
       "      <td>0.403149</td>\n",
       "      <td>0.256626</td>\n",
       "      <td>0.054919</td>\n",
       "      <td>0.055583</td>\n",
       "      <td>0.024097</td>\n",
       "      <td>0.067230</td>\n",
       "      <td>-0.031644</td>\n",
       "      <td>...</td>\n",
       "      <td>-0.045176</td>\n",
       "      <td>-0.077258</td>\n",
       "      <td>-0.030382</td>\n",
       "      <td>-0.006269</td>\n",
       "      <td>-0.002559</td>\n",
       "      <td>-0.013306</td>\n",
       "      <td>-0.040044</td>\n",
       "      <td>-0.121405</td>\n",
       "      <td>-0.235132</td>\n",
>>>>>>> 72e094058c14e8d81f7edd8019d5d325d54cb26e
       "      <td>1.000000</td>\n",
       "    </tr>\n",
       "  </tbody>\n",
       "</table>\n",
<<<<<<< HEAD
       "<p>23 rows × 23 columns</p>\n",
=======
       "<p>22 rows × 22 columns</p>\n",
>>>>>>> 72e094058c14e8d81f7edd8019d5d325d54cb26e
       "</div>"
      ],
      "text/plain": [
       "                        price  bedrooms       age  sqft_living    floors  \\\n",
<<<<<<< HEAD
       "price                1.000000  0.312755 -0.100427     0.701082  0.254739   \n",
       "bedrooms             0.312755  1.000000 -0.180561     0.593033  0.182579   \n",
       "age                 -0.100427 -0.180561  1.000000    -0.344838 -0.503504   \n",
       "sqft_living          0.701082  0.593033 -0.344838     1.000000  0.352287   \n",
       "floors               0.254739  0.182579 -0.503504     0.352287  1.000000   \n",
       "view_AVERAGE         0.147009  0.045941  0.038528     0.133381  0.007671   \n",
       "view_EXCELLENT       0.305767  0.033968  0.001753     0.164523  0.024108   \n",
       "view_FAIR            0.092909  0.020607  0.028807     0.066106 -0.024552   \n",
       "view_GOOD            0.184827  0.053873  0.001160     0.160702  0.020380   \n",
       "condition_Fair      -0.051720 -0.051124  0.072737    -0.064264 -0.055388   \n",
       "condition_Good      -0.031507 -0.008723  0.282550    -0.083677 -0.258083   \n",
       "condition_Poor      -0.019989 -0.033952  0.050529    -0.033450 -0.023050   \n",
       "condition_Very Good  0.055548  0.023185  0.257864    -0.020209 -0.121899   \n",
       "grade_10 Very Good   0.342355  0.141903 -0.152061     0.371083  0.173771   \n",
       "grade_11 Excellent   0.356850  0.118091 -0.099879     0.345719  0.117714   \n",
       "grade_12 Luxury      0.281280  0.059051 -0.046578     0.227599  0.049971   \n",
       "grade_13 Mansion     0.214556  0.041815 -0.012727     0.146447  0.021354   \n",
       "grade_3 Poor        -0.005192 -0.018403  0.012654    -0.011673 -0.006240   \n",
       "grade_4 Low         -0.031872 -0.071652  0.042541    -0.054415 -0.030008   \n",
       "grade_5 Fair        -0.085185 -0.118494  0.134742    -0.128191 -0.080452   \n",
       "grade_6 Low Average -0.210542 -0.249756  0.319050    -0.314150 -0.230409   \n",
       "grade_8 Good         0.006222  0.080100 -0.208363     0.073516  0.202248   \n",
       "grade_9 Better       0.239193  0.171819 -0.228302     0.323465  0.245247   \n",
       "\n",
       "                     view_AVERAGE  view_EXCELLENT  view_FAIR  view_GOOD  \\\n",
       "price                    0.147009        0.305767   0.092909   0.184827   \n",
       "bedrooms                 0.045941        0.033968   0.020607   0.053873   \n",
       "age                      0.038528        0.001753   0.028807   0.001160   \n",
       "sqft_living              0.133381        0.164523   0.066106   0.160702   \n",
       "floors                   0.007671        0.024108  -0.024552   0.020380   \n",
       "view_AVERAGE             1.000000       -0.026282  -0.026786  -0.033495   \n",
       "view_EXCELLENT          -0.026282        1.000000  -0.015174  -0.018975   \n",
       "view_FAIR               -0.026786       -0.015174   1.000000  -0.019339   \n",
       "view_GOOD               -0.033495       -0.018975  -0.019339   1.000000   \n",
       "condition_Fair          -0.011583       -0.010900  -0.006818  -0.006970   \n",
       "condition_Good           0.008125        0.013391   0.015606   0.013767   \n",
       "condition_Poor          -0.007921        0.016608   0.005782  -0.005719   \n",
       "condition_Very Good      0.023585        0.026191   0.011669   0.004665   \n",
       "grade_10 Very Good       0.050960        0.084369   0.015166   0.076376   \n",
       "grade_11 Excellent       0.063578        0.081737   0.031333   0.081893   \n",
       "grade_12 Luxury          0.032910        0.114923   0.004156   0.038702   \n",
       "grade_13 Mansion         0.022292        0.044239  -0.003061   0.021111   \n",
       "grade_3 Poor            -0.001470       -0.000833  -0.000849  -0.001061   \n",
       "grade_4 Low             -0.001258       -0.004330   0.017050  -0.005518   \n",
       "grade_5 Fair            -0.010137        0.001651  -0.006072  -0.013697   \n",
       "grade_6 Low Average     -0.037121       -0.023541  -0.020686  -0.035573   \n",
       "grade_8 Good             0.028881       -0.012537   0.012755   0.002372   \n",
       "grade_9 Better           0.049821        0.040250   0.026162   0.063632   \n",
       "\n",
       "                     condition_Fair  ...  grade_10 Very Good  \\\n",
       "price                     -0.051720  ...            0.342355   \n",
       "bedrooms                  -0.051124  ...            0.141903   \n",
       "age                        0.072737  ...           -0.152061   \n",
       "sqft_living               -0.064264  ...            0.371083   \n",
       "floors                    -0.055388  ...            0.173771   \n",
       "view_AVERAGE              -0.011583  ...            0.050960   \n",
       "view_EXCELLENT            -0.010900  ...            0.084369   \n",
       "view_FAIR                 -0.006818  ...            0.015166   \n",
       "view_GOOD                 -0.006970  ...            0.076376   \n",
       "condition_Fair             1.000000  ...           -0.016277   \n",
       "condition_Good            -0.053339  ...           -0.066696   \n",
       "condition_Poor            -0.003285  ...           -0.008643   \n",
       "condition_Very Good       -0.026111  ...           -0.028317   \n",
       "grade_10 Very Good        -0.016277  ...            1.000000   \n",
       "grade_11 Excellent        -0.012182  ...           -0.032050   \n",
       "grade_12 Luxury           -0.005665  ...           -0.014904   \n",
       "grade_13 Mansion          -0.002199  ...           -0.005785   \n",
       "grade_3 Poor              -0.000610  ...           -0.001604   \n",
       "grade_4 Low                0.056144  ...           -0.008340   \n",
       "grade_5 Fair               0.065132  ...           -0.025093   \n",
       "grade_6 Low Average        0.077101  ...           -0.075945   \n",
       "grade_8 Good              -0.040666  ...           -0.146970   \n",
       "grade_9 Better            -0.029921  ...           -0.087199   \n",
       "\n",
       "                     grade_11 Excellent  grade_12 Luxury  grade_13 Mansion  \\\n",
       "price                          0.356850         0.281280          0.214556   \n",
       "bedrooms                       0.118091         0.059051          0.041815   \n",
       "age                           -0.099879        -0.046578         -0.012727   \n",
       "sqft_living                    0.345719         0.227599          0.146447   \n",
       "floors                         0.117714         0.049971          0.021354   \n",
       "view_AVERAGE                   0.063578         0.032910          0.022292   \n",
       "view_EXCELLENT                 0.081737         0.114923          0.044239   \n",
       "view_FAIR                      0.031333         0.004156         -0.003061   \n",
       "view_GOOD                      0.081893         0.038702          0.021111   \n",
       "condition_Fair                -0.012182        -0.005665         -0.002199   \n",
       "condition_Good                -0.037952        -0.017760         -0.006093   \n",
       "condition_Poor                -0.005015        -0.002332         -0.000905   \n",
       "condition_Very Good           -0.026939        -0.013058         -0.007194   \n",
       "grade_10 Very Good            -0.032050        -0.014904         -0.005785   \n",
       "grade_11 Excellent             1.000000        -0.008648         -0.003356   \n",
       "grade_12 Luxury               -0.008648         1.000000         -0.001561   \n",
       "grade_13 Mansion              -0.003356        -0.001561          1.000000   \n",
       "grade_3 Poor                  -0.000931        -0.000433         -0.000168   \n",
       "grade_4 Low                   -0.004839        -0.002250         -0.000873   \n",
       "grade_5 Fair                  -0.014559        -0.006770         -0.002628   \n",
       "grade_6 Low Average           -0.044064        -0.020491         -0.007953   \n",
       "grade_8 Good                  -0.085274        -0.039654         -0.015391   \n",
       "grade_9 Better                -0.050594        -0.023527         -0.009132   \n",
       "\n",
       "                     grade_3 Poor  grade_4 Low  grade_5 Fair  \\\n",
       "price                   -0.005192    -0.031872     -0.085185   \n",
       "bedrooms                -0.018403    -0.071652     -0.118494   \n",
       "age                      0.012654     0.042541      0.134742   \n",
       "sqft_living             -0.011673    -0.054415     -0.128191   \n",
       "floors                  -0.006240    -0.030008     -0.080452   \n",
       "view_AVERAGE            -0.001470    -0.001258     -0.010137   \n",
       "view_EXCELLENT          -0.000833    -0.004330      0.001651   \n",
       "view_FAIR               -0.000849     0.017050     -0.006072   \n",
       "view_GOOD               -0.001061    -0.005518     -0.013697   \n",
       "condition_Fair          -0.000610     0.056144      0.065132   \n",
       "condition_Good          -0.004075     0.008671      0.020448   \n",
       "condition_Poor          -0.000251     0.034479      0.104190   \n",
       "condition_Very Good      0.023349    -0.010371      0.024498   \n",
       "grade_10 Very Good      -0.001604    -0.008340     -0.025093   \n",
       "grade_11 Excellent      -0.000931    -0.004839     -0.014559   \n",
       "grade_12 Luxury         -0.000433    -0.002250     -0.006770   \n",
       "grade_13 Mansion        -0.000168    -0.000873     -0.002628   \n",
       "grade_3 Poor             1.000000    -0.000242     -0.000729   \n",
       "grade_4 Low             -0.000242     1.000000     -0.003788   \n",
       "grade_5 Fair            -0.000729    -0.003788      1.000000   \n",
       "grade_6 Low Average     -0.002205    -0.011466     -0.034499   \n",
       "grade_8 Good            -0.004268    -0.022188     -0.066764   \n",
       "grade_9 Better          -0.002532    -0.013165     -0.039611   \n",
       "\n",
       "                     grade_6 Low Average  grade_8 Good  grade_9 Better  \n",
       "price                          -0.210542      0.006222        0.239193  \n",
       "bedrooms                       -0.249756      0.080100        0.171819  \n",
       "age                             0.319050     -0.208363       -0.228302  \n",
       "sqft_living                    -0.314150      0.073516        0.323465  \n",
       "floors                         -0.230409      0.202248        0.245247  \n",
       "view_AVERAGE                   -0.037121      0.028881        0.049821  \n",
       "view_EXCELLENT                 -0.023541     -0.012537        0.040250  \n",
       "view_FAIR                      -0.020686      0.012755        0.026162  \n",
       "view_GOOD                      -0.035573      0.002372        0.063632  \n",
       "condition_Fair                  0.077101     -0.040666       -0.029921  \n",
       "condition_Good                  0.053703     -0.047381       -0.078442  \n",
       "condition_Poor                  0.035793     -0.017355       -0.013644  \n",
       "condition_Very Good             0.052151     -0.033116       -0.041621  \n",
       "grade_10 Very Good             -0.075945     -0.146970       -0.087199  \n",
       "grade_11 Excellent             -0.044064     -0.085274       -0.050594  \n",
       "grade_12 Luxury                -0.020491     -0.039654       -0.023527  \n",
       "grade_13 Mansion               -0.007953     -0.015391       -0.009132  \n",
       "grade_3 Poor                   -0.002205     -0.004268       -0.002532  \n",
       "grade_4 Low                    -0.011466     -0.022188       -0.013165  \n",
       "grade_5 Fair                   -0.034499     -0.066764       -0.039611  \n",
       "grade_6 Low Average             1.000000     -0.202062       -0.119885  \n",
       "grade_8 Good                   -0.202062      1.000000       -0.232004  \n",
       "grade_9 Better                 -0.119885     -0.232004        1.000000  \n",
       "\n",
       "[23 rows x 23 columns]"
      ]
     },
     "execution_count": 289,
=======
       "price                1.000000  0.276728 -0.057297     0.613095  0.245031   \n",
       "bedrooms             0.276728  1.000000 -0.162830     0.599596  0.158744   \n",
       "age                 -0.057297 -0.162830  1.000000    -0.346446 -0.502628   \n",
       "sqft_living          0.613095  0.599596 -0.346446     1.000000  0.340155   \n",
       "floors               0.245031  0.158744 -0.502628     0.340155  1.000000   \n",
       "view_AVERAGE         0.142975  0.031172  0.048949     0.108321 -0.007404   \n",
       "view_EXCELLENT       0.256103  0.009848  0.014121     0.105772  0.008782   \n",
       "view_FAIR            0.091051  0.012921  0.034255     0.060913 -0.029187   \n",
       "view_GOOD            0.169194  0.028313  0.017787     0.119879  0.004772   \n",
       "condition_Fair      -0.063422 -0.050373  0.071365    -0.073451 -0.054328   \n",
       "condition_Good      -0.015930  0.000392  0.277526    -0.072666 -0.256715   \n",
       "condition_Poor      -0.022238 -0.033669  0.050583    -0.036778 -0.022467   \n",
       "condition_Very Good  0.073771  0.026827  0.253137    -0.016388 -0.123612   \n",
       "grade_10 Very Good   0.367731  0.104168 -0.138868     0.349267  0.158584   \n",
       "grade_11 Excellent   0.208819  0.045168 -0.056953     0.165528  0.073183   \n",
       "grade_12 Luxury      0.095716 -0.003104 -0.003275     0.043582  0.016573   \n",
       "grade_3 Poor        -0.006143 -0.018816  0.012728    -0.013654 -0.006178   \n",
       "grade_4 Low         -0.038570 -0.072877  0.042472    -0.063153 -0.029628   \n",
       "grade_5 Fair        -0.101502 -0.118462  0.134693    -0.145639 -0.079091   \n",
       "grade_6 Low Average -0.243327 -0.245866  0.317712    -0.349115 -0.226372   \n",
       "grade_8 Good         0.087289  0.106746 -0.229890     0.168385  0.223707   \n",
       "grade_9 Better       0.345602  0.175890 -0.236748     0.403149  0.256626   \n",
       "\n",
       "                     view_AVERAGE  view_EXCELLENT  view_FAIR  view_GOOD  \\\n",
       "price                    0.142975        0.256103   0.091051   0.169194   \n",
       "bedrooms                 0.031172        0.009848   0.012921   0.028313   \n",
       "age                      0.048949        0.014121   0.034255   0.017787   \n",
       "sqft_living              0.108321        0.105772   0.060913   0.119879   \n",
       "floors                  -0.007404        0.008782  -0.029187   0.004772   \n",
       "view_AVERAGE             1.000000       -0.022447  -0.024985  -0.029556   \n",
       "view_EXCELLENT          -0.022447        1.000000  -0.013164  -0.015573   \n",
       "view_FAIR               -0.024985       -0.013164   1.000000  -0.017334   \n",
       "view_GOOD               -0.029556       -0.015573  -0.017334   1.000000   \n",
       "condition_Fair          -0.013230       -0.009836  -0.006436  -0.005278   \n",
       "condition_Good           0.010014        0.019705   0.018469   0.021747   \n",
       "condition_Poor          -0.007730        0.019959   0.006291  -0.005363   \n",
       "condition_Very Good      0.027045        0.022988   0.009443   0.002584   \n",
       "grade_10 Very Good       0.036818        0.080044   0.014892   0.057309   \n",
       "grade_11 Excellent       0.030602        0.051345   0.009772   0.051188   \n",
       "grade_12 Luxury          0.025153        0.024550  -0.002061  -0.002438   \n",
       "grade_3 Poor            -0.001435       -0.000756  -0.000841  -0.000995   \n",
       "grade_4 Low             -0.000698       -0.003930   0.018062  -0.005174   \n",
       "grade_5 Fair            -0.008827        0.004898  -0.005631  -0.012370   \n",
       "grade_6 Low Average     -0.033595       -0.017722  -0.019490  -0.031007   \n",
       "grade_8 Good             0.039776       -0.002077   0.018202   0.017836   \n",
       "grade_9 Better           0.054919        0.055583   0.024097   0.067230   \n",
       "\n",
       "                     condition_Fair  ...  condition_Very Good  \\\n",
       "price                     -0.063422  ...             0.073771   \n",
       "bedrooms                  -0.050373  ...             0.026827   \n",
       "age                        0.071365  ...             0.253137   \n",
       "sqft_living               -0.073451  ...            -0.016388   \n",
       "floors                    -0.054328  ...            -0.123612   \n",
       "view_AVERAGE              -0.013230  ...             0.027045   \n",
       "view_EXCELLENT            -0.009836  ...             0.022988   \n",
       "view_FAIR                 -0.006436  ...             0.009443   \n",
       "view_GOOD                 -0.005278  ...             0.002584   \n",
       "condition_Fair             1.000000  ...            -0.026537   \n",
       "condition_Good            -0.054582  ...            -0.177056   \n",
       "condition_Poor            -0.003387  ...            -0.010988   \n",
       "condition_Very Good       -0.026537  ...             1.000000   \n",
       "grade_10 Very Good        -0.016298  ...            -0.033980   \n",
       "grade_11 Excellent        -0.007463  ...            -0.024209   \n",
       "grade_12 Luxury           -0.001540  ...            -0.004995   \n",
       "grade_3 Poor              -0.000629  ...             0.023688   \n",
       "grade_4 Low                0.056404  ...            -0.010602   \n",
       "grade_5 Fair               0.065300  ...             0.024652   \n",
       "grade_6 Low Average        0.076992  ...             0.052368   \n",
       "grade_8 Good              -0.042327  ...            -0.035602   \n",
       "grade_9 Better            -0.031644  ...            -0.045176   \n",
       "\n",
       "                     grade_10 Very Good  grade_11 Excellent  grade_12 Luxury  \\\n",
       "price                          0.367731            0.208819         0.095716   \n",
       "bedrooms                       0.104168            0.045168        -0.003104   \n",
       "age                           -0.138868           -0.056953        -0.003275   \n",
       "sqft_living                    0.349267            0.165528         0.043582   \n",
       "floors                         0.158584            0.073183         0.016573   \n",
       "view_AVERAGE                   0.036818            0.030602         0.025153   \n",
       "view_EXCELLENT                 0.080044            0.051345         0.024550   \n",
       "view_FAIR                      0.014892            0.009772        -0.002061   \n",
       "view_GOOD                      0.057309            0.051188        -0.002438   \n",
       "condition_Fair                -0.016298           -0.007463        -0.001540   \n",
       "condition_Good                -0.059247           -0.024479        -0.003860   \n",
       "condition_Poor                -0.007858           -0.003090        -0.000638   \n",
       "condition_Very Good           -0.033980           -0.024209        -0.004995   \n",
       "grade_10 Very Good             1.000000           -0.017312        -0.003572   \n",
       "grade_11 Excellent            -0.017312            1.000000        -0.001405   \n",
       "grade_12 Luxury               -0.003572           -0.001405         1.000000   \n",
       "grade_3 Poor                  -0.001458           -0.000573        -0.000118   \n",
       "grade_4 Low                   -0.007582           -0.002982        -0.000615   \n",
       "grade_5 Fair                  -0.022818           -0.008973        -0.001852   \n",
       "grade_6 Low Average           -0.069177           -0.027204        -0.005614   \n",
       "grade_8 Good                  -0.133980           -0.052688        -0.010872   \n",
       "grade_9 Better                -0.077258           -0.030382        -0.006269   \n",
       "\n",
       "                     grade_3 Poor  grade_4 Low  grade_5 Fair  \\\n",
       "price                   -0.006143    -0.038570     -0.101502   \n",
       "bedrooms                -0.018816    -0.072877     -0.118462   \n",
       "age                      0.012728     0.042472      0.134693   \n",
       "sqft_living             -0.013654    -0.063153     -0.145639   \n",
       "floors                  -0.006178    -0.029628     -0.079091   \n",
       "view_AVERAGE            -0.001435    -0.000698     -0.008827   \n",
       "view_EXCELLENT          -0.000756    -0.003930      0.004898   \n",
       "view_FAIR               -0.000841     0.018062     -0.005631   \n",
       "view_GOOD               -0.000995    -0.005174     -0.012370   \n",
       "condition_Fair          -0.000629     0.056404      0.065300   \n",
       "condition_Good          -0.004194     0.008448      0.019705   \n",
       "condition_Poor          -0.000260     0.034432      0.104069   \n",
       "condition_Very Good      0.023688    -0.010602      0.024652   \n",
       "grade_10 Very Good      -0.001458    -0.007582     -0.022818   \n",
       "grade_11 Excellent      -0.000573    -0.002982     -0.008973   \n",
       "grade_12 Luxury         -0.000118    -0.000615     -0.001852   \n",
       "grade_3 Poor             1.000000    -0.000251     -0.000756   \n",
       "grade_4 Low             -0.000251     1.000000     -0.003930   \n",
       "grade_5 Fair            -0.000756    -0.003930      1.000000   \n",
       "grade_6 Low Average     -0.002291    -0.011914     -0.035856   \n",
       "grade_8 Good            -0.004438    -0.023075     -0.069445   \n",
       "grade_9 Better          -0.002559    -0.013306     -0.040044   \n",
       "\n",
       "                     grade_6 Low Average  grade_8 Good  grade_9 Better  \n",
       "price                          -0.243327      0.087289        0.345602  \n",
       "bedrooms                       -0.245866      0.106746        0.175890  \n",
       "age                             0.317712     -0.229890       -0.236748  \n",
       "sqft_living                    -0.349115      0.168385        0.403149  \n",
       "floors                         -0.226372      0.223707        0.256626  \n",
       "view_AVERAGE                   -0.033595      0.039776        0.054919  \n",
       "view_EXCELLENT                 -0.017722     -0.002077        0.055583  \n",
       "view_FAIR                      -0.019490      0.018202        0.024097  \n",
       "view_GOOD                      -0.031007      0.017836        0.067230  \n",
       "condition_Fair                  0.076992     -0.042327       -0.031644  \n",
       "condition_Good                  0.051433     -0.054621       -0.081793  \n",
       "condition_Poor                  0.035422     -0.018221       -0.013791  \n",
       "condition_Very Good             0.052368     -0.035602       -0.045176  \n",
       "grade_10 Very Good             -0.069177     -0.133980       -0.077258  \n",
       "grade_11 Excellent             -0.027204     -0.052688       -0.030382  \n",
       "grade_12 Luxury                -0.005614     -0.010872       -0.006269  \n",
       "grade_3 Poor                   -0.002291     -0.004438       -0.002559  \n",
       "grade_4 Low                    -0.011914     -0.023075       -0.013306  \n",
       "grade_5 Fair                   -0.035856     -0.069445       -0.040044  \n",
       "grade_6 Low Average             1.000000     -0.210540       -0.121405  \n",
       "grade_8 Good                   -0.210540      1.000000       -0.235132  \n",
       "grade_9 Better                 -0.121405     -0.235132        1.000000  \n",
       "\n",
       "[22 rows x 22 columns]"
      ]
     },
     "execution_count": 247,
>>>>>>> 72e094058c14e8d81f7edd8019d5d325d54cb26e
     "metadata": {},
     "output_type": "execute_result"
    }
   ],
   "source": [
    "new_set.corr()"
   ]
  },
  {
   "cell_type": "code",
<<<<<<< HEAD
   "execution_count": null,
   "metadata": {},
   "outputs": [],
   "source": []
  },
  {
   "cell_type": "code",
   "execution_count": null,
   "metadata": {},
   "outputs": [],
   "source": []
  },
  {
   "cell_type": "code",
   "execution_count": null,
   "metadata": {},
   "outputs": [],
   "source": []
  },
  {
   "cell_type": "code",
   "execution_count": null,
   "metadata": {},
   "outputs": [],
   "source": []
  },
  {
   "cell_type": "code",
   "execution_count": null,
   "metadata": {},
   "outputs": [],
   "source": []
  },
  {
   "cell_type": "code",
   "execution_count": null,
   "metadata": {},
   "outputs": [],
   "source": []
  },
  {
   "cell_type": "code",
   "execution_count": null,
   "metadata": {},
   "outputs": [],
=======
   "execution_count": 248,
   "metadata": {},
   "outputs": [
    {
     "data": {
      "text/plain": [
       "<AxesSubplot:>"
      ]
     },
     "execution_count": 248,
     "metadata": {},
     "output_type": "execute_result"
    },
    {
     "data": {
      "image/png": "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\n",
      "text/plain": [
       "<Figure size 432x288 with 1 Axes>"
      ]
     },
     "metadata": {
      "needs_background": "light"
     },
     "output_type": "display_data"
    }
   ],
   "source": [
    "#checking the distribution of y, to see if logging it will fix our broken assumptions\n",
    "y.hist(bins=20)"
   ]
  },
  {
   "cell_type": "code",
   "execution_count": 249,
   "metadata": {},
   "outputs": [],
   "source": [
    "#our distribution of prices is right tailed, logging the y value will help make this more normal\n",
    "y_log = np.log(y)"
   ]
  },
  {
   "cell_type": "code",
   "execution_count": 250,
   "metadata": {},
   "outputs": [
    {
     "data": {
      "text/plain": [
       "<AxesSubplot:>"
      ]
     },
     "execution_count": 250,
     "metadata": {},
     "output_type": "execute_result"
    },
    {
     "data": {
      "image/png": "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\n",
      "text/plain": [
       "<Figure size 432x288 with 1 Axes>"
      ]
     },
     "metadata": {
      "needs_background": "light"
     },
     "output_type": "display_data"
    }
   ],
   "source": [
    "y_log.hist()"
   ]
  },
  {
   "cell_type": "code",
   "execution_count": 251,
   "metadata": {},
   "outputs": [
    {
     "data": {
      "text/html": [
       "<table class=\"simpletable\">\n",
       "<caption>OLS Regression Results</caption>\n",
       "<tr>\n",
       "  <th>Dep. Variable:</th>          <td>price</td>      <th>  R-squared:         </th> <td>   0.573</td> \n",
       "</tr>\n",
       "<tr>\n",
       "  <th>Model:</th>                   <td>OLS</td>       <th>  Adj. R-squared:    </th> <td>   0.572</td> \n",
       "</tr>\n",
       "<tr>\n",
       "  <th>Method:</th>             <td>Least Squares</td>  <th>  F-statistic:       </th> <td>   1320.</td> \n",
       "</tr>\n",
       "<tr>\n",
       "  <th>Date:</th>             <td>Tue, 25 Oct 2022</td> <th>  Prob (F-statistic):</th>  <td>  0.00</td>  \n",
       "</tr>\n",
       "<tr>\n",
       "  <th>Time:</th>                 <td>17:46:26</td>     <th>  Log-Likelihood:    </th> <td> -5563.4</td> \n",
       "</tr>\n",
       "<tr>\n",
       "  <th>No. Observations:</th>      <td> 20704</td>      <th>  AIC:               </th> <td>1.117e+04</td>\n",
       "</tr>\n",
       "<tr>\n",
       "  <th>Df Residuals:</th>          <td> 20682</td>      <th>  BIC:               </th> <td>1.135e+04</td>\n",
       "</tr>\n",
       "<tr>\n",
       "  <th>Df Model:</th>              <td>    21</td>      <th>                     </th>     <td> </td>    \n",
       "</tr>\n",
       "<tr>\n",
       "  <th>Covariance Type:</th>      <td>nonrobust</td>    <th>                     </th>     <td> </td>    \n",
       "</tr>\n",
       "</table>\n",
       "<table class=\"simpletable\">\n",
       "<tr>\n",
       "           <td></td>              <th>coef</th>     <th>std err</th>      <th>t</th>      <th>P>|t|</th>  <th>[0.025</th>    <th>0.975]</th>  \n",
       "</tr>\n",
       "<tr>\n",
       "  <th>const</th>               <td>   12.8664</td> <td>    0.004</td> <td> 3065.135</td> <td> 0.000</td> <td>   12.858</td> <td>   12.875</td>\n",
       "</tr>\n",
       "<tr>\n",
       "  <th>bedrooms</th>            <td>   -0.0284</td> <td>    0.003</td> <td>   -9.931</td> <td> 0.000</td> <td>   -0.034</td> <td>   -0.023</td>\n",
       "</tr>\n",
       "<tr>\n",
       "  <th>age</th>                 <td>    0.1411</td> <td>    0.003</td> <td>   48.508</td> <td> 0.000</td> <td>    0.135</td> <td>    0.147</td>\n",
       "</tr>\n",
       "<tr>\n",
       "  <th>sqft_living</th>         <td>    0.1805</td> <td>    0.004</td> <td>   46.825</td> <td> 0.000</td> <td>    0.173</td> <td>    0.188</td>\n",
       "</tr>\n",
       "<tr>\n",
       "  <th>floors</th>              <td>    0.0490</td> <td>    0.003</td> <td>   18.008</td> <td> 0.000</td> <td>    0.044</td> <td>    0.054</td>\n",
       "</tr>\n",
       "<tr>\n",
       "  <th>view_AVERAGE</th>        <td>    0.1224</td> <td>    0.011</td> <td>   10.817</td> <td> 0.000</td> <td>    0.100</td> <td>    0.145</td>\n",
       "</tr>\n",
       "<tr>\n",
       "  <th>view_EXCELLENT</th>      <td>    0.4426</td> <td>    0.021</td> <td>   21.288</td> <td> 0.000</td> <td>    0.402</td> <td>    0.483</td>\n",
       "</tr>\n",
       "<tr>\n",
       "  <th>view_FAIR</th>           <td>    0.1860</td> <td>    0.019</td> <td>   10.008</td> <td> 0.000</td> <td>    0.150</td> <td>    0.222</td>\n",
       "</tr>\n",
       "<tr>\n",
       "  <th>view_GOOD</th>           <td>    0.1780</td> <td>    0.016</td> <td>   11.163</td> <td> 0.000</td> <td>    0.147</td> <td>    0.209</td>\n",
       "</tr>\n",
       "<tr>\n",
       "  <th>condition_Fair</th>      <td>   -0.1735</td> <td>    0.025</td> <td>   -6.976</td> <td> 0.000</td> <td>   -0.222</td> <td>   -0.125</td>\n",
       "</tr>\n",
       "<tr>\n",
       "  <th>condition_Good</th>      <td>    0.0140</td> <td>    0.005</td> <td>    2.545</td> <td> 0.011</td> <td>    0.003</td> <td>    0.025</td>\n",
       "</tr>\n",
       "<tr>\n",
       "  <th>condition_Poor</th>      <td>   -0.1414</td> <td>    0.059</td> <td>   -2.382</td> <td> 0.017</td> <td>   -0.258</td> <td>   -0.025</td>\n",
       "</tr>\n",
       "<tr>\n",
       "  <th>condition_Very Good</th> <td>    0.0967</td> <td>    0.009</td> <td>   10.942</td> <td> 0.000</td> <td>    0.079</td> <td>    0.114</td>\n",
       "</tr>\n",
       "<tr>\n",
       "  <th>grade_10 Very Good</th>  <td>    0.5822</td> <td>    0.014</td> <td>   42.821</td> <td> 0.000</td> <td>    0.556</td> <td>    0.609</td>\n",
       "</tr>\n",
       "<tr>\n",
       "  <th>grade_11 Excellent</th>  <td>    0.6974</td> <td>    0.028</td> <td>   24.506</td> <td> 0.000</td> <td>    0.642</td> <td>    0.753</td>\n",
       "</tr>\n",
       "<tr>\n",
       "  <th>grade_12 Luxury</th>     <td>    1.0469</td> <td>    0.130</td> <td>    8.056</td> <td> 0.000</td> <td>    0.792</td> <td>    1.302</td>\n",
       "</tr>\n",
       "<tr>\n",
       "  <th>grade_3 Poor</th>        <td>   -0.4240</td> <td>    0.317</td> <td>   -1.338</td> <td> 0.181</td> <td>   -1.045</td> <td>    0.197</td>\n",
       "</tr>\n",
       "<tr>\n",
       "  <th>grade_4 Low</th>         <td>   -0.5663</td> <td>    0.061</td> <td>   -9.217</td> <td> 0.000</td> <td>   -0.687</td> <td>   -0.446</td>\n",
       "</tr>\n",
       "<tr>\n",
       "  <th>grade_5 Fair</th>        <td>   -0.4864</td> <td>    0.021</td> <td>  -22.996</td> <td> 0.000</td> <td>   -0.528</td> <td>   -0.445</td>\n",
       "</tr>\n",
       "<tr>\n",
       "  <th>grade_6 Low Average</th> <td>   -0.2738</td> <td>    0.008</td> <td>  -33.001</td> <td> 0.000</td> <td>   -0.290</td> <td>   -0.258</td>\n",
       "</tr>\n",
       "<tr>\n",
       "  <th>grade_8 Good</th>        <td>    0.2289</td> <td>    0.006</td> <td>   37.844</td> <td> 0.000</td> <td>    0.217</td> <td>    0.241</td>\n",
       "</tr>\n",
       "<tr>\n",
       "  <th>grade_9 Better</th>      <td>    0.4374</td> <td>    0.009</td> <td>   47.546</td> <td> 0.000</td> <td>    0.419</td> <td>    0.455</td>\n",
       "</tr>\n",
       "</table>\n",
       "<table class=\"simpletable\">\n",
       "<tr>\n",
       "  <th>Omnibus:</th>       <td>34.054</td> <th>  Durbin-Watson:     </th> <td>   1.966</td>\n",
       "</tr>\n",
       "<tr>\n",
       "  <th>Prob(Omnibus):</th> <td> 0.000</td> <th>  Jarque-Bera (JB):  </th> <td>  39.052</td>\n",
       "</tr>\n",
       "<tr>\n",
       "  <th>Skew:</th>          <td>-0.045</td> <th>  Prob(JB):          </th> <td>3.31e-09</td>\n",
       "</tr>\n",
       "<tr>\n",
       "  <th>Kurtosis:</th>      <td> 3.192</td> <th>  Cond. No.          </th> <td>    210.</td>\n",
       "</tr>\n",
       "</table><br/><br/>Notes:<br/>[1] Standard Errors assume that the covariance matrix of the errors is correctly specified."
      ],
      "text/plain": [
       "<class 'statsmodels.iolib.summary.Summary'>\n",
       "\"\"\"\n",
       "                            OLS Regression Results                            \n",
       "==============================================================================\n",
       "Dep. Variable:                  price   R-squared:                       0.573\n",
       "Model:                            OLS   Adj. R-squared:                  0.572\n",
       "Method:                 Least Squares   F-statistic:                     1320.\n",
       "Date:                Tue, 25 Oct 2022   Prob (F-statistic):               0.00\n",
       "Time:                        17:46:26   Log-Likelihood:                -5563.4\n",
       "No. Observations:               20704   AIC:                         1.117e+04\n",
       "Df Residuals:                   20682   BIC:                         1.135e+04\n",
       "Df Model:                          21                                         \n",
       "Covariance Type:            nonrobust                                         \n",
       "=======================================================================================\n",
       "                          coef    std err          t      P>|t|      [0.025      0.975]\n",
       "---------------------------------------------------------------------------------------\n",
       "const                  12.8664      0.004   3065.135      0.000      12.858      12.875\n",
       "bedrooms               -0.0284      0.003     -9.931      0.000      -0.034      -0.023\n",
       "age                     0.1411      0.003     48.508      0.000       0.135       0.147\n",
       "sqft_living             0.1805      0.004     46.825      0.000       0.173       0.188\n",
       "floors                  0.0490      0.003     18.008      0.000       0.044       0.054\n",
       "view_AVERAGE            0.1224      0.011     10.817      0.000       0.100       0.145\n",
       "view_EXCELLENT          0.4426      0.021     21.288      0.000       0.402       0.483\n",
       "view_FAIR               0.1860      0.019     10.008      0.000       0.150       0.222\n",
       "view_GOOD               0.1780      0.016     11.163      0.000       0.147       0.209\n",
       "condition_Fair         -0.1735      0.025     -6.976      0.000      -0.222      -0.125\n",
       "condition_Good          0.0140      0.005      2.545      0.011       0.003       0.025\n",
       "condition_Poor         -0.1414      0.059     -2.382      0.017      -0.258      -0.025\n",
       "condition_Very Good     0.0967      0.009     10.942      0.000       0.079       0.114\n",
       "grade_10 Very Good      0.5822      0.014     42.821      0.000       0.556       0.609\n",
       "grade_11 Excellent      0.6974      0.028     24.506      0.000       0.642       0.753\n",
       "grade_12 Luxury         1.0469      0.130      8.056      0.000       0.792       1.302\n",
       "grade_3 Poor           -0.4240      0.317     -1.338      0.181      -1.045       0.197\n",
       "grade_4 Low            -0.5663      0.061     -9.217      0.000      -0.687      -0.446\n",
       "grade_5 Fair           -0.4864      0.021    -22.996      0.000      -0.528      -0.445\n",
       "grade_6 Low Average    -0.2738      0.008    -33.001      0.000      -0.290      -0.258\n",
       "grade_8 Good            0.2289      0.006     37.844      0.000       0.217       0.241\n",
       "grade_9 Better          0.4374      0.009     47.546      0.000       0.419       0.455\n",
       "==============================================================================\n",
       "Omnibus:                       34.054   Durbin-Watson:                   1.966\n",
       "Prob(Omnibus):                  0.000   Jarque-Bera (JB):               39.052\n",
       "Skew:                          -0.045   Prob(JB):                     3.31e-09\n",
       "Kurtosis:                       3.192   Cond. No.                         210.\n",
       "==============================================================================\n",
       "\n",
       "Notes:\n",
       "[1] Standard Errors assume that the covariance matrix of the errors is correctly specified.\n",
       "\"\"\""
      ]
     },
     "execution_count": 251,
     "metadata": {},
     "output_type": "execute_result"
    }
   ],
   "source": [
    "#building a model with our new log of y\n",
    "# it is IMPORTANT to remember, when presenting that we used the log of y\n",
    "\n",
    "model_logy = sm.OLS(y_log,x)\n",
    "model_logy.fit().summary()"
   ]
  },
  {
   "cell_type": "code",
   "execution_count": 252,
   "metadata": {},
   "outputs": [
    {
     "data": {
      "image/png": "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\n",
      "text/plain": [
       "<Figure size 432x288 with 1 Axes>"
      ]
     },
     "metadata": {
      "needs_background": "light"
     },
     "output_type": "display_data"
    }
   ],
   "source": [
    "linearity_test(y_log,x)"
   ]
  },
  {
   "cell_type": "code",
   "execution_count": 253,
   "metadata": {},
   "outputs": [
    {
     "data": {
      "text/plain": [
       "1.9657106293602682"
      ]
     },
     "execution_count": 253,
     "metadata": {},
     "output_type": "execute_result"
    }
   ],
   "source": [
    "independence_test_DW(y_log,x)"
   ]
  },
  {
   "cell_type": "code",
   "execution_count": 254,
   "metadata": {},
   "outputs": [
    {
     "data": {
      "image/png": "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\n",
      "text/plain": [
       "<Figure size 432x288 with 1 Axes>"
      ]
     },
     "metadata": {
      "needs_background": "light"
     },
     "output_type": "display_data"
    }
   ],
   "source": [
    "normality_test(y_log,x)"
   ]
  },
  {
   "cell_type": "code",
   "execution_count": 255,
   "metadata": {},
   "outputs": [
    {
     "data": {
      "image/png": "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\n",
      "text/plain": [
       "<Figure size 432x288 with 1 Axes>"
      ]
     },
     "metadata": {
      "needs_background": "light"
     },
     "output_type": "display_data"
    }
   ],
   "source": [
    "homoskedasticity_test(y_log,x)"
   ]
  },
  {
   "cell_type": "code",
   "execution_count": 258,
   "metadata": {},
   "outputs": [
    {
     "ename": "ValueError",
     "evalue": "regplot inputs must be 1d",
     "output_type": "error",
     "traceback": [
      "\u001b[1;31m---------------------------------------------------------------------------\u001b[0m",
      "\u001b[1;31mValueError\u001b[0m                                Traceback (most recent call last)",
      "\u001b[1;32m<ipython-input-258-6e79a38f985c>\u001b[0m in \u001b[0;36m<module>\u001b[1;34m\u001b[0m\n\u001b[1;32m----> 1\u001b[1;33m \u001b[0msns\u001b[0m\u001b[1;33m.\u001b[0m\u001b[0mresidplot\u001b[0m\u001b[1;33m(\u001b[0m\u001b[0mx\u001b[0m\u001b[1;33m=\u001b[0m\u001b[0mx\u001b[0m\u001b[1;33m,\u001b[0m\u001b[0my\u001b[0m\u001b[1;33m=\u001b[0m\u001b[0my_log\u001b[0m\u001b[1;33m)\u001b[0m\u001b[1;33m\u001b[0m\u001b[1;33m\u001b[0m\u001b[0m\n\u001b[0m",
      "\u001b[1;32m~\\anaconda3_1\\envs\\learn-env\\lib\\site-packages\\seaborn\\_decorators.py\u001b[0m in \u001b[0;36minner_f\u001b[1;34m(*args, **kwargs)\u001b[0m\n\u001b[0;32m     44\u001b[0m             )\n\u001b[0;32m     45\u001b[0m         \u001b[0mkwargs\u001b[0m\u001b[1;33m.\u001b[0m\u001b[0mupdate\u001b[0m\u001b[1;33m(\u001b[0m\u001b[1;33m{\u001b[0m\u001b[0mk\u001b[0m\u001b[1;33m:\u001b[0m \u001b[0marg\u001b[0m \u001b[1;32mfor\u001b[0m \u001b[0mk\u001b[0m\u001b[1;33m,\u001b[0m \u001b[0marg\u001b[0m \u001b[1;32min\u001b[0m \u001b[0mzip\u001b[0m\u001b[1;33m(\u001b[0m\u001b[0msig\u001b[0m\u001b[1;33m.\u001b[0m\u001b[0mparameters\u001b[0m\u001b[1;33m,\u001b[0m \u001b[0margs\u001b[0m\u001b[1;33m)\u001b[0m\u001b[1;33m}\u001b[0m\u001b[1;33m)\u001b[0m\u001b[1;33m\u001b[0m\u001b[1;33m\u001b[0m\u001b[0m\n\u001b[1;32m---> 46\u001b[1;33m         \u001b[1;32mreturn\u001b[0m \u001b[0mf\u001b[0m\u001b[1;33m(\u001b[0m\u001b[1;33m**\u001b[0m\u001b[0mkwargs\u001b[0m\u001b[1;33m)\u001b[0m\u001b[1;33m\u001b[0m\u001b[1;33m\u001b[0m\u001b[0m\n\u001b[0m\u001b[0;32m     47\u001b[0m     \u001b[1;32mreturn\u001b[0m \u001b[0minner_f\u001b[0m\u001b[1;33m\u001b[0m\u001b[1;33m\u001b[0m\u001b[0m\n\u001b[0;32m     48\u001b[0m \u001b[1;33m\u001b[0m\u001b[0m\n",
      "\u001b[1;32m~\\anaconda3_1\\envs\\learn-env\\lib\\site-packages\\seaborn\\regression.py\u001b[0m in \u001b[0;36mresidplot\u001b[1;34m(x, y, data, lowess, x_partial, y_partial, order, robust, dropna, label, color, scatter_kws, line_kws, ax)\u001b[0m\n\u001b[0;32m   1066\u001b[0m \u001b[1;33m\u001b[0m\u001b[0m\n\u001b[0;32m   1067\u001b[0m     \"\"\"\n\u001b[1;32m-> 1068\u001b[1;33m     plotter = _RegressionPlotter(x, y, data, ci=None,\n\u001b[0m\u001b[0;32m   1069\u001b[0m                                  \u001b[0morder\u001b[0m\u001b[1;33m=\u001b[0m\u001b[0morder\u001b[0m\u001b[1;33m,\u001b[0m \u001b[0mrobust\u001b[0m\u001b[1;33m=\u001b[0m\u001b[0mrobust\u001b[0m\u001b[1;33m,\u001b[0m\u001b[1;33m\u001b[0m\u001b[1;33m\u001b[0m\u001b[0m\n\u001b[0;32m   1070\u001b[0m                                  \u001b[0mx_partial\u001b[0m\u001b[1;33m=\u001b[0m\u001b[0mx_partial\u001b[0m\u001b[1;33m,\u001b[0m \u001b[0my_partial\u001b[0m\u001b[1;33m=\u001b[0m\u001b[0my_partial\u001b[0m\u001b[1;33m,\u001b[0m\u001b[1;33m\u001b[0m\u001b[1;33m\u001b[0m\u001b[0m\n",
      "\u001b[1;32m~\\anaconda3_1\\envs\\learn-env\\lib\\site-packages\\seaborn\\regression.py\u001b[0m in \u001b[0;36m__init__\u001b[1;34m(self, x, y, data, x_estimator, x_bins, x_ci, scatter, fit_reg, ci, n_boot, units, seed, order, logistic, lowess, robust, logx, x_partial, y_partial, truncate, dropna, x_jitter, y_jitter, color, label)\u001b[0m\n\u001b[0;32m    107\u001b[0m \u001b[1;33m\u001b[0m\u001b[0m\n\u001b[0;32m    108\u001b[0m         \u001b[1;31m# Extract the data vals from the arguments or passed dataframe\u001b[0m\u001b[1;33m\u001b[0m\u001b[1;33m\u001b[0m\u001b[1;33m\u001b[0m\u001b[0m\n\u001b[1;32m--> 109\u001b[1;33m         self.establish_variables(data, x=x, y=y, units=units,\n\u001b[0m\u001b[0;32m    110\u001b[0m                                  x_partial=x_partial, y_partial=y_partial)\n\u001b[0;32m    111\u001b[0m \u001b[1;33m\u001b[0m\u001b[0m\n",
      "\u001b[1;32m~\\anaconda3_1\\envs\\learn-env\\lib\\site-packages\\seaborn\\regression.py\u001b[0m in \u001b[0;36mestablish_variables\u001b[1;34m(self, data, **kws)\u001b[0m\n\u001b[0;32m     53\u001b[0m             \u001b[1;32mif\u001b[0m \u001b[0mnp\u001b[0m\u001b[1;33m.\u001b[0m\u001b[0mndim\u001b[0m\u001b[1;33m(\u001b[0m\u001b[0mvector\u001b[0m\u001b[1;33m)\u001b[0m \u001b[1;33m>\u001b[0m \u001b[1;36m1\u001b[0m\u001b[1;33m:\u001b[0m\u001b[1;33m\u001b[0m\u001b[1;33m\u001b[0m\u001b[0m\n\u001b[0;32m     54\u001b[0m                 \u001b[0merr\u001b[0m \u001b[1;33m=\u001b[0m \u001b[1;34m\"regplot inputs must be 1d\"\u001b[0m\u001b[1;33m\u001b[0m\u001b[1;33m\u001b[0m\u001b[0m\n\u001b[1;32m---> 55\u001b[1;33m                 \u001b[1;32mraise\u001b[0m \u001b[0mValueError\u001b[0m\u001b[1;33m(\u001b[0m\u001b[0merr\u001b[0m\u001b[1;33m)\u001b[0m\u001b[1;33m\u001b[0m\u001b[1;33m\u001b[0m\u001b[0m\n\u001b[0m\u001b[0;32m     56\u001b[0m             \u001b[0msetattr\u001b[0m\u001b[1;33m(\u001b[0m\u001b[0mself\u001b[0m\u001b[1;33m,\u001b[0m \u001b[0mvar\u001b[0m\u001b[1;33m,\u001b[0m \u001b[0mvector\u001b[0m\u001b[1;33m)\u001b[0m\u001b[1;33m\u001b[0m\u001b[1;33m\u001b[0m\u001b[0m\n\u001b[0;32m     57\u001b[0m \u001b[1;33m\u001b[0m\u001b[0m\n",
      "\u001b[1;31mValueError\u001b[0m: regplot inputs must be 1d"
     ]
    }
   ],
>>>>>>> 72e094058c14e8d81f7edd8019d5d325d54cb26e
   "source": []
  },
  {
   "cell_type": "code",
   "execution_count": null,
   "metadata": {},
   "outputs": [],
   "source": []
  }
 ],
 "metadata": {
  "kernelspec": {
   "display_name": "Python (learn-env)",
   "language": "python",
   "name": "learn-env"
  },
  "language_info": {
   "codemirror_mode": {
    "name": "ipython",
    "version": 3
   },
   "file_extension": ".py",
   "mimetype": "text/x-python",
   "name": "python",
   "nbconvert_exporter": "python",
   "pygments_lexer": "ipython3",
   "version": "3.8.5"
  }
 },
 "nbformat": 4,
 "nbformat_minor": 4
}
